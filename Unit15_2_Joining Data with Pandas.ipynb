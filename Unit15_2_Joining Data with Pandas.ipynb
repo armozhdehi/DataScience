{
  "nbformat": 4,
  "nbformat_minor": 0,
  "metadata": {
    "colab": {
      "provenance": [],
      "authorship_tag": "ABX9TyNIFMrJze6Xrc9QU1RyBgFQ",
      "include_colab_link": true
    },
    "kernelspec": {
      "name": "python3",
      "display_name": "Python 3"
    },
    "language_info": {
      "name": "python"
    }
  },
  "cells": [
    {
      "cell_type": "markdown",
      "metadata": {
        "id": "view-in-github",
        "colab_type": "text"
      },
      "source": [
        "<a href=\"https://colab.research.google.com/github/namozhdehi/DataScience/blob/main/Unit15_2_Joining%20Data%20with%20Pandas.ipynb\" target=\"_parent\"><img src=\"https://colab.research.google.com/assets/colab-badge.svg\" alt=\"Open In Colab\"/></a>"
      ]
    },
    {
      "cell_type": "markdown",
      "source": [
        "# **Unit 15**\n",
        "# **Joining Data with Pandas**"
      ],
      "metadata": {
        "id": "l3ZHNn_1G0Ek"
      }
    },
    {
      "cell_type": "code",
      "execution_count": null,
      "metadata": {
        "id": "IzJjZU01Gy0I"
      },
      "outputs": [],
      "source": [
        "# Merge the taxi_owners and taxi_veh tables\n",
        "taxi_own_veh = taxi_owners.merge(taxi_veh, on = 'vid')\n",
        "\n",
        "# Print the column names of the taxi_own_veh\n",
        "print(taxi_own_veh.columns)"
      ]
    },
    {
      "cell_type": "code",
      "source": [
        "# Merge the taxi_owners and taxi_veh tables setting a suffix\n",
        "taxi_own_veh = taxi_owners.merge(taxi_veh, on='vid', suffixes = ('_own',  '_veh'))\n",
        "\n",
        "# Print the column names of taxi_own_veh\n",
        "print(taxi_own_veh.columns)"
      ],
      "metadata": {
        "id": "4M5FLVXEIim1"
      },
      "execution_count": null,
      "outputs": []
    },
    {
      "cell_type": "code",
      "source": [
        "# Merge the taxi_owners and taxi_veh tables setting a suffix\n",
        "taxi_own_veh = taxi_owners.merge(taxi_veh, on='vid', suffixes=('_own','_veh'))\n",
        "\n",
        "# Print the value_counts to find the most popular fuel_type\n",
        "print(taxi_own_veh['fuel_type'].value_counts())"
      ],
      "metadata": {
        "id": "w2LaJ9AHJFaT"
      },
      "execution_count": null,
      "outputs": []
    },
    {
      "cell_type": "code",
      "source": [
        "# Merge the licenses and biz_owners table on account\n",
        "licenses_owners = licenses.merge(biz_owners, on = 'account')\n",
        "\n",
        "# Group the results by title then count the number of accounts\n",
        "counted_df = licenses_owners.groupby('title').agg({'account':'count'})\n",
        "\n",
        "# Sort the counted_df in desending order\n",
        "sorted_df = counted_df.sort_values('account', ascending = False)\n",
        "\n",
        "# Use .head() method to print the first few rows of sorted_df\n",
        "print(sorted_df.head())"
      ],
      "metadata": {
        "colab": {
          "base_uri": "https://localhost:8080/",
          "height": 211
        },
        "id": "cinbSSV5JphT",
        "outputId": "fd61908f-bd93-4691-c23a-64ee7fa76c47"
      },
      "execution_count": 1,
      "outputs": [
        {
          "output_type": "error",
          "ename": "NameError",
          "evalue": "name 'licenses' is not defined",
          "traceback": [
            "\u001b[0;31m---------------------------------------------------------------------------\u001b[0m",
            "\u001b[0;31mNameError\u001b[0m                                 Traceback (most recent call last)",
            "\u001b[0;32m<ipython-input-1-de5f8e577b2d>\u001b[0m in \u001b[0;36m<cell line: 2>\u001b[0;34m()\u001b[0m\n\u001b[1;32m      1\u001b[0m \u001b[0;31m# Merge the licenses and biz_owners table on account\u001b[0m\u001b[0;34m\u001b[0m\u001b[0;34m\u001b[0m\u001b[0m\n\u001b[0;32m----> 2\u001b[0;31m \u001b[0mlicenses_owners\u001b[0m \u001b[0;34m=\u001b[0m \u001b[0mlicenses\u001b[0m\u001b[0;34m.\u001b[0m\u001b[0mmerge\u001b[0m\u001b[0;34m(\u001b[0m\u001b[0mbiz_owners\u001b[0m\u001b[0;34m,\u001b[0m \u001b[0mon\u001b[0m \u001b[0;34m=\u001b[0m \u001b[0;34m'account'\u001b[0m\u001b[0;34m)\u001b[0m\u001b[0;34m\u001b[0m\u001b[0;34m\u001b[0m\u001b[0m\n\u001b[0m\u001b[1;32m      3\u001b[0m \u001b[0;34m\u001b[0m\u001b[0m\n\u001b[1;32m      4\u001b[0m \u001b[0;31m# Group the results by title then count the number of accounts\u001b[0m\u001b[0;34m\u001b[0m\u001b[0;34m\u001b[0m\u001b[0m\n\u001b[1;32m      5\u001b[0m \u001b[0mcounted_df\u001b[0m \u001b[0;34m=\u001b[0m \u001b[0mlicenses_owners\u001b[0m\u001b[0;34m.\u001b[0m\u001b[0mgroupby\u001b[0m\u001b[0;34m(\u001b[0m\u001b[0;34m'title'\u001b[0m\u001b[0;34m)\u001b[0m\u001b[0;34m.\u001b[0m\u001b[0magg\u001b[0m\u001b[0;34m(\u001b[0m\u001b[0;34m{\u001b[0m\u001b[0;34m'account'\u001b[0m\u001b[0;34m:\u001b[0m\u001b[0;34m'count'\u001b[0m\u001b[0;34m}\u001b[0m\u001b[0;34m)\u001b[0m\u001b[0;34m\u001b[0m\u001b[0;34m\u001b[0m\u001b[0m\n",
            "\u001b[0;31mNameError\u001b[0m: name 'licenses' is not defined"
          ]
        }
      ]
    },
    {
      "cell_type": "markdown",
      "source": [
        "# **Merge Multiple Tables**"
      ],
      "metadata": {
        "id": "EXtTN7Y_XVmN"
      }
    },
    {
      "cell_type": "code",
      "source": [
        "# Merge the ridership and cal tables\n",
        "ridership_cal = ridership.merge(cal, on = ['year', 'month', 'day'])"
      ],
      "metadata": {
        "id": "i6I-ugjUVHkX"
      },
      "execution_count": null,
      "outputs": []
    },
    {
      "cell_type": "code",
      "source": [
        "# Merge the ridership, cal, and stations tables\n",
        "ridership_cal_stations = ridership.merge(cal, on=['year','month','day']) \\\n",
        "            \t\t\t\t.merge(stations , on ='station_id')"
      ],
      "metadata": {
        "id": "tUC7kALIXLKf"
      },
      "execution_count": null,
      "outputs": []
    },
    {
      "cell_type": "code",
      "source": [
        "# Merge the ridership, cal, and stations tables\n",
        "ridership_cal_stations = ridership.merge(cal, on=['year','month','day']) \\\n",
        "\t\t\t\t\t\t\t.merge(stations, on='station_id')\n",
        "\n",
        "# Create a filter to filter ridership_cal_stations\n",
        "filter_criteria = ((ridership_cal_stations['month'] == 7)\n",
        "                   & (ridership_cal_stations['day_type'] == 'Weekday')\n",
        "                   & (ridership_cal_stations['station_name'] == 'Wilson'))\n",
        "\n",
        "# Use .loc and the filter to select for rides\n",
        "print(ridership_cal_stations.loc[filter_criteria, 'rides'].sum())"
      ],
      "metadata": {
        "id": "GXOw48ujXahh"
      },
      "execution_count": null,
      "outputs": []
    },
    {
      "cell_type": "code",
      "source": [
        "# Merge licenses and zip_demo, on zip; and merge the wards on ward\n",
        "licenses_zip_ward = licenses.merge(zip_demo, on = 'zip') \\\n",
        "            \t\t\t.merge(wards, on = 'ward')\n",
        "\n",
        "# Print the results by alderman and show median income\n",
        "print(licenses_zip_ward.groupby('alderman').agg({'income':'median'}))"
      ],
      "metadata": {
        "id": "ZlZJX3_6XabE"
      },
      "execution_count": null,
      "outputs": []
    },
    {
      "cell_type": "code",
      "source": [
        "# Merge land_use and census and merge result with licenses including suffixes\n",
        "land_cen_lic = land_use.merge(census, on = 'ward') \\\n",
        "                       .merge(licenses, on = 'ward', suffixes = ('_cen', '_lic'))"
      ],
      "metadata": {
        "id": "o80dbOQuXaT4"
      },
      "execution_count": null,
      "outputs": []
    },
    {
      "cell_type": "code",
      "source": [
        "# Merge land_use and census and merge result with licenses including suffixes\n",
        "land_cen_lic = land_use.merge(census, on='ward') \\\n",
        "                    .merge(licenses, on='ward', suffixes=('_cen','_lic'))\n",
        "\n",
        "# Group by ward, pop_2010, and vacant, then count the # of accounts\n",
        "pop_vac_lic = land_cen_lic.groupby(['ward', 'pop_2010', 'vacant'],\n",
        "                                   as_index=False).agg({'account':'count'})"
      ],
      "metadata": {
        "id": "_VcfZuz-aHHd"
      },
      "execution_count": null,
      "outputs": []
    },
    {
      "cell_type": "code",
      "source": [
        "# Merge land_use and census and merge result with licenses including suffixes\n",
        "land_cen_lic = land_use.merge(census, on='ward') \\\n",
        "                    .merge(licenses, on='ward', suffixes=('_cen','_lic'))\n",
        "\n",
        "# Group by ward, pop_2010, and vacant, then count the # of accounts\n",
        "pop_vac_lic = land_cen_lic.groupby(['ward','pop_2010','vacant'],\n",
        "                                   as_index=False).agg({'account':'count'})\n",
        "\n",
        "# Sort pop_vac_lic and print the results\n",
        "sorted_pop_vac_lic = pop_vac_lic.sort_values(['vacant', 'account', 'pop_2010'],\n",
        "                                             ascending=[False, True, True])\n",
        "\n",
        "# Print the top few rows of sorted_pop_vac_lic\n",
        "print(sorted_pop_vac_lic.head())"
      ],
      "metadata": {
        "id": "somjyWClaSIS"
      },
      "execution_count": null,
      "outputs": []
    },
    {
      "cell_type": "code",
      "source": [
        "# Merge movies and financials with a left join\n",
        "movies_financials = movies.merge(financials, on = 'id', how='left')"
      ],
      "metadata": {
        "id": "ce3l1ueBaYGn"
      },
      "execution_count": null,
      "outputs": []
    },
    {
      "cell_type": "code",
      "source": [
        "# Merge the movies table with the financials table with a left join\n",
        "movies_financials = movies.merge(financials, on='id', how='left')\n",
        "\n",
        "# Count the number of rows in the budget column that are missing\n",
        "number_of_missing_fin = movies_financials['budget'].isna().sum()\n",
        "\n",
        "# Print the number of movies missing financials\n",
        "print(number_of_missing_fin)"
      ],
      "metadata": {
        "id": "UdBz5pFMaYDT"
      },
      "execution_count": null,
      "outputs": []
    },
    {
      "cell_type": "code",
      "source": [
        "# Merge the toy_story and taglines tables with a inner join\n",
        "toystory_tag = toy_story.merge(taglines, on = 'id')\n",
        "\n",
        "# Print the rows and shape of toystory_tag\n",
        "print(toystory_tag)\n",
        "print(toystory_tag.shape)"
      ],
      "metadata": {
        "id": "uw_Vgwq5aYAC"
      },
      "execution_count": null,
      "outputs": []
    },
    {
      "cell_type": "code",
      "source": [
        "# Merge action_movies to scifi_movies with right join\n",
        "action_scifi = action_movies.merge(scifi_movies , on = 'movie_id', how = 'right')"
      ],
      "metadata": {
        "id": "jERT5dPBgHR_"
      },
      "execution_count": null,
      "outputs": []
    },
    {
      "cell_type": "code",
      "source": [
        "# Merge action_movies to scifi_movies with right join\n",
        "action_scifi = action_movies.merge(scifi_movies, on='movie_id', how='right',\n",
        "                                   suffixes = ['_act', '_sci'])\n",
        "\n",
        "# Print the first few rows of action_scifi to see the structure\n",
        "print(action_scifi.head())"
      ],
      "metadata": {
        "id": "n5RnTyBigHMU"
      },
      "execution_count": null,
      "outputs": []
    },
    {
      "cell_type": "code",
      "source": [
        "# Merge action_movies to the scifi_movies with right join\n",
        "action_scifi = action_movies.merge(scifi_movies, on='movie_id', how='right',\n",
        "                                   suffixes=('_act','_sci'))\n",
        "\n",
        "# From action_scifi, select only the rows where the genre_act column is null\n",
        "scifi_only =  action_scifi.loc[action_scifi['genre_act'].isnull()]"
      ],
      "metadata": {
        "id": "HBoqvOm-gHJU"
      },
      "execution_count": null,
      "outputs": []
    },
    {
      "cell_type": "code",
      "source": [
        "# Merge action_movies to the scifi_movies with right join\n",
        "action_scifi = action_movies.merge(scifi_movies, on='movie_id', how='right',\n",
        "                                   suffixes=('_act','_sci'))\n",
        "\n",
        "# From action_scifi, select only the rows where the genre_act column is null\n",
        "scifi_only = action_scifi[action_scifi['genre_act'].isnull()]\n",
        "\n",
        "# Merge the movies and scifi_only tables with an inner join\n",
        "movies_and_scifi_only = movies.merge(scifi_only, left_on = 'id', right_on='movie_id')\n",
        "\n",
        "# Print the first few rows and shape of movies_and_scifi_only\n",
        "print(movies_and_scifi_only.head())\n",
        "print(movies_and_scifi_only.shape)"
      ],
      "metadata": {
        "id": "VlVVMY7VgHGW"
      },
      "execution_count": null,
      "outputs": []
    },
    {
      "cell_type": "code",
      "source": [
        "# Use right join to merge the movie_to_genres and pop_movies tables\n",
        "genres_movies = movie_to_genres.merge(pop_movies, how='right',\n",
        "                                      left_on = 'movie_id',\n",
        "                                      right_on = 'id')\n",
        "\n",
        "# Count the number of genres\n",
        "genre_count = genres_movies.groupby('genre').agg({'id':'count'})\n",
        "\n",
        "# Plot a bar chart of the genre_count\n",
        "genre_count.plot(kind='bar')\n",
        "plt.show()"
      ],
      "metadata": {
        "id": "FmL_9bd1jeBd"
      },
      "execution_count": null,
      "outputs": []
    },
    {
      "cell_type": "code",
      "source": [
        "# Merge iron_1_actors to iron_2_actors on id with outer join using suffixes\n",
        "iron_1_and_2 = iron_1_actors.merge(iron_2_actors,\n",
        "                                     on = 'id',\n",
        "                                     how = 'outer',\n",
        "                                     suffixes=('_1','_2'))\n",
        "\n",
        "# Create an index that returns true if name_1 or name_2 are null\n",
        "m = ((iron_1_and_2['name_1'].isnull()) |\n",
        "     (iron_1_and_2['name_2'].isnull()))\n",
        "\n",
        "# Print the first few rows of iron_1_and_2\n",
        "print(iron_1_and_2[m].head())"
      ],
      "metadata": {
        "id": "QwSjT21hjd-K"
      },
      "execution_count": null,
      "outputs": []
    },
    {
      "cell_type": "code",
      "source": [
        "# Merge the crews table to itself\n",
        "crews_self_merged = crews.merge(crews, on = 'id', suffixes = ('_dir' , '_crew'))"
      ],
      "metadata": {
        "id": "3-6fOQsIjd6v"
      },
      "execution_count": null,
      "outputs": []
    },
    {
      "cell_type": "code",
      "source": [
        "# Merge the crews table to itself\n",
        "crews_self_merged = crews.merge(crews, on='id', how='inner',\n",
        "                                suffixes=('_dir','_crew'))\n",
        "\n",
        "# Create a boolean index to select the appropriate rows\n",
        "boolean_filter = ((crews_self_merged['job_dir'] == 'Director') &\n",
        "                  (crews_self_merged['job_crew'] != 'Director'))\n",
        "direct_crews = crews_self_merged[boolean_filter]\n",
        "\n",
        "# Print the first few rows of direct_crews\n",
        "print(direct_crews.head())"
      ],
      "metadata": {
        "id": "cRIzf0TulUwn"
      },
      "execution_count": null,
      "outputs": []
    },
    {
      "cell_type": "code",
      "source": [
        "# Merge to the movies table the ratings table on the index\n",
        "movies_ratings = movies.merge(ratings, left_index=True, right_index=True, how = 'left')\n",
        "\n",
        "# Print the first few rows of movies_ratings\n",
        "print(movies_ratings.head())"
      ],
      "metadata": {
        "id": "fFyrMO_klUrM"
      },
      "execution_count": null,
      "outputs": []
    },
    {
      "cell_type": "code",
      "source": [
        "# Merge sequels and financials on index id\n",
        "sequels_fin = sequels.merge(financials, on = 'id', how= 'left')"
      ],
      "metadata": {
        "id": "qqVPui5glUoH"
      },
      "execution_count": null,
      "outputs": []
    },
    {
      "cell_type": "code",
      "source": [
        "# Merge sequels and financials on index id\n",
        "sequels_fin = sequels.merge(financials, on='id', how='left')\n",
        "\n",
        "# Self merge with suffixes as inner join with left on sequel and right on id\n",
        "orig_seq = sequels_fin.merge(sequels_fin, how='inner', left_on='sequel',\n",
        "                             right_on=True, right_index='id',\n",
        "                             suffixes=('_org','_seq'))\n",
        "\n",
        "# Add calculation to subtract revenue_org from revenue_seq\n",
        "orig_seq['diff'] = orig_seq['revenue_seq'] - orig_seq['revenue_org']"
      ],
      "metadata": {
        "id": "TVmKnZ5yvGC_"
      },
      "execution_count": null,
      "outputs": []
    },
    {
      "cell_type": "code",
      "source": [
        "# Merge sequels and financials on index id\n",
        "sequels_fin = sequels.merge(financials, on='id', how='left')\n",
        "\n",
        "# Self merge with suffixes as inner join with left on sequel and right on id\n",
        "orig_seq = sequels_fin.merge(sequels_fin, how='inner', left_on='sequel',\n",
        "                             right_on='id', right_index=True,\n",
        "                             suffixes=('_org','_seq'))\n",
        "\n",
        "# Add calculation to subtract revenue_org from revenue_seq\n",
        "orig_seq['diff'] = orig_seq['revenue_seq'] - orig_seq['revenue_org']"
      ],
      "metadata": {
        "id": "DeP5A0u5vzgO"
      },
      "execution_count": null,
      "outputs": []
    },
    {
      "cell_type": "code",
      "source": [
        "# Merge sequels and financials on index id\n",
        "sequels_fin = sequels.merge(financials, on='id', how='left')\n",
        "\n",
        "# Self merge with suffixes as inner join with left on sequel and right on id\n",
        "orig_seq = sequels_fin.merge(sequels_fin, how='inner', left_on='sequel',\n",
        "                             right_on='id', right_index=True,\n",
        "                             suffixes=('_org','_seq'))\n",
        "\n",
        "# Add calculation to subtract revenue_org from revenue_seq\n",
        "orig_seq['diff'] = orig_seq['revenue_seq'] - orig_seq['revenue_org']\n",
        "\n",
        "# Select the title_org, title_seq, and diff\n",
        "titles_diff = orig_seq[['title_org','title_seq','diff']]\n",
        "\n",
        "# Print the first rows of the sorted titles_diff\n",
        "print(titles_diff.sort_values('diff', ascending = False).head())"
      ],
      "metadata": {
        "id": "saVWrw88vzbT"
      },
      "execution_count": null,
      "outputs": []
    },
    {
      "cell_type": "markdown",
      "source": [
        "# **Filtering joins**"
      ],
      "metadata": {
        "id": "zWRRxGXuwP3B"
      }
    },
    {
      "cell_type": "code",
      "source": [
        "# Merge employees and top_cust\n",
        "empl_cust = employees.merge(top_cust, on='srid',\n",
        "                                 how='left', indicator=True)\n",
        "\n",
        "# Select the srid column where _merge is left_only\n",
        "srid_list = empl_cust.loc[empl_cust['_merge'] == 'left_only', 'srid']\n",
        "\n",
        "# Get employees not working with top customers\n",
        "print(employees[employees['srid'].isin(srid_list)])"
      ],
      "metadata": {
        "id": "OD4dY8E9vzXl"
      },
      "execution_count": null,
      "outputs": []
    },
    {
      "cell_type": "code",
      "source": [
        "# Merge the non_mus_tck and top_invoices tables on tid\n",
        "tracks_invoices = non_mus_tcks.merge(top_invoices, on='tid', how='inner')\n",
        "\n",
        "# Use .isin() to subset non_mus_tcks to rows with tid in tracks_invoices\n",
        "top_tracks = non_mus_tcks[non_mus_tcks['tid'].isin(tracks_invoices['tid'])]\n",
        "\n",
        "# Group the top_tracks by gid and count the tid rows\n",
        "cnt_by_gid = top_tracks.groupby(['gid'], as_index=False).agg({'tid':'count'})\n",
        "\n",
        "# Merge the genres table to cnt_by_gid on gid and print\n",
        "print(cnt_by_gid.merge(genres, on='gid'))"
      ],
      "metadata": {
        "id": "OHTlGw0dzU4l"
      },
      "execution_count": null,
      "outputs": []
    },
    {
      "cell_type": "code",
      "source": [
        "# Concatenate the tracks\n",
        "tracks_from_albums = pd.concat([tracks_master, tracks_ride, tracks_st],\n",
        "                               sort=True)\n",
        "print(tracks_from_albums)"
      ],
      "metadata": {
        "id": "PDMxQlbt04NJ"
      },
      "execution_count": null,
      "outputs": []
    },
    {
      "cell_type": "code",
      "source": [
        "# Concatenate the tracks so the index goes from 0 to n-1\n",
        "tracks_from_albums = pd.concat([tracks_master, tracks_ride, tracks_st],\n",
        "                               ignore_index=True,\n",
        "                               sort=True)\n",
        "print(tracks_from_albums)"
      ],
      "metadata": {
        "id": "sTdixJqP04I2"
      },
      "execution_count": null,
      "outputs": []
    },
    {
      "cell_type": "code",
      "source": [
        "# Concatenate the tracks, show only columns names that are in all tables\n",
        "tracks_from_albums = pd.concat([tracks_master, tracks_ride, tracks_st],\n",
        "                               join = 'inner',\n",
        "                               sort=True)\n",
        "print(tracks_from_albums)"
      ],
      "metadata": {
        "id": "PeZKicxO04Ff"
      },
      "execution_count": null,
      "outputs": []
    },
    {
      "cell_type": "code",
      "source": [
        "# Concatenate the tables and add keys\n",
        "inv_jul_thr_sep = pd.concat([inv_jul, inv_aug, inv_sep],\n",
        "                            keys=['7Jul', '8Aug', '9Sep'], axis=0)\n",
        "\n",
        "# Group the invoices by the index keys and find avg of the total column\n",
        "avg_inv_by_month = inv_jul_thr_sep.groupby(level=0).agg({'total': 'mean'})\n",
        "\n",
        "# Bar plot of avg_inv_by_month\n",
        "avg_inv_by_month.plot(kind = 'bar')\n",
        "plt.show()"
      ],
      "metadata": {
        "id": "iEzpB1Yl04As"
      },
      "execution_count": null,
      "outputs": []
    },
    {
      "cell_type": "code",
      "source": [
        "# Concatenate the classic tables vertically\n",
        "classic_18_19 = pd.concat([classic_18, classic_19], ignore_index = True)\n",
        "\n",
        "# Concatenate the pop tables vertically\n",
        "pop_18_19 = pd.concat([pop_18, pop_19], ignore_index = True)"
      ],
      "metadata": {
        "id": "1ZgI4sUE034K"
      },
      "execution_count": null,
      "outputs": []
    },
    {
      "cell_type": "code",
      "source": [
        "# Concatenate the classic tables vertically\n",
        "classic_18_19 = pd.concat([classic_18, classic_19], ignore_index=True)\n",
        "\n",
        "# Concatenate the pop tables vertically\n",
        "pop_18_19 = pd.concat([pop_18, pop_19], ignore_index=True)\n",
        "\n",
        "# Merge classic_18_19 with pop_18_19\n",
        "classic_pop = classic_18_19.merge(pop_18_19, on='tid')\n",
        "\n",
        "# Using .isin(), filter classic_18_19 rows where tid is in classic_pop\n",
        "popular_classic = classic_18_19[classic_18_19['tid'].isin(classic_pop['tid'])]\n",
        "\n",
        "# Print popular chart\n",
        "print(popular_classic)"
      ],
      "metadata": {
        "id": "A1K6pKyaQlgP"
      },
      "execution_count": null,
      "outputs": []
    },
    {
      "cell_type": "code",
      "source": [],
      "metadata": {
        "id": "Dz7g4IHYbux-"
      },
      "execution_count": null,
      "outputs": []
    },
    {
      "cell_type": "code",
      "source": [
        "# Use merge_ordered() to merge gdp and sp500, interpolate missing value\n",
        "gdp_sp500 = pd.merge_ordered(gdp, sp500, left_on='year', right_on='date',\n",
        "                             how='left',  fill_method='ffill')\n",
        "\n",
        "# Subset the gdp and returns columns\n",
        "gdp_returns = gdp_sp500[['gdp', 'returns']]\n",
        "\n",
        "# Print gdp_returns correlation\n",
        "print (gdp_returns.corr())"
      ],
      "metadata": {
        "id": "dvDonVOHbk5V"
      },
      "execution_count": null,
      "outputs": []
    },
    {
      "cell_type": "code",
      "source": [
        "# Use merge_ordered() to merge inflation, unemployment with inner join\n",
        "inflation_unemploy = pd.merge_ordered(inflation, unemployment, on = 'date', how = 'inner')\n",
        "\n",
        "# Print inflation_unemploy\n",
        "print(inflation_unemploy)\n",
        "\n",
        "# Plot a scatter plot of unemployment_rate vs cpi of inflation_unemploy\n",
        "inflation_unemploy.plot(x = 'unemployment_rate' , y= 'cpi', kind = 'scatter')\n",
        "plt.show()"
      ],
      "metadata": {
        "id": "GsKPiOu8bk1i"
      },
      "execution_count": null,
      "outputs": []
    },
    {
      "cell_type": "code",
      "source": [
        "# Merge gdp and pop on country and date with fill\n",
        "date_ctry = pd.merge_ordered(gdp , pop, on = ['country' , 'date'], fill_method = 'ffill')\n",
        "\n",
        "# Print date_ctry\n",
        "print(date_ctry)"
      ],
      "metadata": {
        "id": "galY1yyFbkyI"
      },
      "execution_count": null,
      "outputs": []
    },
    {
      "cell_type": "code",
      "source": [
        "# Use merge_asof() to merge jpm and wells\n",
        "jpm_wells = pd.merge_asof(jpm, wells, on='date_time',\n",
        "                          suffixes=('', '_wells'), direction='nearest')\n",
        "\n",
        "# Use merge_asof() to merge jpm_wells and bac\n",
        "jpm_wells_bac = pd.merge_asof(jpm_wells, bac, on='date_time',\n",
        "                              suffixes=('_jpm', '_bac'), direction='nearest')\n",
        "\n",
        "# Compute price diff\n",
        "price_diffs = jpm_wells_bac.diff()\n",
        "\n",
        "# Plot the price diff of the close of jpm, wells and bac only\n",
        "price_diffs.plot(y=['close_jpm','close_wells','close_bac'])\n",
        "plt.show()"
      ],
      "metadata": {
        "id": "ahoy3_2Qbkp3"
      },
      "execution_count": null,
      "outputs": []
    },
    {
      "cell_type": "code",
      "source": [
        "# Merge gdp and recession on date using merge_asof()\n",
        "gdp_recession = pd.merge_asof(gdp , recession, on = 'date')\n",
        "\n",
        "# Create a list based on the row value of gdp_recession['econ_status']\n",
        "is_recession = ['r' if s == 'recession' else 'g' for s in gdp_recession['econ_status']]\n",
        "\n",
        "# Plot a bar chart of gdp_recession\n",
        "gdp_recession.plot(kind='bar', y='gdp', x='date', color=is_recession, rot=90)\n",
        "plt.show()"
      ],
      "metadata": {
        "id": "6Go-E9nqbjqt"
      },
      "execution_count": null,
      "outputs": []
    },
    {
      "cell_type": "code",
      "source": [
        "# Merge gdp and pop on date and country with fill\n",
        "gdp_pop = pd.merge_ordered(gdp, pop, on=['country','date'], fill_method='ffill')\n",
        "\n",
        "# Add a column named gdp_per_capita to gdp_pop that divides the gdp by pop\n",
        "gdp_pop['gdp_per_capita'] = gdp_pop['gdp'] / gdp_pop['pop']\n",
        "\n",
        "# Pivot table of gdp_per_capita, where index is date and columns is country\n",
        "gdp_pivot = gdp_pop.pivot_table('gdp_per_capita', index='date', columns='country')"
      ],
      "metadata": {
        "id": "dNMIh1bpcr01"
      },
      "execution_count": null,
      "outputs": []
    },
    {
      "cell_type": "code",
      "source": [
        "# Merge gdp and pop on date and country with fill\n",
        "gdp_pop = pd.merge_ordered(gdp, pop, on=['country','date'], fill_method='ffill')\n",
        "\n",
        "# Add a column named gdp_per_capita to gdp_pop that divides the gdp by pop\n",
        "gdp_pop['gdp_per_capita'] = gdp_pop['gdp'] / gdp_pop['pop']\n",
        "\n",
        "# Pivot data so gdp_per_capita, where index is date and columns is country\n",
        "gdp_pivot = gdp_pop.pivot_table('gdp_per_capita', 'date', 'country')\n",
        "\n",
        "# Select dates equal to or greater than 1991-01-01\n",
        "recent_gdp_pop = gdp_pivot.query('date >= \"1991-01-01\"')\n",
        "\n",
        "# Plot recent_gdp_pop\n",
        "recent_gdp_pop.plot(rot=90)\n",
        "plt.show()"
      ],
      "metadata": {
        "id": "tmTHgi_3crxQ"
      },
      "execution_count": null,
      "outputs": []
    },
    {
      "cell_type": "code",
      "source": [
        "# unpivot everything besides the year column\n",
        "ur_tall = ur_wide.melt(id_vars='year', var_name='month', value_name='unempl_rate')\n",
        "\n",
        "\n",
        "# Create a date column using the month and year columns of ur_tall\n",
        "ur_tall['date'] = pd.to_datetime(ur_tall['year'].astype(str) + '-' + ur_tall['month'])\n",
        "\n",
        "# Sort ur_tall by date in ascending order\n",
        "ur_sorted = ur_tall.sort_values(by='date')\n",
        "\n",
        "# Plot the unempl_rate by date\n",
        "ur_sorted.plot(x='date', y='unempl_rate')\n",
        "plt.show()"
      ],
      "metadata": {
        "id": "AEuCp_iKcrqN"
      },
      "execution_count": null,
      "outputs": []
    },
    {
      "cell_type": "code",
      "source": [
        "# Use melt on ten_yr, unpivot everything besides the metric column\n",
        "bond_perc = ten_yr.melt(id_vars='metric', var_name='date', value_name='close')\n",
        "\n",
        "# Use query on bond_perc to select only the rows where metric=close\n",
        "bond_perc_close = bond_perc.query(\"metric == 'close'\")\n",
        "\n",
        "# Merge (ordered) dji and bond_perc_close on date with an inner join\n",
        "dow_bond = pd.merge_ordered(dji, bond_perc_close, on='date', how='inner', suffixes=('_dow', '_bond'))\n",
        "\n",
        "\n",
        "# Plot only the close_dow and close_bond columns\n",
        "dow_bond.plot(kind='line', x='date', y=['close_dow', 'close_bond'], rot=90)\n",
        "plt.show()"
      ],
      "metadata": {
        "id": "6THs6wGYdl5b"
      },
      "execution_count": null,
      "outputs": []
    },
    {
      "cell_type": "code",
      "source": [],
      "metadata": {
        "id": "WjfFJFWsdl2x"
      },
      "execution_count": null,
      "outputs": []
    },
    {
      "cell_type": "code",
      "source": [],
      "metadata": {
        "id": "o7_-OKx6dlvJ"
      },
      "execution_count": null,
      "outputs": []
    },
    {
      "cell_type": "code",
      "source": [],
      "metadata": {
        "id": "EvFkr6Xgdlrh"
      },
      "execution_count": null,
      "outputs": []
    },
    {
      "cell_type": "code",
      "source": [],
      "metadata": {
        "id": "DdIl7qVsdlnZ"
      },
      "execution_count": null,
      "outputs": []
    }
  ]
}