{
  "nbformat": 4,
  "nbformat_minor": 0,
  "metadata": {
    "colab": {
      "provenance": [],
      "authorship_tag": "ABX9TyMOzXb+NEjq6LubD6UQ4VcJ",
      "include_colab_link": true
    },
    "kernelspec": {
      "name": "python3",
      "display_name": "Python 3"
    },
    "language_info": {
      "name": "python"
    }
  },
  "cells": [
    {
      "cell_type": "markdown",
      "metadata": {
        "id": "view-in-github",
        "colab_type": "text"
      },
      "source": [
        "<a href=\"https://colab.research.google.com/github/namozhdehi/DataScience/blob/main/19%20SQL%20in%20Python.ipynb\" target=\"_parent\"><img src=\"https://colab.research.google.com/assets/colab-badge.svg\" alt=\"Open In Colab\"/></a>"
      ]
    },
    {
      "cell_type": "code",
      "execution_count": 13,
      "metadata": {
        "colab": {
          "base_uri": "https://localhost:8080/"
        },
        "id": "hmntHnt3kd4Q",
        "outputId": "2d8758d8-7851-4652-d092-9963cb85055c"
      },
      "outputs": [
        {
          "output_type": "execute_result",
          "data": {
            "text/plain": [
              "9"
            ]
          },
          "metadata": {},
          "execution_count": 13
        }
      ],
      "source": [
        "import sqlite3\n",
        "\n",
        "# Connect to SQLite database (or create it if it doesn't exist)\n",
        "conn = sqlite3.connect('country_club.db')\n",
        "cursor = conn.cursor()\n",
        "\n",
        "# Create tables and import data\n",
        "# For simplicity, assuming CSV format is used for export\n",
        "import pandas as pd\n",
        "\n",
        "# Load CSV data into Pandas DataFrames\n",
        "bookings = pd.read_csv('Bookings.csv')\n",
        "members = pd.read_csv('Members.csv')\n",
        "facilities = pd.read_csv('Facilities.csv')\n",
        "\n",
        "# Write data to SQLite database\n",
        "bookings.to_sql('Bookings', conn, if_exists='replace', index=False)\n",
        "members.to_sql('Members', conn, if_exists='replace', index=False)\n",
        "facilities.to_sql('Facilities', conn, if_exists='replace', index=False)\n"
      ]
    },
    {
      "cell_type": "code",
      "source": [
        "import sqlite3\n",
        "\n",
        "# Connect to the SQLite database\n",
        "conn = sqlite3.connect('country_club.db')\n",
        "\n",
        "# Create a cursor object\n",
        "cursor = conn.cursor()\n"
      ],
      "metadata": {
        "id": "yyAA0T4ZqZz8"
      },
      "execution_count": 14,
      "outputs": []
    },
    {
      "cell_type": "code",
      "source": [
        "import pandas as pd\n",
        "\n",
        "# Q10: Produce a list of facilities with a total revenue less than 1000.\n",
        "\n",
        "query = \"\"\"\n",
        "SELECT f.name AS facility,\n",
        "       SUM(CASE\n",
        "               WHEN b.memid = 0 THEN b.slots * f.guestcost\n",
        "               ELSE b.slots * f.membercost\n",
        "           END) AS total_revenue\n",
        "FROM Bookings b\n",
        "JOIN Facilities f ON b.facid = f.facid\n",
        "GROUP BY f.name\n",
        "HAVING total_revenue < 1000\n",
        "ORDER BY total_revenue;\n",
        "\"\"\"\n",
        "\n",
        "# Execute the query and load the results into a DataFrame\n",
        "result = pd.read_sql_query(query, conn)\n",
        "\n",
        "# Display the results\n",
        "print(result)"
      ],
      "metadata": {
        "colab": {
          "base_uri": "https://localhost:8080/"
        },
        "id": "fiWsv2A7qZ7u",
        "outputId": "537078b1-2f63-4a6e-8750-398aa4c93c84"
      },
      "execution_count": 15,
      "outputs": [
        {
          "output_type": "stream",
          "name": "stdout",
          "text": [
            "          facility  total_revenue\n",
            "0  Badminton Court            0.0\n",
            "1       Pool Table            0.0\n",
            "2    Snooker Table            0.0\n",
            "3     Table Tennis            0.0\n"
          ]
        }
      ]
    },
    {
      "cell_type": "code",
      "source": [],
      "metadata": {
        "id": "9iiOHPecqaDJ"
      },
      "execution_count": 15,
      "outputs": []
    },
    {
      "cell_type": "code",
      "source": [],
      "metadata": {
        "id": "i5FzcB_NqaJu"
      },
      "execution_count": 15,
      "outputs": []
    }
  ]
}