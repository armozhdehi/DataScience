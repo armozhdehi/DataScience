{
  "nbformat": 4,
  "nbformat_minor": 0,
  "metadata": {
    "colab": {
      "provenance": [],
      "authorship_tag": "ABX9TyOBPIUh4o+B2RP3LmQqB2eL",
      "include_colab_link": true
    },
    "kernelspec": {
      "name": "python3",
      "display_name": "Python 3"
    },
    "language_info": {
      "name": "python"
    }
  },
  "cells": [
    {
      "cell_type": "markdown",
      "metadata": {
        "id": "view-in-github",
        "colab_type": "text"
      },
      "source": [
        "<a href=\"https://colab.research.google.com/github/namozhdehi/DataScience/blob/main/Unit%206%20Intermediate%20Python%20I.ipynb\" target=\"_parent\"><img src=\"https://colab.research.google.com/assets/colab-badge.svg\" alt=\"Open In Colab\"/></a>"
      ]
    },
    {
      "cell_type": "markdown",
      "source": [
        "# **Introduction to lists**"
      ],
      "metadata": {
        "id": "PBBC3YuuBoLr"
      }
    },
    {
      "cell_type": "code",
      "source": [
        "# Create a list containing the names: baby_names\n",
        "baby_names = ['Ximena', 'Aliza', 'Ayden', 'Calvin']\n",
        "\n",
        "# Extend baby_names with 'Rowen' and 'Sandeep'\n",
        "new_babies = ['Rowen' , 'Sandeep']\n",
        "baby_names.extend(new_babies)\n",
        "#  or   baby_names = baby_names + new_babies\n",
        "print(baby_names)\n",
        "\n",
        "# Find the position of 'Rowen': position\n",
        "position = baby_names.index('Rowen')\n",
        "\n",
        "# Remove 'Rowen' from baby_names\n",
        "baby_names.pop(position)\n",
        "\n",
        "# Print baby_names\n",
        "print(baby_names)"
      ],
      "metadata": {
        "colab": {
          "base_uri": "https://localhost:8080/"
        },
        "id": "vZiu0T2uQAcS",
        "outputId": "c7689bee-3298-41f1-93d0-68289c6326e7"
      },
      "execution_count": 41,
      "outputs": [
        {
          "output_type": "stream",
          "name": "stdout",
          "text": [
            "['Ximena', 'Aliza', 'Ayden', 'Calvin', 'Rowen', 'Sandeep']\n",
            "['Ximena', 'Aliza', 'Ayden', 'Calvin', 'Sandeep']\n"
          ]
        }
      ]
    },
    {
      "cell_type": "code",
      "source": [
        "#records = ['2014','F','20799','Emma']\n",
        "records = ['abigail', 'addison', 'amelia', 'aubrey', 'ava', 'avery', 'brooklyn', 'charlotte', 'chloe', 'elizabeth', 'ella', 'emily', 'emma', 'evelyn', 'grace', 'harper', 'isabella', 'lillian', 'madison', 'mia', 'natalie', 'olivia', 'sofia', 'sophia', 'victoria', 'zoey']\n",
        "\n",
        "# Create the list comprehension: baby_names\n",
        "baby_names = [baby[-1] for baby in records]\n",
        "\n",
        "titlecase_baby = [baby.title() for baby in records]\n",
        "print(titlecase_baby)\n",
        "\n",
        "# Print the sorted baby names in ascending alphabetical order\n",
        "print(sorted(records))"
      ],
      "metadata": {
        "colab": {
          "base_uri": "https://localhost:8080/"
        },
        "id": "QckXT19zQASQ",
        "outputId": "b74ccbfc-86eb-4657-fbaf-d98c007ff10e"
      },
      "execution_count": 34,
      "outputs": [
        {
          "output_type": "stream",
          "name": "stdout",
          "text": [
            "['Abigail', 'Addison', 'Amelia', 'Aubrey', 'Ava', 'Avery', 'Brooklyn', 'Charlotte', 'Chloe', 'Elizabeth', 'Ella', 'Emily', 'Emma', 'Evelyn', 'Grace', 'Harper', 'Isabella', 'Lillian', 'Madison', 'Mia', 'Natalie', 'Olivia', 'Sofia', 'Sophia', 'Victoria', 'Zoey']\n",
            "['abigail', 'addison', 'amelia', 'aubrey', 'ava', 'avery', 'brooklyn', 'charlotte', 'chloe', 'elizabeth', 'ella', 'emily', 'emma', 'evelyn', 'grace', 'harper', 'isabella', 'lillian', 'madison', 'mia', 'natalie', 'olivia', 'sofia', 'sophia', 'victoria', 'zoey']\n"
          ]
        }
      ]
    },
    {
      "cell_type": "markdown",
      "source": [
        "# **Introduction to Tuple**"
      ],
      "metadata": {
        "id": "a0PqDfVHWZJs"
      }
    },
    {
      "cell_type": "code",
      "source": [
        "# Often you'll want to pair up multiple array data types. The zip() function does just that. It will return a list of tuples containing one element from each list passed into zip().\n",
        "girl_names = ['Jada', 'Emily', 'Ava', 'Serenity', 'Claire','Sophia']\n",
        "boy_names = ['Josiah', 'Ethan', 'David', 'Jayden', 'Mason', 'Ryan']\n",
        "\n",
        "# Pair up the girl and boy names: pairs\n",
        "pairs = list(zip(girl_names, boy_names))\n",
        "print(pairs)\n",
        "\n",
        "# Pair up the girl and boy names: pairs\n",
        "pairs = list(zip(girl_names, boy_names))\n",
        "\n",
        "# Iterate over pairs\n",
        "for rank, pair in enumerate(pairs):\n",
        "    # Unpack pair: girl_name, boy_name\n",
        "    girl_name, boy_name = pair\n",
        "\n",
        "    # Print the rank and names associated with each rank\n",
        "    print(f'Rank {rank+1}: {girl_name} and {boy_name}')\n",
        ""
      ],
      "metadata": {
        "colab": {
          "base_uri": "https://localhost:8080/"
        },
        "id": "-_A896cfQAOZ",
        "outputId": "77dab2ef-9118-48d0-f008-9de000a8503e"
      },
      "execution_count": 45,
      "outputs": [
        {
          "output_type": "stream",
          "name": "stdout",
          "text": [
            "[('Jada', 'Josiah'), ('Emily', 'Ethan'), ('Ava', 'David'), ('Serenity', 'Jayden'), ('Claire', 'Mason'), ('Sophia', 'Ryan')]\n",
            "Rank 1: Jada and Josiah\n",
            "Rank 2: Emily and Ethan\n",
            "Rank 3: Ava and David\n",
            "Rank 4: Serenity and Jayden\n",
            "Rank 5: Claire and Mason\n",
            "Rank 6: Sophia and Ryan\n"
          ]
        }
      ]
    },
    {
      "cell_type": "code",
      "source": [
        "# Create the normal variable: normal\n",
        "normal = 'simple'\n",
        "\n",
        "# Create the mistaken variable: error\n",
        "error = 'trailing comma',\n",
        "\n",
        "# Print the types of the variables\n",
        "print(type(normal))\n",
        "print(type(error))"
      ],
      "metadata": {
        "colab": {
          "base_uri": "https://localhost:8080/"
        },
        "id": "XxnyImfPQAHH",
        "outputId": "c64bb232-4084-489e-978e-9c1ef5c780e2"
      },
      "execution_count": 46,
      "outputs": [
        {
          "output_type": "stream",
          "name": "stdout",
          "text": [
            "<class 'str'>\n",
            "<class 'tuple'>\n"
          ]
        }
      ]
    },
    {
      "cell_type": "code",
      "source": [
        "top_ten_girl_names = [(1, 'Jada'), (2, 'Emily'), (3, 'Ava'), (4, 'Serenity'), (5, 'Claire'), (6, 'Sophia'), (7, 'Sarah'), (8, 'Ashley'), (9, 'Chaya'), (10, 'Abigail')]\n",
        " # Loop over top_ten_girl_names and unpack each tuple into top_ten_rank and name\n",
        "for top_ten_rank, name in top_ten_girl_names:\n",
        "  \t# Print each name in the proper format\n",
        "    print(f\"Rank #: {top_ten_rank} - {name}\")"
      ],
      "metadata": {
        "colab": {
          "base_uri": "https://localhost:8080/"
        },
        "id": "RtqmRNWiQAAR",
        "outputId": "4dc30c5a-8772-4c44-a020-b1b1756aa04a"
      },
      "execution_count": 47,
      "outputs": [
        {
          "output_type": "stream",
          "name": "stdout",
          "text": [
            "Rank #: 1 - Jada\n",
            "Rank #: 2 - Emily\n",
            "Rank #: 3 - Ava\n",
            "Rank #: 4 - Serenity\n",
            "Rank #: 5 - Claire\n",
            "Rank #: 6 - Sophia\n",
            "Rank #: 7 - Sarah\n",
            "Rank #: 8 - Ashley\n",
            "Rank #: 9 - Chaya\n",
            "Rank #: 10 - Abigail\n"
          ]
        }
      ]
    },
    {
      "cell_type": "code",
      "source": [
        "# The top ten boy names are:  as preamble\n",
        "preamble = \"The top ten boy names are: \"\n",
        "\n",
        "# , and as conjunction\n",
        "conjunction = \", and\"\n",
        "\n",
        "# Combines the first 9 names in boy_names with a comma and space as first_nine_names\n",
        "first_nine_names = \", \".join(boy_names[0:9])\n",
        "\n",
        "# Print f-string preamble, first_nine_names, conjunction, the final item in boy_names and a period\n",
        "print(f\"{preamble}{first_nine_names}{conjunction} {boy_names[-1]}.\")"
      ],
      "metadata": {
        "colab": {
          "base_uri": "https://localhost:8080/"
        },
        "id": "Av_MmYgpP_4s",
        "outputId": "229d4a59-cc30-4d15-db6b-1812efb82852"
      },
      "execution_count": 50,
      "outputs": [
        {
          "output_type": "stream",
          "name": "stdout",
          "text": [
            "The top ten boy names are: Josiah, Ethan, David, Jayden, Mason, Ryan, and Ryan.\n"
          ]
        }
      ]
    },
    {
      "cell_type": "code",
      "source": [
        "# Store a list of girl_names that start with s: names_with_s\n",
        "names_with_s = [name for name in girl_names if name.lower().startswith('s')]\n",
        "\n",
        "print(names_with_s)\n",
        "\n",
        "# Store a list of girl_names that contain angel: names_with_angel\n",
        "names_with_angel = [name for name in girl_names if 'angel' in name.lower()]\n",
        "\n",
        "print(names_with_angel)"
      ],
      "metadata": {
        "colab": {
          "base_uri": "https://localhost:8080/"
        },
        "id": "Jo0bqic2P_xa",
        "outputId": "1997fe75-2df4-4e9d-cd57-e1dd61cd1252"
      },
      "execution_count": 53,
      "outputs": [
        {
          "output_type": "stream",
          "name": "stdout",
          "text": [
            "['Serenity', 'Sophia']\n",
            "[]\n"
          ]
        }
      ]
    },
    {
      "cell_type": "code",
      "execution_count": 2,
      "metadata": {
        "colab": {
          "base_uri": "https://localhost:8080/"
        },
        "id": "1MysPxfvHdAF",
        "outputId": "a21baca0-aff4-4206-ff11-9c33a9b0a71d"
      },
      "outputs": [
        {
          "output_type": "stream",
          "name": "stdout",
          "text": [
            "City Hall Park: ('Gray', 'Cinnamon', 'Eating', 'Approaches')\n",
            "Highbridge Park: ('Gray', 'Cinnamon', 'Running, Eating', 'Runs From, watches us in short tree')\n",
            "J. Hood Wright Park: ('Gray', 'White', 'Running', 'Indifferent')\n",
            "Madison Square Park: ('Gray', None, 'Foraging', 'Indifferent')\n",
            "Marcus Garvey Park: ('Black', 'Cinnamon', 'Cleaning', None)\n",
            "Seward Park: ('Gray', 'Cinnamon', 'Eating', 'Indifferent')\n",
            "Tompkins Square Park: ('Gray', 'Gray', 'Lounging', 'Approaches')\n",
            "Union Square Park: ('Gray', 'Black', 'Climbing', None)\n"
          ]
        }
      ],
      "source": [
        "squirrels = [('Marcus Garvey Park', ('Black', 'Cinnamon', 'Cleaning', None)),\n",
        " ('Highbridge Park',\n",
        "  ('Gray',\n",
        "   'Cinnamon',\n",
        "   'Running, Eating',\n",
        "   'Runs From, watches us in short tree')),\n",
        " ('Madison Square Park', ('Gray', None, 'Foraging', 'Indifferent')),\n",
        " ('City Hall Park', ('Gray', 'Cinnamon', 'Eating', 'Approaches')),\n",
        " ('J. Hood Wright Park', ('Gray', 'White', 'Running', 'Indifferent')),\n",
        " ('Seward Park', ('Gray', 'Cinnamon', 'Eating', 'Indifferent')),\n",
        " ('Union Square Park', ('Gray', 'Black', 'Climbing', None)),\n",
        " ('Tompkins Square Park', ('Gray', 'Gray', 'Lounging', 'Approaches'))]\n",
        "\n",
        "# Create an empty dictionary: squirrels_by_park\n",
        "squirrels_by_park = {}\n",
        "\n",
        "# Loop over the squirrels list and unpack each tuple\n",
        "for park, squirrel_details in squirrels:\n",
        "    # Add each squirrel_details to the squirrels_by_park dictionary\n",
        "    squirrels_by_park[park] = squirrel_details\n",
        "\n",
        "# Sort the squirrels_by_park dict alphabetically by park\n",
        "for park in sorted(squirrels_by_park):\n",
        "    # Print each park and its value in squirrels_by_park\n",
        "    print(f'{park}: {squirrels_by_park[park]}')"
      ]
    },
    {
      "cell_type": "code",
      "source": [
        "# Safely print 'Union Square Park' from the squirrels_by_park dictionary\n",
        "print(squirrels_by_park.get('Union Square Park'))\n",
        "\n",
        "# Safely print the type of 'Fort Tryon Park' from the squirrels_by_park dictionary\n",
        "print(type(squirrels_by_park.get('Fort Tryon Park')))\n",
        "\n",
        "# Safely print 'Central Park' from the squirrels_by_park dictionary or 'Not Found'\n",
        "print(squirrels_by_park.get('Central Park', 'Not Found'))"
      ],
      "metadata": {
        "colab": {
          "base_uri": "https://localhost:8080/"
        },
        "id": "cS1YI-chCfir",
        "outputId": "736e209b-506c-4041-e577-862e9fdbdf45"
      },
      "execution_count": 3,
      "outputs": [
        {
          "output_type": "stream",
          "name": "stdout",
          "text": [
            "('Gray', 'Black', 'Climbing', None)\n",
            "<class 'NoneType'>\n",
            "Not Found\n"
          ]
        }
      ]
    },
    {
      "cell_type": "code",
      "source": [
        "squirrels_madison = [{'primary_fur_color': 'Gray',\n",
        "  'highlights_in_fur_color': None,\n",
        "  'activities': 'Sitting',\n",
        "  'interactions_with_humans': 'Indifferent'},\n",
        " {'primary_fur_color': 'Gray',\n",
        "  'highlights_in_fur_color': 'Cinnamon',\n",
        "  'activities': 'Foraging',\n",
        "  'interactions_with_humans': 'Indifferent'},\n",
        " {'primary_fur_color': 'Gray',\n",
        "  'highlights_in_fur_color': None,\n",
        "  'activities': 'Climbing, Foraging',\n",
        "  'interactions_with_humans': 'Indifferent'}]\n",
        "\n",
        "squirrels_union = ('Union Square Park',\n",
        " [{'primary_fur_color': 'Gray',\n",
        "   'highlights_in_fur_color': None,\n",
        "   'activities': 'Eating, Foraging',\n",
        "   'interactions_with_humans': None},\n",
        "  {'primary_fur_color': 'Gray',\n",
        "   'highlights_in_fur_color': 'Cinnamon',\n",
        "   'activities': 'Climbing, Eating',\n",
        "   'interactions_with_humans': None},\n",
        "  {'primary_fur_color': 'Cinnamon',\n",
        "   'highlights_in_fur_color': None,\n",
        "   'activities': 'Foraging',\n",
        "   'interactions_with_humans': 'Indifferent'},\n",
        "  {'primary_fur_color': 'Gray',\n",
        "   'highlights_in_fur_color': None,\n",
        "   'activities': 'Running, Digging',\n",
        "   'interactions_with_humans': 'Runs From'},\n",
        "  {'primary_fur_color': 'Gray',\n",
        "   'highlights_in_fur_color': None,\n",
        "   'activities': 'Digging',\n",
        "   'interactions_with_humans': 'Indifferent'},\n",
        "  {'primary_fur_color': 'Gray',\n",
        "   'highlights_in_fur_color': 'Black',\n",
        "   'activities': 'Climbing',\n",
        "   'interactions_with_humans': None},\n",
        "  {'primary_fur_color': 'Gray',\n",
        "   'highlights_in_fur_color': None,\n",
        "   'activities': 'Eating, Foraging',\n",
        "   'interactions_with_humans': None}])\n",
        "\n",
        "# Assign squirrels_madison as the value to the 'Madison Square Park' key\n",
        "squirrels_by_park['Madison Square Park'] = squirrels_madison\n",
        "\n",
        "# Update squirrels_by_park with the squirrels_union tuple\n",
        "squirrels_by_park.update([squirrels_union])\n",
        "\n",
        "# Loop over the park_name in the squirrels_by_park dictionary\n",
        "for park_name in squirrels_by_park:\n",
        "    # Safely print a list of the primary_fur_color for each squirrel in park_name\n",
        "    print(park_name, [squirrel.get('primary_fur_color', 'N/A') for squirrel in squirrels_by_park[park_name]])"
      ],
      "metadata": {
        "colab": {
          "base_uri": "https://localhost:8080/",
          "height": 263
        },
        "id": "CaiwrcZkCldW",
        "outputId": "53455324-2a54-4094-8ac3-beffb0c4f914"
      },
      "execution_count": 27,
      "outputs": [
        {
          "output_type": "error",
          "ename": "AttributeError",
          "evalue": "'str' object has no attribute 'get'",
          "traceback": [
            "\u001b[0;31m---------------------------------------------------------------------------\u001b[0m",
            "\u001b[0;31mAttributeError\u001b[0m                            Traceback (most recent call last)",
            "\u001b[0;32m<ipython-input-27-54bd5ff4062b>\u001b[0m in \u001b[0;36m<cell line: 51>\u001b[0;34m()\u001b[0m\n\u001b[1;32m     51\u001b[0m \u001b[0;32mfor\u001b[0m \u001b[0mpark_name\u001b[0m \u001b[0;32min\u001b[0m \u001b[0msquirrels_by_park\u001b[0m\u001b[0;34m:\u001b[0m\u001b[0;34m\u001b[0m\u001b[0;34m\u001b[0m\u001b[0m\n\u001b[1;32m     52\u001b[0m     \u001b[0;31m# Safely print a list of the primary_fur_color for each squirrel in park_name\u001b[0m\u001b[0;34m\u001b[0m\u001b[0;34m\u001b[0m\u001b[0m\n\u001b[0;32m---> 53\u001b[0;31m     \u001b[0mprint\u001b[0m\u001b[0;34m(\u001b[0m\u001b[0mpark_name\u001b[0m\u001b[0;34m,\u001b[0m \u001b[0;34m[\u001b[0m\u001b[0msquirrel\u001b[0m\u001b[0;34m.\u001b[0m\u001b[0mget\u001b[0m\u001b[0;34m(\u001b[0m\u001b[0;34m'primary_fur_color'\u001b[0m\u001b[0;34m,\u001b[0m \u001b[0;34m'N/A'\u001b[0m\u001b[0;34m)\u001b[0m \u001b[0;32mfor\u001b[0m \u001b[0msquirrel\u001b[0m \u001b[0;32min\u001b[0m \u001b[0msquirrels_by_park\u001b[0m\u001b[0;34m[\u001b[0m\u001b[0mpark_name\u001b[0m\u001b[0;34m]\u001b[0m\u001b[0;34m]\u001b[0m\u001b[0;34m)\u001b[0m\u001b[0;34m\u001b[0m\u001b[0;34m\u001b[0m\u001b[0m\n\u001b[0m",
            "\u001b[0;32m<ipython-input-27-54bd5ff4062b>\u001b[0m in \u001b[0;36m<listcomp>\u001b[0;34m(.0)\u001b[0m\n\u001b[1;32m     51\u001b[0m \u001b[0;32mfor\u001b[0m \u001b[0mpark_name\u001b[0m \u001b[0;32min\u001b[0m \u001b[0msquirrels_by_park\u001b[0m\u001b[0;34m:\u001b[0m\u001b[0;34m\u001b[0m\u001b[0;34m\u001b[0m\u001b[0m\n\u001b[1;32m     52\u001b[0m     \u001b[0;31m# Safely print a list of the primary_fur_color for each squirrel in park_name\u001b[0m\u001b[0;34m\u001b[0m\u001b[0;34m\u001b[0m\u001b[0m\n\u001b[0;32m---> 53\u001b[0;31m     \u001b[0mprint\u001b[0m\u001b[0;34m(\u001b[0m\u001b[0mpark_name\u001b[0m\u001b[0;34m,\u001b[0m \u001b[0;34m[\u001b[0m\u001b[0msquirrel\u001b[0m\u001b[0;34m.\u001b[0m\u001b[0mget\u001b[0m\u001b[0;34m(\u001b[0m\u001b[0;34m'primary_fur_color'\u001b[0m\u001b[0;34m,\u001b[0m \u001b[0;34m'N/A'\u001b[0m\u001b[0;34m)\u001b[0m \u001b[0;32mfor\u001b[0m \u001b[0msquirrel\u001b[0m \u001b[0;32min\u001b[0m \u001b[0msquirrels_by_park\u001b[0m\u001b[0;34m[\u001b[0m\u001b[0mpark_name\u001b[0m\u001b[0;34m]\u001b[0m\u001b[0;34m]\u001b[0m\u001b[0;34m)\u001b[0m\u001b[0;34m\u001b[0m\u001b[0;34m\u001b[0m\u001b[0m\n\u001b[0m",
            "\u001b[0;31mAttributeError\u001b[0m: 'str' object has no attribute 'get'"
          ]
        }
      ]
    },
    {
      "cell_type": "code",
      "source": [
        "squirrels_union = ('Union Square Park',\n",
        " [{'primary_fur_color': 'Gray',\n",
        "   'highlights_in_fur_color': None,\n",
        "   'activities': 'Eating, Foraging',\n",
        "   'interactions_with_humans': None},\n",
        "  {'primary_fur_color': 'Gray',\n",
        "   'highlights_in_fur_color': 'Cinnamon',\n",
        "   'activities': 'Climbing, Eating',\n",
        "   'interactions_with_humans': None},\n",
        "  {'primary_fur_color': 'Cinnamon',\n",
        "   'highlights_in_fur_color': None,\n",
        "   'activities': 'Foraging',\n",
        "   'interactions_with_humans': 'Indifferent'},\n",
        "  {'primary_fur_color': 'Gray',\n",
        "   'highlights_in_fur_color': None,\n",
        "   'activities': 'Running, Digging',\n",
        "   'interactions_with_humans': 'Runs From'},\n",
        "  {'primary_fur_color': 'Gray',\n",
        "   'highlights_in_fur_color': None,\n",
        "   'activities': 'Digging',\n",
        "   'interactions_with_humans': 'Indifferent'},\n",
        "  {'primary_fur_color': 'Gray',\n",
        "   'highlights_in_fur_color': 'Black',\n",
        "   'activities': 'Climbing',\n",
        "   'interactions_with_humans': None},\n",
        "  {'primary_fur_color': 'Gray',\n",
        "   'highlights_in_fur_color': None,\n",
        "   'activities': 'Eating, Foraging',\n",
        "   'interactions_with_humans': None}])\n",
        "\n",
        "# Assign squirrels_madison as the value to the 'Madison Square Park' key\n",
        "squirrels_by_park['Madison Square Park'] = squirrels_madison\n",
        "\n",
        "# Update squirrels_by_park with the squirrels_union tuple\n",
        "squirrels_by_park.update([squirrels_union])\n",
        "\n",
        "# Loop over the park_name in the squirrels_by_park dictionary\n",
        "for park_name in squirrels_by_park:\n",
        "    # Safely print a list of the primary_fur_color for each squirrel in park_name\n",
        "    print(park_name, [squirrel.get('primary_fur_color', 'N/A') for squirrel in squirrels_by_park[park_name]])"
      ],
      "metadata": {
        "colab": {
          "base_uri": "https://localhost:8080/",
          "height": 263
        },
        "id": "dkQyuyK9DIK1",
        "outputId": "f1d27088-a70a-4d97-cfa0-a3079c95ee26"
      },
      "execution_count": 26,
      "outputs": [
        {
          "output_type": "error",
          "ename": "AttributeError",
          "evalue": "'str' object has no attribute 'get'",
          "traceback": [
            "\u001b[0;31m---------------------------------------------------------------------------\u001b[0m",
            "\u001b[0;31mAttributeError\u001b[0m                            Traceback (most recent call last)",
            "\u001b[0;32m<ipython-input-26-d0bb997df4d3>\u001b[0m in \u001b[0;36m<cell line: 38>\u001b[0;34m()\u001b[0m\n\u001b[1;32m     38\u001b[0m \u001b[0;32mfor\u001b[0m \u001b[0mpark_name\u001b[0m \u001b[0;32min\u001b[0m \u001b[0msquirrels_by_park\u001b[0m\u001b[0;34m:\u001b[0m\u001b[0;34m\u001b[0m\u001b[0;34m\u001b[0m\u001b[0m\n\u001b[1;32m     39\u001b[0m     \u001b[0;31m# Safely print a list of the primary_fur_color for each squirrel in park_name\u001b[0m\u001b[0;34m\u001b[0m\u001b[0;34m\u001b[0m\u001b[0m\n\u001b[0;32m---> 40\u001b[0;31m     \u001b[0mprint\u001b[0m\u001b[0;34m(\u001b[0m\u001b[0mpark_name\u001b[0m\u001b[0;34m,\u001b[0m \u001b[0;34m[\u001b[0m\u001b[0msquirrel\u001b[0m\u001b[0;34m.\u001b[0m\u001b[0mget\u001b[0m\u001b[0;34m(\u001b[0m\u001b[0;34m'primary_fur_color'\u001b[0m\u001b[0;34m,\u001b[0m \u001b[0;34m'N/A'\u001b[0m\u001b[0;34m)\u001b[0m \u001b[0;32mfor\u001b[0m \u001b[0msquirrel\u001b[0m \u001b[0;32min\u001b[0m \u001b[0msquirrels_by_park\u001b[0m\u001b[0;34m[\u001b[0m\u001b[0mpark_name\u001b[0m\u001b[0;34m]\u001b[0m\u001b[0;34m]\u001b[0m\u001b[0;34m)\u001b[0m\u001b[0;34m\u001b[0m\u001b[0;34m\u001b[0m\u001b[0m\n\u001b[0m",
            "\u001b[0;32m<ipython-input-26-d0bb997df4d3>\u001b[0m in \u001b[0;36m<listcomp>\u001b[0;34m(.0)\u001b[0m\n\u001b[1;32m     38\u001b[0m \u001b[0;32mfor\u001b[0m \u001b[0mpark_name\u001b[0m \u001b[0;32min\u001b[0m \u001b[0msquirrels_by_park\u001b[0m\u001b[0;34m:\u001b[0m\u001b[0;34m\u001b[0m\u001b[0;34m\u001b[0m\u001b[0m\n\u001b[1;32m     39\u001b[0m     \u001b[0;31m# Safely print a list of the primary_fur_color for each squirrel in park_name\u001b[0m\u001b[0;34m\u001b[0m\u001b[0;34m\u001b[0m\u001b[0m\n\u001b[0;32m---> 40\u001b[0;31m     \u001b[0mprint\u001b[0m\u001b[0;34m(\u001b[0m\u001b[0mpark_name\u001b[0m\u001b[0;34m,\u001b[0m \u001b[0;34m[\u001b[0m\u001b[0msquirrel\u001b[0m\u001b[0;34m.\u001b[0m\u001b[0mget\u001b[0m\u001b[0;34m(\u001b[0m\u001b[0;34m'primary_fur_color'\u001b[0m\u001b[0;34m,\u001b[0m \u001b[0;34m'N/A'\u001b[0m\u001b[0;34m)\u001b[0m \u001b[0;32mfor\u001b[0m \u001b[0msquirrel\u001b[0m \u001b[0;32min\u001b[0m \u001b[0msquirrels_by_park\u001b[0m\u001b[0;34m[\u001b[0m\u001b[0mpark_name\u001b[0m\u001b[0;34m]\u001b[0m\u001b[0;34m]\u001b[0m\u001b[0;34m)\u001b[0m\u001b[0;34m\u001b[0m\u001b[0;34m\u001b[0m\u001b[0m\n\u001b[0m",
            "\u001b[0;31mAttributeError\u001b[0m: 'str' object has no attribute 'get'"
          ]
        }
      ]
    },
    {
      "cell_type": "code",
      "source": [
        "# Remove \"Madison Square Park\" from squirrels_by_park\n",
        "squirrels_madison = squirrels_by_park.pop('Madison Square Park')\n",
        "\n",
        "# Safely remove \"City Hall Park\" from squirrels_by_park with an empty dictionary as the default\n",
        "squirrels_city_hall = squirrels_by_park.pop('City Hall Park', {})\n",
        "\n",
        "# Delete \"Union Square Park\" from squirrels_by_park\n",
        "del squirrels_by_park['Union Square Park']\n",
        "\n",
        "# Print squirrels_by_park\n",
        "print(squirrels_by_park)"
      ],
      "metadata": {
        "colab": {
          "base_uri": "https://localhost:8080/"
        },
        "id": "9UJDHacZQCvC",
        "outputId": "c3a845b6-7c4a-4804-ac95-85eb469008d5"
      },
      "execution_count": 25,
      "outputs": [
        {
          "output_type": "stream",
          "name": "stdout",
          "text": [
            "{'Marcus Garvey Park': ('Black', 'Cinnamon', 'Cleaning', None), 'Highbridge Park': ('Gray', 'Cinnamon', 'Running, Eating', 'Runs From, watches us in short tree'), 'J. Hood Wright Park': ('Gray', 'White', 'Running', 'Indifferent'), 'Seward Park': ('Gray', 'Cinnamon', 'Eating', 'Indifferent'), 'Tompkins Square Park': ('Gray', 'Gray', 'Lounging', 'Approaches')}\n"
          ]
        }
      ]
    },
    {
      "cell_type": "code",
      "source": [
        "# Iterate over the first squirrel entry in the Madison Square Park list\n",
        "for field, value in squirrels_by_park[\"Madison Square Park\"][0].items():\n",
        "    # Print field and value\n",
        "    print(field, value)\n",
        "\n",
        "print('-' * 13)\n",
        "\n",
        "# Iterate over the second squirrel entry in the Union Square Park list\n",
        "for field, value in squirrels_by_park[\"Union Square Park\"][1].items():\n",
        "    # Print field and value\n",
        "    print(field, value)"
      ],
      "metadata": {
        "colab": {
          "base_uri": "https://localhost:8080/"
        },
        "id": "Smkr6_CHQCpz",
        "outputId": "8d28d4ed-243c-4e1e-b4d3-ad9394ccf602"
      },
      "execution_count": 30,
      "outputs": [
        {
          "output_type": "stream",
          "name": "stdout",
          "text": [
            "primary_fur_color Gray\n",
            "highlights_in_fur_color None\n",
            "activities Sitting\n",
            "interactions_with_humans Indifferent\n",
            "-------------\n",
            "primary_fur_color Gray\n",
            "highlights_in_fur_color Cinnamon\n",
            "activities Climbing, Eating\n",
            "interactions_with_humans None\n"
          ]
        }
      ]
    },
    {
      "cell_type": "code",
      "source": [
        "# Check to see if Tompkins Square Park is in squirrels_by_park\n",
        "if \"Tompkins Square Park\" in squirrels_by_park:\n",
        "    # Print 'Found Tompkins Square Park'\n",
        "    print('Found Tompkins Square Park')\n",
        "\n",
        "# Check to see if Central Park is in squirrels_by_park\n",
        "if \"Central Park\" in squirrels_by_park:\n",
        "    # Print 'Found Central Park' if found\n",
        "    print('Found Central Park')\n",
        "else:\n",
        "    # Print 'Central Park missing' if not found\n",
        "    print('Central Park missing')"
      ],
      "metadata": {
        "colab": {
          "base_uri": "https://localhost:8080/"
        },
        "id": "wRhkogGLQClp",
        "outputId": "cae20398-f47c-43b2-932d-0ac078e5fd12"
      },
      "execution_count": 31,
      "outputs": [
        {
          "output_type": "stream",
          "name": "stdout",
          "text": [
            "Found Tompkins Square Park\n",
            "Central Park missing\n"
          ]
        }
      ]
    },
    {
      "cell_type": "code",
      "source": [
        "squirrels_by_park = {'J. Hood Wright Park': {'primary_fur_color': 'Gray',\n",
        "  'highlights_in_fur_color': 'Cinnamon',\n",
        "  'activities': 'Running',\n",
        "  'interactions_with_humans': 'Indifferent'},\n",
        " 'Stuyvesant Square Park': {'primary_fur_color': 'Gray',\n",
        "  'highlights_in_fur_color': 'Cinnamon',\n",
        "  'activities': 'Foraging',\n",
        "  'interactions_with_humans': 'Indifferent'},\n",
        " 'Highbridge Park': {'primary_fur_color': 'Gray',\n",
        "  'highlights_in_fur_color': 'White',\n",
        "  'activities': 'Climbing',\n",
        "  'interactions_with_humans': None},\n",
        " 'Tompkins Square Park': {'primary_fur_color': 'Gray',\n",
        "  'highlights_in_fur_color': 'Gray',\n",
        "  'activities': 'Foraging',\n",
        "  'interactions_with_humans': None},\n",
        " 'Union Square Park': {'primary_fur_color': 'Gray',\n",
        "  'activities': 'Eating, Foraging',\n",
        "  'interactions_with_humans': None},\n",
        " 'City Hall Park': {'primary_fur_color': 'Gray',\n",
        "  'highlights_in_fur_color': 'White',\n",
        "  'activities': 'Eating, Foraging',\n",
        "  'interactions_with_humans': 'Indifferent'},\n",
        " 'Msgr. McGolrick Park': {'primary_fur_color': 'Gray',\n",
        "  'highlights_in_fur_color': 'Cinnamon',\n",
        "  'activities': 'Running',\n",
        "  'interactions_with_humans': 'Indifferent'},\n",
        " 'John V. Lindsay East River Park': {'primary_fur_color': 'Gray',\n",
        "  'highlights_in_fur_color': 'Gray',\n",
        "  'activities': 'Running, Chasing, Eating',\n",
        "  'interactions_with_humans': None}}\n",
        "\n",
        "# Print a list of keys from the squirrels_by_park dictionary\n",
        "print(squirrels_by_park.keys())\n",
        "\n",
        "# Print the keys from the squirrels_by_park dictionary for 'Union Square Park'\n",
        "print(squirrels_by_park['Union Square Park'].keys())\n",
        "\n",
        "# Loop over the dictionary\n",
        "for park_name in squirrels_by_park:\n",
        "    # Safely print the park_name and the highlights_in_fur_color or 'N/A'\n",
        "    print(park_name, squirrels_by_park[park_name].get('highlights_in_fur_color', 'N/A'))"
      ],
      "metadata": {
        "colab": {
          "base_uri": "https://localhost:8080/"
        },
        "id": "wUilOoY0Hzp5",
        "outputId": "d611b327-4d38-423d-9b19-169a1f866954"
      },
      "execution_count": 39,
      "outputs": [
        {
          "output_type": "stream",
          "name": "stdout",
          "text": [
            "dict_keys(['J. Hood Wright Park', 'Stuyvesant Square Park', 'Highbridge Park', 'Tompkins Square Park', 'Union Square Park', 'City Hall Park', 'Msgr. McGolrick Park', 'John V. Lindsay East River Park'])\n",
            "dict_keys(['primary_fur_color', 'activities', 'interactions_with_humans'])\n",
            "J. Hood Wright Park Cinnamon\n",
            "Stuyvesant Square Park Cinnamon\n",
            "Highbridge Park White\n",
            "Tompkins Square Park Gray\n",
            "Union Square Park N/A\n",
            "City Hall Park White\n",
            "Msgr. McGolrick Park Cinnamon\n",
            "John V. Lindsay East River Park Gray\n"
          ]
        }
      ]
    },
    {
      "cell_type": "code",
      "source": [
        "squirrels_by_park ={'Tompkins Square Park': [{'primary_fur_color': 'Gray',\n",
        "   'highlights_in_fur_color': 'Gray',\n",
        "   'activities': 'Foraging',\n",
        "   'interactions_with_humans': 'Approaches'},\n",
        "  {'primary_fur_color': 'Gray',\n",
        "   'highlights_in_fur_color': 'Gray',\n",
        "   'activities': 'Climbing (down tree)',\n",
        "   'interactions_with_humans': 'Indifferent'},\n",
        "  {'primary_fur_color': 'Gray',\n",
        "   'highlights_in_fur_color': 'Gray',\n",
        "   'interactions_with_humans': 'Indifferent'},\n",
        "  {'primary_fur_color': 'Gray',\n",
        "   'highlights_in_fur_color': 'Gray',\n",
        "   'activities': 'Foraging',\n",
        "   'interactions_with_humans': 'Indifferent'}],\n",
        " 'Union Square Park': [{'primary_fur_color': 'Gray',\n",
        "   'highlights_in_fur_color': None,\n",
        "   'activities': 'Eating, Foraging',\n",
        "   'interactions_with_humans': None},\n",
        "  {'primary_fur_color': 'Cinnamon',\n",
        "   'highlights_in_fur_color': None,\n",
        "   'activities': 'Foraging',\n",
        "   'interactions_with_humans': None},\n",
        "  {'primary_fur_color': 'Gray',\n",
        "   'highlights_in_fur_color': None,\n",
        "   'activities': 'Eating, Foraging',\n",
        "   'interactions_with_humans': None},\n",
        "  {'primary_fur_color': 'Gray',\n",
        "   'highlights_in_fur_color': None,\n",
        "   'activities': 'Digging',\n",
        "   'interactions_with_humans': 'Indifferent'}]}\n",
        "# Use a for loop to iterate over the squirrels in Tompkins Square Park:\n",
        "for squirrel in squirrels_by_park[\"Tompkins Square Park\"]:\n",
        "\t# Safely print the activities of each squirrel or None\n",
        "    print(squirrel.get(\"activities\"))\n",
        "\n",
        "# Print the list of 'Cinnamon' primary_fur_color squirrels in Union Square Park\n",
        "print([squirrel for squirrel in squirrels_by_park[\"Union Square Park\"] if \"Cinnamon\" == squirrel[\"primary_fur_color\"]])"
      ],
      "metadata": {
        "colab": {
          "base_uri": "https://localhost:8080/"
        },
        "id": "_hy3CYYqILfT",
        "outputId": "b8a2ac11-d474-4f99-f9e1-99910e4b5e37"
      },
      "execution_count": 41,
      "outputs": [
        {
          "output_type": "stream",
          "name": "stdout",
          "text": [
            "Foraging\n",
            "Climbing (down tree)\n",
            "None\n",
            "Foraging\n",
            "[{'primary_fur_color': 'Cinnamon', 'highlights_in_fur_color': None, 'activities': 'Foraging', 'interactions_with_humans': None}]\n"
          ]
        }
      ]
    },
    {
      "cell_type": "code",
      "source": [
        "# Print floats 1, 2, and 3\n",
        "float1, float2, float3 = 0.0001, 0.00001, 0.0000001\n",
        "\n",
        "# Print floats 1, 2, and 3\n",
        "print(float1)\n",
        "print(float2)\n",
        "print(float3)\n",
        "\n",
        "# Print floats 2 and 3 using the f string formatter\n",
        "print(f\"{float2:f}\")\n",
        "print(f\"{float3:f}\")\n",
        "\n",
        "# Print float 3 with a 7 f string precision\n",
        "print(f\"{float3:.7f}\")"
      ],
      "metadata": {
        "colab": {
          "base_uri": "https://localhost:8080/"
        },
        "id": "NXg5UneSBLyi",
        "outputId": "3d55b706-677a-4eaa-f1e9-ecce7cbacc76"
      },
      "execution_count": 44,
      "outputs": [
        {
          "output_type": "stream",
          "name": "stdout",
          "text": [
            "0.0001\n",
            "1e-05\n",
            "1e-07\n",
            "0.000010\n",
            "0.000000\n",
            "0.0000001\n"
          ]
        }
      ]
    },
    {
      "cell_type": "code",
      "source": [
        "# Print the result of 2/1 and 1/2\n",
        "print(2/1)\n",
        "print(1/2)\n",
        "\n",
        "# Print the floored division result of 2//1 and 1//2\n",
        "print(2//1)\n",
        "print(1//2)\n",
        "\n",
        "# Print the type of 2/1 and 2//1\n",
        "print(type(2/1))\n",
        "print(type(2//1))"
      ],
      "metadata": {
        "colab": {
          "base_uri": "https://localhost:8080/"
        },
        "id": "9nshMsxzG80L",
        "outputId": "44587765-2b1c-40d5-d932-b8fa43d14df3"
      },
      "execution_count": 46,
      "outputs": [
        {
          "output_type": "stream",
          "name": "stdout",
          "text": [
            "2.0\n",
            "0.5\n",
            "2\n",
            "0\n",
            "<class 'float'>\n",
            "<class 'int'>\n"
          ]
        }
      ]
    },
    {
      "cell_type": "code",
      "source": [
        "#Truthy values: 1, \"cookie\", [\"cake\"], {\"key\":\"value\"}\n",
        "#Falsey values: values: 0, \"\", [], {}, None\n",
        "\n",
        "x = 0.1 + 1.1\n",
        "\n",
        "print(x == 1.2)\n",
        "print(x)"
      ],
      "metadata": {
        "colab": {
          "base_uri": "https://localhost:8080/"
        },
        "id": "OBs0mPkwG8wN",
        "outputId": "6b24583f-8e33-4597-d6ae-2945e78ae153"
      },
      "execution_count": 51,
      "outputs": [
        {
          "output_type": "stream",
          "name": "stdout",
          "text": [
            "False\n",
            "1.2000000000000002\n"
          ]
        }
      ]
    },
    {
      "cell_type": "code",
      "source": [
        "# Create an empty list\n",
        "my_list = []\n",
        "\n",
        "# Check the truthiness of my_list\n",
        "print(bool(my_list))\n",
        "\n",
        "# Append the string 'cookies' to my_list\n",
        "my_list.append('cookies')\n",
        "\n",
        "# Check the truthiness of my_list\n",
        "print(bool(my_list))"
      ],
      "metadata": {
        "id": "ticigO4rG8W0"
      },
      "execution_count": null,
      "outputs": []
    },
    {
      "cell_type": "code",
      "source": [
        "penguins = [{'species': 'Adlie',\n",
        "  'flipper_length': 190.0,\n",
        "  'body_mass': 3050.0,\n",
        "  'sex': 'FEMALE'},\n",
        " {'species': 'Adlie',\n",
        "  'flipper_length': 184.0,\n",
        "  'body_mass': 3325.0,\n",
        "  'sex': 'FEMALE'},\n",
        " {'species': 'Gentoo',\n",
        "  'flipper_length': 209.0,\n",
        "  'body_mass': 4800.0,\n",
        "  'sex': 'FEMALE'},\n",
        " {'species': 'Adlie',\n",
        "  'flipper_length': 193.0,\n",
        "  'body_mass': 4200.0,\n",
        "  'sex': 'MALE'},\n",
        " {'species': 'Gentoo',\n",
        "  'flipper_length': 210.0,\n",
        "  'body_mass': 4400.0,\n",
        "  'sex': 'FEMALE'},\n",
        " {'species': 'Gentoo',\n",
        "  'flipper_length': 213.0,\n",
        "  'body_mass': 4650.0,\n",
        "  'sex': 'FEMALE'},\n",
        " {'species': 'Chinstrap',\n",
        "  'flipper_length': 193.0,\n",
        "  'body_mass': 3600.0,\n",
        "  'sex': 'FEMALE'},\n",
        " {'species': 'Adlie',\n",
        "  'flipper_length': 193.0,\n",
        "  'body_mass': 3800.0,\n",
        "  'sex': 'MALE'},\n",
        " {'species': 'Chinstrap',\n",
        "  'flipper_length': 199.0,\n",
        "  'body_mass': 3900.0,\n",
        "  'sex': 'FEMALE'},\n",
        " {'species': 'Chinstrap',\n",
        "  'flipper_length': 195.0,\n",
        "  'body_mass': 3650.0,\n",
        "  'sex': 'FEMALE'},\n",
        " {'species': 'Adlie',\n",
        "  'flipper_length': 185.0,\n",
        "  'body_mass': 3700.0,\n",
        "  'sex': 'FEMALE'},\n",
        " {'species': 'Gentoo',\n",
        "  'flipper_length': 208.0,\n",
        "  'body_mass': 4575.0,\n",
        "  'sex': 'FEMALE'},\n",
        " {'species': 'Adlie',\n",
        "  'flipper_length': 196.0,\n",
        "  'body_mass': 4350.0,\n",
        "  'sex': 'MALE'},\n",
        " {'species': 'Adlie',\n",
        "  'flipper_length': 191.0,\n",
        "  'body_mass': 3700.0,\n",
        "  'sex': 'FEMALE'},\n",
        " {'species': 'Chinstrap',\n",
        "  'flipper_length': 195.0,\n",
        "  'body_mass': 3300.0,\n",
        "  'sex': 'FEMALE'},\n",
        " {'species': 'Adlie',\n",
        "  'flipper_length': 195.0,\n",
        "  'body_mass': 3450.0,\n",
        "  'sex': 'FEMALE'},\n",
        " {'species': 'Gentoo',\n",
        "  'flipper_length': 217.0,\n",
        "  'body_mass': 4875.0,\n",
        "  'sex': '.'},\n",
        " {'species': 'Gentoo',\n",
        "  'flipper_length': 212.0,\n",
        "  'body_mass': 4875.0,\n",
        "  'sex': 'FEMALE'},\n",
        " {'species': 'Adlie',\n",
        "  'flipper_length': 205.0,\n",
        "  'body_mass': 4300.0,\n",
        "  'sex': 'MALE'},\n",
        " {'species': 'Gentoo',\n",
        "  'flipper_length': 220.0,\n",
        "  'body_mass': 6000.0,\n",
        "  'sex': 'MALE'}]\n",
        "\n",
        "# Use a for loop to iterate over the penguins list\n",
        "for penguin in penguins:\n",
        "  # Check the penguin entry for a body mass of more than 3300 grams\n",
        "  if penguin[\"body_mass\"] > 3300:\n",
        "  \t# Print the species and sex of the penguin if true\n",
        "    print(f\"{penguin['species']} - {penguin['sex']}\")"
      ],
      "metadata": {
        "colab": {
          "base_uri": "https://localhost:8080/"
        },
        "id": "x1o6PsoqG8NG",
        "outputId": "db2bc121-51b9-4dd4-b937-7296659e715c"
      },
      "execution_count": 54,
      "outputs": [
        {
          "output_type": "stream",
          "name": "stdout",
          "text": [
            "Adlie - FEMALE\n",
            "Gentoo - FEMALE\n",
            "Adlie - MALE\n",
            "Gentoo - FEMALE\n",
            "Gentoo - FEMALE\n",
            "Chinstrap - FEMALE\n",
            "Adlie - MALE\n",
            "Chinstrap - FEMALE\n",
            "Chinstrap - FEMALE\n",
            "Adlie - FEMALE\n",
            "Gentoo - FEMALE\n",
            "Adlie - MALE\n",
            "Adlie - FEMALE\n",
            "Adlie - FEMALE\n",
            "Gentoo - .\n",
            "Gentoo - FEMALE\n",
            "Adlie - MALE\n",
            "Gentoo - MALE\n"
          ]
        }
      ]
    },
    {
      "cell_type": "code",
      "source": [
        "penguin_305_details = {'species': 'Adlie',\n",
        " 'flipper_length': 190.0,\n",
        " 'body_mass': 3050.0,\n",
        " 'tracked': True,\n",
        " 'sex': 'FEMALE'}\n",
        "\n",
        "# Check the truthiness of penguin_305_details sex key\n",
        "if penguin_305_details[\"sex\"]:\n",
        "\t# If true, check if sex is True and store it as sex_is_true\n",
        "    sex_is_true = penguin_305_details[\"sex\"] is True\n",
        "    # Print the sex key's value and sex_is_true\n",
        "    print(f\"{penguin_305_details['sex']}: {sex_is_true}\")\n",
        "\n",
        "# Check the truthiness of penguin_305_details tracked key\n",
        "if penguin_305_details[\"tracked\"]:\n",
        "\t# If true, check if tracked is True and store it as tracked_is_true\n",
        "    tracked_is_true = penguin_305_details[\"tracked\"] is True\n",
        "    # Print the tracked key and tracked_is_true\n",
        "    print(f\"{penguin_305_details['tracked']}: {tracked_is_true}\")"
      ],
      "metadata": {
        "colab": {
          "base_uri": "https://localhost:8080/"
        },
        "id": "hSml4HhzWFFP",
        "outputId": "ed131986-4e57-445e-f8c4-4f4a4f1b2061"
      },
      "execution_count": 57,
      "outputs": [
        {
          "output_type": "stream",
          "name": "stdout",
          "text": [
            "FEMALE: False\n",
            "True: True\n"
          ]
        }
      ]
    },
    {
      "cell_type": "code",
      "source": [
        "male_penguin_species = {'Adlie', 'Gentoo'}\n",
        "# Use a list comprehension to iterate over each penguin in penguins saved as female_species_list\n",
        "# If the the sex of the penguin is 'FEMALE', return the species value\n",
        "female_species_list = [penguin[\"species\"] for penguin in penguins if penguin[\"sex\"] == 'FEMALE']\n",
        "\n",
        "# Create a set using the female_species_list as female_penguin_species\n",
        "female_penguin_species = set(female_species_list)\n",
        "\n",
        "# Find the difference between female_penguin_species and male_penguin_species. Store the result as differences\n",
        "differences = female_penguin_species.difference(male_penguin_species)\n",
        "\n",
        "# Print the differences\n",
        "print(differences)"
      ],
      "metadata": {
        "colab": {
          "base_uri": "https://localhost:8080/"
        },
        "id": "PY7iD5dOWwkw",
        "outputId": "2908e15f-1f96-440b-c4ba-0fc5714dba67"
      },
      "execution_count": 59,
      "outputs": [
        {
          "output_type": "stream",
          "name": "stdout",
          "text": [
            "{'Chinstrap'}\n"
          ]
        }
      ]
    },
    {
      "cell_type": "code",
      "source": [
        "# Find the union: all_species\n",
        "all_species = female_penguin_species.union(male_penguin_species)\n",
        "\n",
        "# Print the count of names in all_species\n",
        "print(len(all_species))\n",
        "\n",
        "# Find the intersection: overlapping_species\n",
        "overlapping_species = female_penguin_species.intersection(male_penguin_species)\n",
        "\n",
        "# Print the count of species in overlapping_species\n",
        "print(len(overlapping_species))"
      ],
      "metadata": {
        "colab": {
          "base_uri": "https://localhost:8080/"
        },
        "id": "zpElsisgWwcM",
        "outputId": "cd675ed6-a1a0-427f-d758-ec322ed232b0"
      },
      "execution_count": 61,
      "outputs": [
        {
          "output_type": "stream",
          "name": "stdout",
          "text": [
            "3\n",
            "2\n"
          ]
        }
      ]
    },
    {
      "cell_type": "code",
      "source": [
        "penguins = [{'Species': 'Gentoo',\n",
        "  'Flipper Length (mm)': 230.0,\n",
        "  'Body Mass (g)': 5500.0,\n",
        "  'Sex': 'MALE'},\n",
        " {'Species': 'Chinstrap',\n",
        "  'Flipper Length (mm)': 201.0,\n",
        "  'Body Mass (g)': 4300.0,\n",
        "  'Sex': 'MALE'},\n",
        " {'Species': 'Adlie',\n",
        "  'Flipper Length (mm)': 180.0,\n",
        "  'Body Mass (g)': 3800.0,\n",
        "  'Sex': 'MALE'},\n",
        " {'Species': 'Gentoo',\n",
        "  'Flipper Length (mm)': 229.0,\n",
        "  'Body Mass (g)': 5800.0,\n",
        "  'Sex': 'MALE'},\n",
        " {'Species': 'Chinstrap',\n",
        "  'Flipper Length (mm)': 210.0,\n",
        "  'Body Mass (g)': 4100.0,\n",
        "  'Sex': 'MALE'},\n",
        " {'Species': 'Adlie',\n",
        "  'Flipper Length (mm)': 200.0,\n",
        "  'Body Mass (g)': 3975.0,\n",
        "  'Sex': 'MALE'},\n",
        " {'Species': 'Gentoo',\n",
        "  'Flipper Length (mm)': 225.0,\n",
        "  'Body Mass (g)': 5400.0,\n",
        "  'Sex': 'MALE'},\n",
        " {'Species': 'Chinstrap',\n",
        "  'Flipper Length (mm)': 210.0,\n",
        "  'Body Mass (g)': 4800.0,\n",
        "  'Sex': 'MALE'},\n",
        " {'Species': 'Chinstrap',\n",
        "  'Flipper Length (mm)': 193.0,\n",
        "  'Body Mass (g)': 3800.0,\n",
        "  'Sex': 'FEMALE'},\n",
        " {'Species': 'Adlie',\n",
        "  'Flipper Length (mm)': 176.0,\n",
        "  'Body Mass (g)': 3450.0,\n",
        "  'Sex': 'FEMALE'},\n",
        " {'Species': 'Chinstrap',\n",
        "  'Flipper Length (mm)': 210.0,\n",
        "  'Body Mass (g)': 3950.0,\n",
        "  'Sex': 'MALE'},\n",
        " {'Species': 'Gentoo',\n",
        "  'Flipper Length (mm)': 219.0,\n",
        "  'Body Mass (g)': 5250.0,\n",
        "  'Sex': 'MALE'},\n",
        " {'Species': 'Gentoo',\n",
        "  'Flipper Length (mm)': 210.0,\n",
        "  'Body Mass (g)': 4300.0,\n",
        "  'Sex': 'FEMALE'},\n",
        " {'Species': 'Gentoo',\n",
        "  'Flipper Length (mm)': 216.0,\n",
        "  'Body Mass (g)': 4925.0,\n",
        "  'Sex': 'MALE'},\n",
        " {'Species': 'Adlie',\n",
        "  'Flipper Length (mm)': 187.0,\n",
        "  'Body Mass (g)': 3550.0,\n",
        "  'Sex': 'FEMALE'},\n",
        " {'Species': 'Adlie',\n",
        "  'Flipper Length (mm)': 192.0,\n",
        "  'Body Mass (g)': 3950.0,\n",
        "  'Sex': 'MALE'},\n",
        " {'Species': 'Chinstrap',\n",
        "  'Flipper Length (mm)': 193.0,\n",
        "  'Body Mass (g)': 3800.0,\n",
        "  'Sex': 'MALE'},\n",
        " {'Species': 'Chinstrap',\n",
        "  'Flipper Length (mm)': 201.0,\n",
        "  'Body Mass (g)': 4050.0,\n",
        "  'Sex': 'MALE'},\n",
        " {'Species': 'Adlie',\n",
        "  'Flipper Length (mm)': 190.0,\n",
        "  'Body Mass (g)': 3650.0,\n",
        "  'Sex': 'MALE'},\n",
        " {'Species': 'Adlie',\n",
        "  'Flipper Length (mm)': 181.0,\n",
        "  'Body Mass (g)': 3175.0,\n",
        "  'Sex': 'FEMALE'}]\n",
        "\n",
        "  # Import the Counter object\n",
        "from collections import Counter\n",
        "\n",
        "# Create a Counter of the penguins sex using a list comp\n",
        "penguins_sex_counts = Counter([penguin['Sex'] for penguin in penguins])\n",
        "\n",
        "# Print the penguins_sex_counts\n",
        "print(penguins_sex_counts)"
      ],
      "metadata": {
        "colab": {
          "base_uri": "https://localhost:8080/"
        },
        "id": "dJL0Ci1Yx3rg",
        "outputId": "e44da6c7-eb90-4c71-f31f-602cbeaf069f"
      },
      "execution_count": 74,
      "outputs": [
        {
          "output_type": "stream",
          "name": "stdout",
          "text": [
            "Counter({'MALE': 15, 'FEMALE': 5})\n"
          ]
        }
      ]
    },
    {
      "cell_type": "code",
      "source": [
        "# Import the Counter object\n",
        "from collections import Counter\n",
        "\n",
        "# Create a Counter of the penguins list: penguins_species_counts\n",
        "penguins_species_counts = Counter(penguin['Species'] for penguin in penguins)\n",
        "\n",
        "# Find the 3 most common species counts\n",
        "print(penguins_species_counts.most_common(3))"
      ],
      "metadata": {
        "colab": {
          "base_uri": "https://localhost:8080/"
        },
        "id": "kJhD4gQGx3nk",
        "outputId": "b9f05216-1dcb-4bd3-cda6-706f8637c1d5"
      },
      "execution_count": 75,
      "outputs": [
        {
          "output_type": "stream",
          "name": "stdout",
          "text": [
            "[('Chinstrap', 7), ('Adlie', 7), ('Gentoo', 6)]\n"
          ]
        }
      ]
    },
    {
      "cell_type": "code",
      "source": [
        "weight_log = [('Chinstrap', 'FEMALE', 3800.0),\n",
        " ('Adlie', 'FEMALE', 3450.0),\n",
        " ('Gentoo', 'FEMALE', 4300.0),\n",
        " ('Adlie', 'FEMALE', 3550.0),\n",
        " ('Adlie', 'FEMALE', 3175.0)]\n",
        "\n",
        "# Create an empty dictionary: female_penguin_weights\n",
        "female_penguin_weights = {}\n",
        "\n",
        "# Iterate over the weight_log entries\n",
        "for species, sex, body_mass in weight_log:\n",
        "    # Check to see if species is already in the dictionary\n",
        "    if species not in female_penguin_weights:\n",
        "        # Create an empty list for any missing species\n",
        "        female_penguin_weights[species] = []\n",
        "    # Append the sex and body_mass as a tuple to the species keys list\n",
        "    female_penguin_weights[species].append((sex, body_mass))\n",
        "\n",
        "# Print the weights for 'Adlie'\n",
        "print(female_penguin_weights['Adlie'])"
      ],
      "metadata": {
        "colab": {
          "base_uri": "https://localhost:8080/"
        },
        "id": "zpaZEFf4x3kR",
        "outputId": "6eb51c58-03b9-47ee-b22d-1998d79f6508"
      },
      "execution_count": 84,
      "outputs": [
        {
          "output_type": "stream",
          "name": "stdout",
          "text": [
            "[('FEMALE', 3450.0), ('FEMALE', 3550.0), ('FEMALE', 3175.0)]\n"
          ]
        }
      ]
    },
    {
      "cell_type": "code",
      "source": [
        "# Import defaultdict\n",
        "from collections import defaultdict\n",
        "\n",
        "# Create a defaultdict with a default type of list: male_penguin_weights\n",
        "male_penguin_weights = defaultdict(list)\n",
        "\n",
        "# Iterate over the weight_log entries\n",
        "for species, sex, body_mass in weight_log:\n",
        "    # Use the species as the key, and append the body_mass to it\n",
        "    male_penguin_weights[species].append(body_mass)\n",
        "\n",
        "# Print the first 2 items of the male_penguin_weights dictionary\n",
        "print(list(male_penguin_weights.items())[:2])"
      ],
      "metadata": {
        "colab": {
          "base_uri": "https://localhost:8080/"
        },
        "id": "XHBOh1u3x3hB",
        "outputId": "ae43dcf7-4edb-481a-9f82-8c8a8698a1d9"
      },
      "execution_count": 85,
      "outputs": [
        {
          "output_type": "stream",
          "name": "stdout",
          "text": [
            "[('Chinstrap', [3800.0]), ('Adlie', [3450.0, 3550.0, 3175.0])]\n"
          ]
        }
      ]
    },
    {
      "cell_type": "code",
      "source": [
        "# Import namedtuple from collections\n",
        "from collections import namedtuple\n",
        "\n",
        "# Create the namedtuple: SpeciesDetails\n",
        "SpeciesDetails = namedtuple('SpeciesDetails', ['species', 'sex', 'body_mass'])\n",
        "\n",
        "# Create the empty list: labeled_entries\n",
        "labeled_entries = []\n",
        "\n",
        "# Iterate over the weight_log entries\n",
        "for species, sex, body_mass in weight_log:\n",
        "    # Append a new SpeciesDetails namedtuple instance for each entry to labeled_entries\n",
        "    entry = SpeciesDetails(species, sex, body_mass)\n",
        "    labeled_entries.append(entry)\n",
        "\n",
        "print(labeled_entries[:5])"
      ],
      "metadata": {
        "colab": {
          "base_uri": "https://localhost:8080/"
        },
        "id": "VZYnwRvix3eF",
        "outputId": "9e2d3c04-52ee-4923-b04e-b24342d66bc2"
      },
      "execution_count": 88,
      "outputs": [
        {
          "output_type": "stream",
          "name": "stdout",
          "text": [
            "[SpeciesDetails(species='Chinstrap', sex='FEMALE', body_mass=3800.0), SpeciesDetails(species='Adlie', sex='FEMALE', body_mass=3450.0), SpeciesDetails(species='Gentoo', sex='FEMALE', body_mass=4300.0), SpeciesDetails(species='Adlie', sex='FEMALE', body_mass=3550.0), SpeciesDetails(species='Adlie', sex='FEMALE', body_mass=3175.0)]\n"
          ]
        }
      ]
    },
    {
      "cell_type": "code",
      "source": [
        "labeled_entries = [SpeciesDetails(species='Gentoo', sex='MALE', body_mass=5500.0),\n",
        " SpeciesDetails(species='Chinstrap', sex='MALE', body_mass=4300.0),\n",
        " SpeciesDetails(species='Adlie', sex='MALE', body_mass=3800.0),\n",
        " SpeciesDetails(species='Gentoo', sex='MALE', body_mass=5800.0),\n",
        " SpeciesDetails(species='Chinstrap', sex='MALE', body_mass=4100.0),\n",
        " SpeciesDetails(species='Adlie', sex='MALE', body_mass=3975.0),\n",
        " SpeciesDetails(species='Gentoo', sex='MALE', body_mass=5400.0),\n",
        " SpeciesDetails(species='Chinstrap', sex='MALE', body_mass=4800.0),\n",
        " SpeciesDetails(species='Chinstrap', sex='FEMALE', body_mass=3800.0),\n",
        " SpeciesDetails(species='Adlie', sex='FEMALE', body_mass=3450.0),\n",
        " SpeciesDetails(species='Chinstrap', sex='MALE', body_mass=3950.0),\n",
        " SpeciesDetails(species='Gentoo', sex='MALE', body_mass=5250.0),\n",
        " SpeciesDetails(species='Gentoo', sex='FEMALE', body_mass=4300.0),\n",
        " SpeciesDetails(species='Gentoo', sex='MALE', body_mass=4925.0),\n",
        " SpeciesDetails(species='Adlie', sex='FEMALE', body_mass=3550.0),\n",
        " SpeciesDetails(species='Adlie', sex='MALE', body_mass=3950.0),\n",
        " SpeciesDetails(species='Chinstrap', sex='MALE', body_mass=3800.0),\n",
        " SpeciesDetails(species='Chinstrap', sex='MALE', body_mass=4050.0),\n",
        " SpeciesDetails(species='Adlie', sex='MALE', body_mass=3650.0),\n",
        " SpeciesDetails(species='Adlie', sex='FEMALE', body_mass=3175.0)]\n",
        "\n",
        "# Iterate over the first twenty entries in labeled_entries\n",
        "for entry in labeled_entries[:20]:\n",
        "    # if the entry's species equals Chinstrap\n",
        "    if entry.species == 'Chinstrap':\n",
        "      # Print each entry's sex and body_mass seperated by a colon\n",
        "      print(f'{entry.sex}:{entry.body_mass}')"
      ],
      "metadata": {
        "colab": {
          "base_uri": "https://localhost:8080/"
        },
        "id": "E_FFijs5x3ay",
        "outputId": "c5a47ea3-9ae7-4a5a-d672-4ae89f1a5d2d"
      },
      "execution_count": 93,
      "outputs": [
        {
          "output_type": "stream",
          "name": "stdout",
          "text": [
            "MALE:4300.0\n",
            "MALE:4100.0\n",
            "MALE:4800.0\n",
            "FEMALE:3800.0\n",
            "MALE:3950.0\n",
            "MALE:3800.0\n",
            "MALE:4050.0\n"
          ]
        }
      ]
    },
    {
      "cell_type": "code",
      "source": [
        "# Import dataclass\n",
        "from dataclasses import dataclass\n",
        "\n",
        "@dataclass\n",
        "class WeightEntry:\n",
        "    # Define the fields on the class\n",
        "    species: str\n",
        "    body_mass: int\n",
        "    flipper_length: int\n",
        "    sex: str\n",
        "\n",
        "    # Define a property that returns the body_mass / flipper_length\n",
        "    @property\n",
        "    def mass_to_flipper_length_ratio(self):\n",
        "        return self.body_mass / self.flipper_length"
      ],
      "metadata": {
        "id": "roaFxA3Lx3Xu"
      },
      "execution_count": 94,
      "outputs": []
    },
    {
      "cell_type": "code",
      "source": [
        "# Create the empty list: labeled_entries\n",
        "labeled_entries = []\n",
        "\n",
        "# Iterate over the weight_log entries\n",
        "for species, flipper_length, body_mass, sex in weight_log:\n",
        "    # Append a new WeightEntry instance to labeled_entries\n",
        "    labeled_entries.append(WeightEntry(species, flipper_length, body_mass, sex))\n",
        "\n",
        "# Print a list of the first 5 mass_to_flipper_length_ratio values\n",
        "print([entry.mass_to_flipper_length_ratio for entry in labeled_entries[:5]])"
      ],
      "metadata": {
        "id": "OaddKm7ox3Ue"
      },
      "execution_count": null,
      "outputs": []
    },
    {
      "cell_type": "code",
      "source": [
        "# Import pandas\n",
        "import pandas as pd\n",
        "\n",
        "# Load CSV into the rides variable\n",
        "rides = pd.read_csv('capital-onebike.csv', parse_dates = ['Start date', 'End date'])\n",
        "\n",
        "# Print the initial (0th) row\n",
        "print(rides.iloc[0])"
      ],
      "metadata": {
        "colab": {
          "base_uri": "https://localhost:8080/"
        },
        "id": "GOlL5603x3QT",
        "outputId": "250baf3f-5c7e-4625-9593-81817fb6e933"
      },
      "execution_count": 10,
      "outputs": [
        {
          "output_type": "stream",
          "name": "stdout",
          "text": [
            "Start date                        2017-10-01 15:23:00\n",
            "End date                          2017-10-01 15:26:00\n",
            "Start station number                            31038\n",
            "Start station                   Glebe Rd & 11th St N \n",
            "End station number                              31036\n",
            "End station             George Mason Dr & Wilson Blvd\n",
            "Bike number                                    W20529\n",
            "Member type                                    Member\n",
            "Duration                                          181\n",
            "Name: 0, dtype: object\n"
          ]
        },
        {
          "output_type": "stream",
          "name": "stderr",
          "text": [
            "<ipython-input-10-327ceb73dffc>:5: UserWarning: Could not infer format, so each element will be parsed individually, falling back to `dateutil`. To ensure parsing is consistent and as-expected, please specify a format.\n",
            "  rides = pd.read_csv('capital-onebike.csv', parse_dates = ['Start date', 'End date'])\n",
            "<ipython-input-10-327ceb73dffc>:5: UserWarning: Could not infer format, so each element will be parsed individually, falling back to `dateutil`. To ensure parsing is consistent and as-expected, please specify a format.\n",
            "  rides = pd.read_csv('capital-onebike.csv', parse_dates = ['Start date', 'End date'])\n"
          ]
        }
      ]
    },
    {
      "cell_type": "code",
      "source": [
        "# Subtract the start date from the end date\n",
        "ride_durations = rides['End date'] - rides['Start date']\n",
        "\n",
        "# Convert the results to seconds\n",
        "rides['Duration'] = ride_durations.dt.total_seconds()\n",
        "\n",
        "print(rides['Duration'].head())"
      ],
      "metadata": {
        "colab": {
          "base_uri": "https://localhost:8080/"
        },
        "id": "oholqRQTx3L7",
        "outputId": "de31ebb8-e8cf-4140-f963-5d6c8f570fa8"
      },
      "execution_count": 11,
      "outputs": [
        {
          "output_type": "stream",
          "name": "stdout",
          "text": [
            "0     180.0\n",
            "1    7620.0\n",
            "2     300.0\n",
            "3    1320.0\n",
            "4    1320.0\n",
            "Name: Duration, dtype: float64\n"
          ]
        }
      ]
    },
    {
      "cell_type": "code",
      "source": [
        "# Create joyrides\n",
        "joyrides = (rides['Start station'] == rides['End station'])\n",
        "\n",
        "# Total number of joyrides\n",
        "print(\"{} rides were joyrides\".format(joyrides.sum()))\n",
        "\n",
        "# Median of all rides\n",
        "print(\"The median duration overall was {:.2f} seconds\"\\\n",
        "      .format(rides['Duration'].median()))\n",
        "\n",
        "# Median of joyrides\n",
        "print(\"The median duration for joyrides was {:.2f} seconds\"\\\n",
        "      .format(rides[joyrides]['Duration'].median()))"
      ],
      "metadata": {
        "colab": {
          "base_uri": "https://localhost:8080/"
        },
        "id": "sZguRPGtWv-G",
        "outputId": "70812520-cfe1-48f9-98fe-f3ba09910f76"
      },
      "execution_count": 13,
      "outputs": [
        {
          "output_type": "stream",
          "name": "stdout",
          "text": [
            "1 rides were joyrides\n",
            "The median duration overall was 1320.00 seconds\n",
            "The median duration for joyrides was 7620.00 seconds\n"
          ]
        }
      ]
    },
    {
      "cell_type": "code",
      "source": [
        "# Import matplotlib\n",
        "import matplotlib.pyplot as plt\n",
        "\n",
        "# Resample rides to monthly, take the size, plot the results\n",
        "rides.resample('M', on = 'Start date')\\\n",
        "  .size()\\\n",
        "  .plot(ylim = [0, 150])\n",
        "\n",
        "# Show the results\n",
        "plt.show()"
      ],
      "metadata": {
        "colab": {
          "base_uri": "https://localhost:8080/",
          "height": 484
        },
        "id": "bMc0UVfzo0HH",
        "outputId": "df7e098e-2494-42bc-d659-b7362238eb96"
      },
      "execution_count": 15,
      "outputs": [
        {
          "output_type": "stream",
          "name": "stderr",
          "text": [
            "/usr/local/lib/python3.10/dist-packages/pandas/plotting/_matplotlib/core.py:1401: UserWarning: Attempting to set identical low and high xlims makes transformation singular; automatically expanding.\n",
            "  ax.set_xlim(left, right)\n"
          ]
        },
        {
          "output_type": "display_data",
          "data": {
            "text/plain": [
              "<Figure size 640x480 with 1 Axes>"
            ],
            "image/png": "[encoded data removed]"
          },
          "metadata": {}
        }
      ]
    },
    {
      "cell_type": "code",
      "source": [
        "# Resample rides to be monthly on the basis of Start date\n",
        "monthly_rides = rides.resample('M', on = 'Start date')['Member type']\n",
        "\n",
        "# Take the ratio of the .value_counts() over the total number of rides\n",
        "print(monthly_rides.value_counts() / monthly_rides.size())"
      ],
      "metadata": {
        "colab": {
          "base_uri": "https://localhost:8080/"
        },
        "id": "oGIckr1jo5L9",
        "outputId": "5b7e3cb2-9304-4c31-c627-e365c24d7bea"
      },
      "execution_count": 18,
      "outputs": [
        {
          "output_type": "stream",
          "name": "stdout",
          "text": [
            "Start date  Member type\n",
            "2017-10-31  Member         0.8\n",
            "            Casual         0.2\n",
            "dtype: float64\n"
          ]
        }
      ]
    },
    {
      "cell_type": "code",
      "source": [
        "# Group rides by member type, and resample to the month\n",
        "grouped = rides.groupby('Member type')\\\n",
        "  .resample('M', on = 'Start date')\n",
        "\n",
        "# Print the median duration for each group\n",
        "print(grouped['Duration'].median())"
      ],
      "metadata": {
        "colab": {
          "base_uri": "https://localhost:8080/"
        },
        "id": "SUfd8eb4o5IM",
        "outputId": "ad169826-f127-48ec-922d-7f367e10d8c1"
      },
      "execution_count": 21,
      "outputs": [
        {
          "output_type": "stream",
          "name": "stdout",
          "text": [
            "Member type  Start date\n",
            "Casual       2017-10-31    7620.0\n",
            "Member       2017-10-31     810.0\n",
            "Name: Duration, dtype: float64\n"
          ]
        }
      ]
    },
    {
      "cell_type": "code",
      "source": [
        "# Localize the Start date column to America/New_York\n",
        "rides['Start date'] = rides['Start date'].dt.tz_localize('America/New_York', ambiguous = 'NaT')\n",
        "\n",
        "# Print first value\n",
        "print(rides['Start date'].iloc[0])"
      ],
      "metadata": {
        "colab": {
          "base_uri": "https://localhost:8080/"
        },
        "id": "GfbVAiKzo5Dw",
        "outputId": "d273da32-8806-4421-8dc9-9df4e0e4fe98"
      },
      "execution_count": 22,
      "outputs": [
        {
          "output_type": "stream",
          "name": "stdout",
          "text": [
            "2017-10-01 15:23:00-04:00\n"
          ]
        }
      ]
    },
    {
      "cell_type": "code",
      "source": [
        "# Localize the Start date column to America/New_York\n",
        "# rides['Start date'] = rides['Start date'].dt.tz_localize('America/New_York', ambiguous = 'NaT')\n",
        "\n",
        "# Print first value\n",
        "print(rides['Start date'].iloc[0])\n",
        "\n",
        "# Convert the Start date column to Europe/London\n",
        "rides['Start date'] = rides['Start date'].dt.tz_convert('Europe/London')\n",
        "\n",
        "# Print the new value\n",
        "print(rides['Start date'].iloc[0])"
      ],
      "metadata": {
        "colab": {
          "base_uri": "https://localhost:8080/"
        },
        "id": "cbzUMOZCnYxk",
        "outputId": "81fb01d3-f3f3-4d39-fe2b-f64ae3c2c1e6"
      },
      "execution_count": 29,
      "outputs": [
        {
          "output_type": "stream",
          "name": "stdout",
          "text": [
            "2017-10-01 15:23:00-04:00\n",
            "2017-10-01 20:23:00+01:00\n"
          ]
        }
      ]
    },
    {
      "cell_type": "code",
      "source": [
        "# Add a column for the weekday of the start of the ride\n",
        "rides['Ride start weekday'] = rides['Start date'].dt.day_name()\n",
        "\n",
        "# Print the median trip time per weekday\n",
        "print(rides.groupby('Ride start weekday')['Duration'].median())"
      ],
      "metadata": {
        "colab": {
          "base_uri": "https://localhost:8080/"
        },
        "id": "0uYRvQaOoW9-",
        "outputId": "1f98338a-722d-4d10-a8ec-47f9646ecb39"
      },
      "execution_count": 31,
      "outputs": [
        {
          "output_type": "stream",
          "name": "stdout",
          "text": [
            "Ride start weekday\n",
            "Monday    1320.0\n",
            "Sunday    3900.0\n",
            "Name: Duration, dtype: float64\n"
          ]
        }
      ]
    },
    {
      "cell_type": "code",
      "source": [
        "# Shift the index of the end date up one; now subract it from the start date\n",
        "rides['Time since'] = rides['Start date'] - (rides['End date'].shift(1))\n",
        "\n",
        "# Move from a timedelta to a number of seconds, which is easier to work with\n",
        "rides['Time since'] = rides['Time since'].dt.total_seconds()\n",
        "\n",
        "# Resample to the month\n",
        "monthly = rides.resample('M', on = 'Start date')\n",
        "\n",
        "# Print the average hours between rides each month\n",
        "print(monthly['Time since'].mean()/(60*60))"
      ],
      "metadata": {
        "colab": {
          "base_uri": "https://localhost:8080/",
          "height": 408
        },
        "id": "4rBylPM5oXiO",
        "outputId": "04966cdb-c7a6-45dd-d62e-e702ba870b1b"
      },
      "execution_count": 37,
      "outputs": [
        {
          "output_type": "error",
          "ename": "TypeError",
          "evalue": "Cannot subtract tz-naive and tz-aware datetime-like objects",
          "traceback": [
            "\u001b[0;31m---------------------------------------------------------------------------\u001b[0m",
            "\u001b[0;31mTypeError\u001b[0m                                 Traceback (most recent call last)",
            "\u001b[0;32m/usr/local/lib/python3.10/dist-packages/pandas/core/arrays/datetimelike.py\u001b[0m in \u001b[0;36m_sub_datetimelike\u001b[0;34m(self, other)\u001b[0m\n\u001b[1;32m   1119\u001b[0m         \u001b[0;32mtry\u001b[0m\u001b[0;34m:\u001b[0m\u001b[0;34m\u001b[0m\u001b[0;34m\u001b[0m\u001b[0m\n\u001b[0;32m-> 1120\u001b[0;31m             \u001b[0mself\u001b[0m\u001b[0;34m.\u001b[0m\u001b[0m_assert_tzawareness_compat\u001b[0m\u001b[0;34m(\u001b[0m\u001b[0mother\u001b[0m\u001b[0;34m)\u001b[0m\u001b[0;34m\u001b[0m\u001b[0;34m\u001b[0m\u001b[0m\n\u001b[0m\u001b[1;32m   1121\u001b[0m         \u001b[0;32mexcept\u001b[0m \u001b[0mTypeError\u001b[0m \u001b[0;32mas\u001b[0m \u001b[0merr\u001b[0m\u001b[0;34m:\u001b[0m\u001b[0;34m\u001b[0m\u001b[0;34m\u001b[0m\u001b[0m\n",
            "\u001b[0;32m/usr/local/lib/python3.10/dist-packages/pandas/core/arrays/datetimes.py\u001b[0m in \u001b[0;36m_assert_tzawareness_compat\u001b[0;34m(self, other)\u001b[0m\n\u001b[1;32m    747\u001b[0m         \u001b[0;32melif\u001b[0m \u001b[0mother_tz\u001b[0m \u001b[0;32mis\u001b[0m \u001b[0;32mNone\u001b[0m\u001b[0;34m:\u001b[0m\u001b[0;34m\u001b[0m\u001b[0;34m\u001b[0m\u001b[0m\n\u001b[0;32m--> 748\u001b[0;31m             raise TypeError(\n\u001b[0m\u001b[1;32m    749\u001b[0m                 \u001b[0;34m\"Cannot compare tz-naive and tz-aware datetime-like objects\"\u001b[0m\u001b[0;34m\u001b[0m\u001b[0;34m\u001b[0m\u001b[0m\n",
            "\u001b[0;31mTypeError\u001b[0m: Cannot compare tz-naive and tz-aware datetime-like objects",
            "\nThe above exception was the direct cause of the following exception:\n",
            "\u001b[0;31mTypeError\u001b[0m                                 Traceback (most recent call last)",
            "\u001b[0;32m<ipython-input-37-838b415959aa>\u001b[0m in \u001b[0;36m<cell line: 2>\u001b[0;34m()\u001b[0m\n\u001b[1;32m      1\u001b[0m \u001b[0;31m# Shift the index of the end date up one; now subract it from the start date\u001b[0m\u001b[0;34m\u001b[0m\u001b[0;34m\u001b[0m\u001b[0m\n\u001b[0;32m----> 2\u001b[0;31m \u001b[0mrides\u001b[0m\u001b[0;34m[\u001b[0m\u001b[0;34m'Time since'\u001b[0m\u001b[0;34m]\u001b[0m \u001b[0;34m=\u001b[0m \u001b[0mrides\u001b[0m\u001b[0;34m[\u001b[0m\u001b[0;34m'Start date'\u001b[0m\u001b[0;34m]\u001b[0m \u001b[0;34m-\u001b[0m \u001b[0;34m(\u001b[0m\u001b[0mrides\u001b[0m\u001b[0;34m[\u001b[0m\u001b[0;34m'End date'\u001b[0m\u001b[0;34m]\u001b[0m\u001b[0;34m.\u001b[0m\u001b[0mshift\u001b[0m\u001b[0;34m(\u001b[0m\u001b[0;36m1\u001b[0m\u001b[0;34m)\u001b[0m\u001b[0;34m)\u001b[0m\u001b[0;34m\u001b[0m\u001b[0;34m\u001b[0m\u001b[0m\n\u001b[0m\u001b[1;32m      3\u001b[0m \u001b[0;34m\u001b[0m\u001b[0m\n\u001b[1;32m      4\u001b[0m \u001b[0;31m# Move from a timedelta to a number of seconds, which is easier to work with\u001b[0m\u001b[0;34m\u001b[0m\u001b[0;34m\u001b[0m\u001b[0m\n\u001b[1;32m      5\u001b[0m \u001b[0mrides\u001b[0m\u001b[0;34m[\u001b[0m\u001b[0;34m'Time since'\u001b[0m\u001b[0;34m]\u001b[0m \u001b[0;34m=\u001b[0m \u001b[0mrides\u001b[0m\u001b[0;34m[\u001b[0m\u001b[0;34m'Time since'\u001b[0m\u001b[0;34m]\u001b[0m\u001b[0;34m.\u001b[0m\u001b[0mdt\u001b[0m\u001b[0;34m.\u001b[0m\u001b[0mtotal_seconds\u001b[0m\u001b[0;34m(\u001b[0m\u001b[0;34m)\u001b[0m\u001b[0;34m\u001b[0m\u001b[0;34m\u001b[0m\u001b[0m\n",
            "\u001b[0;32m/usr/local/lib/python3.10/dist-packages/pandas/core/ops/common.py\u001b[0m in \u001b[0;36mnew_method\u001b[0;34m(self, other)\u001b[0m\n\u001b[1;32m     79\u001b[0m         \u001b[0mother\u001b[0m \u001b[0;34m=\u001b[0m \u001b[0mitem_from_zerodim\u001b[0m\u001b[0;34m(\u001b[0m\u001b[0mother\u001b[0m\u001b[0;34m)\u001b[0m\u001b[0;34m\u001b[0m\u001b[0;34m\u001b[0m\u001b[0m\n\u001b[1;32m     80\u001b[0m \u001b[0;34m\u001b[0m\u001b[0m\n\u001b[0;32m---> 81\u001b[0;31m         \u001b[0;32mreturn\u001b[0m \u001b[0mmethod\u001b[0m\u001b[0;34m(\u001b[0m\u001b[0mself\u001b[0m\u001b[0;34m,\u001b[0m \u001b[0mother\u001b[0m\u001b[0;34m)\u001b[0m\u001b[0;34m\u001b[0m\u001b[0;34m\u001b[0m\u001b[0m\n\u001b[0m\u001b[1;32m     82\u001b[0m \u001b[0;34m\u001b[0m\u001b[0m\n\u001b[1;32m     83\u001b[0m     \u001b[0;32mreturn\u001b[0m \u001b[0mnew_method\u001b[0m\u001b[0;34m\u001b[0m\u001b[0;34m\u001b[0m\u001b[0m\n",
            "\u001b[0;32m/usr/local/lib/python3.10/dist-packages/pandas/core/arraylike.py\u001b[0m in \u001b[0;36m__sub__\u001b[0;34m(self, other)\u001b[0m\n\u001b[1;32m    192\u001b[0m     \u001b[0;34m@\u001b[0m\u001b[0munpack_zerodim_and_defer\u001b[0m\u001b[0;34m(\u001b[0m\u001b[0;34m\"__sub__\"\u001b[0m\u001b[0;34m)\u001b[0m\u001b[0;34m\u001b[0m\u001b[0;34m\u001b[0m\u001b[0m\n\u001b[1;32m    193\u001b[0m     \u001b[0;32mdef\u001b[0m \u001b[0m__sub__\u001b[0m\u001b[0;34m(\u001b[0m\u001b[0mself\u001b[0m\u001b[0;34m,\u001b[0m \u001b[0mother\u001b[0m\u001b[0;34m)\u001b[0m\u001b[0;34m:\u001b[0m\u001b[0;34m\u001b[0m\u001b[0;34m\u001b[0m\u001b[0m\n\u001b[0;32m--> 194\u001b[0;31m         \u001b[0;32mreturn\u001b[0m \u001b[0mself\u001b[0m\u001b[0;34m.\u001b[0m\u001b[0m_arith_method\u001b[0m\u001b[0;34m(\u001b[0m\u001b[0mother\u001b[0m\u001b[0;34m,\u001b[0m \u001b[0moperator\u001b[0m\u001b[0;34m.\u001b[0m\u001b[0msub\u001b[0m\u001b[0;34m)\u001b[0m\u001b[0;34m\u001b[0m\u001b[0;34m\u001b[0m\u001b[0m\n\u001b[0m\u001b[1;32m    195\u001b[0m \u001b[0;34m\u001b[0m\u001b[0m\n\u001b[1;32m    196\u001b[0m     \u001b[0;34m@\u001b[0m\u001b[0munpack_zerodim_and_defer\u001b[0m\u001b[0;34m(\u001b[0m\u001b[0;34m\"__rsub__\"\u001b[0m\u001b[0;34m)\u001b[0m\u001b[0;34m\u001b[0m\u001b[0;34m\u001b[0m\u001b[0m\n",
            "\u001b[0;32m/usr/local/lib/python3.10/dist-packages/pandas/core/series.py\u001b[0m in \u001b[0;36m_arith_method\u001b[0;34m(self, other, op)\u001b[0m\n\u001b[1;32m   6110\u001b[0m     \u001b[0;32mdef\u001b[0m \u001b[0m_arith_method\u001b[0m\u001b[0;34m(\u001b[0m\u001b[0mself\u001b[0m\u001b[0;34m,\u001b[0m \u001b[0mother\u001b[0m\u001b[0;34m,\u001b[0m \u001b[0mop\u001b[0m\u001b[0;34m)\u001b[0m\u001b[0;34m:\u001b[0m\u001b[0;34m\u001b[0m\u001b[0;34m\u001b[0m\u001b[0m\n\u001b[1;32m   6111\u001b[0m         \u001b[0mself\u001b[0m\u001b[0;34m,\u001b[0m \u001b[0mother\u001b[0m \u001b[0;34m=\u001b[0m \u001b[0mops\u001b[0m\u001b[0;34m.\u001b[0m\u001b[0malign_method_SERIES\u001b[0m\u001b[0;34m(\u001b[0m\u001b[0mself\u001b[0m\u001b[0;34m,\u001b[0m \u001b[0mother\u001b[0m\u001b[0;34m)\u001b[0m\u001b[0;34m\u001b[0m\u001b[0;34m\u001b[0m\u001b[0m\n\u001b[0;32m-> 6112\u001b[0;31m         \u001b[0;32mreturn\u001b[0m \u001b[0mbase\u001b[0m\u001b[0;34m.\u001b[0m\u001b[0mIndexOpsMixin\u001b[0m\u001b[0;34m.\u001b[0m\u001b[0m_arith_method\u001b[0m\u001b[0;34m(\u001b[0m\u001b[0mself\u001b[0m\u001b[0;34m,\u001b[0m \u001b[0mother\u001b[0m\u001b[0;34m,\u001b[0m \u001b[0mop\u001b[0m\u001b[0;34m)\u001b[0m\u001b[0;34m\u001b[0m\u001b[0;34m\u001b[0m\u001b[0m\n\u001b[0m\u001b[1;32m   6113\u001b[0m \u001b[0;34m\u001b[0m\u001b[0m\n\u001b[1;32m   6114\u001b[0m \u001b[0;34m\u001b[0m\u001b[0m\n",
            "\u001b[0;32m/usr/local/lib/python3.10/dist-packages/pandas/core/base.py\u001b[0m in \u001b[0;36m_arith_method\u001b[0;34m(self, other, op)\u001b[0m\n\u001b[1;32m   1346\u001b[0m \u001b[0;34m\u001b[0m\u001b[0m\n\u001b[1;32m   1347\u001b[0m         \u001b[0;32mwith\u001b[0m \u001b[0mnp\u001b[0m\u001b[0;34m.\u001b[0m\u001b[0merrstate\u001b[0m\u001b[0;34m(\u001b[0m\u001b[0mall\u001b[0m\u001b[0;34m=\u001b[0m\u001b[0;34m\"ignore\"\u001b[0m\u001b[0;34m)\u001b[0m\u001b[0;34m:\u001b[0m\u001b[0;34m\u001b[0m\u001b[0;34m\u001b[0m\u001b[0m\n\u001b[0;32m-> 1348\u001b[0;31m             \u001b[0mresult\u001b[0m \u001b[0;34m=\u001b[0m \u001b[0mops\u001b[0m\u001b[0;34m.\u001b[0m\u001b[0marithmetic_op\u001b[0m\u001b[0;34m(\u001b[0m\u001b[0mlvalues\u001b[0m\u001b[0;34m,\u001b[0m \u001b[0mrvalues\u001b[0m\u001b[0;34m,\u001b[0m \u001b[0mop\u001b[0m\u001b[0;34m)\u001b[0m\u001b[0;34m\u001b[0m\u001b[0;34m\u001b[0m\u001b[0m\n\u001b[0m\u001b[1;32m   1349\u001b[0m \u001b[0;34m\u001b[0m\u001b[0m\n\u001b[1;32m   1350\u001b[0m         \u001b[0;32mreturn\u001b[0m \u001b[0mself\u001b[0m\u001b[0;34m.\u001b[0m\u001b[0m_construct_result\u001b[0m\u001b[0;34m(\u001b[0m\u001b[0mresult\u001b[0m\u001b[0;34m,\u001b[0m \u001b[0mname\u001b[0m\u001b[0;34m=\u001b[0m\u001b[0mres_name\u001b[0m\u001b[0;34m)\u001b[0m\u001b[0;34m\u001b[0m\u001b[0;34m\u001b[0m\u001b[0m\n",
            "\u001b[0;32m/usr/local/lib/python3.10/dist-packages/pandas/core/ops/array_ops.py\u001b[0m in \u001b[0;36marithmetic_op\u001b[0;34m(left, right, op)\u001b[0m\n\u001b[1;32m    222\u001b[0m         \u001b[0;31m# Timedelta/Timestamp and other custom scalars are included in the check\u001b[0m\u001b[0;34m\u001b[0m\u001b[0;34m\u001b[0m\u001b[0m\n\u001b[1;32m    223\u001b[0m         \u001b[0;31m# because numexpr will fail on it, see GH#31457\u001b[0m\u001b[0;34m\u001b[0m\u001b[0;34m\u001b[0m\u001b[0m\n\u001b[0;32m--> 224\u001b[0;31m         \u001b[0mres_values\u001b[0m \u001b[0;34m=\u001b[0m \u001b[0mop\u001b[0m\u001b[0;34m(\u001b[0m\u001b[0mleft\u001b[0m\u001b[0;34m,\u001b[0m \u001b[0mright\u001b[0m\u001b[0;34m)\u001b[0m\u001b[0;34m\u001b[0m\u001b[0;34m\u001b[0m\u001b[0m\n\u001b[0m\u001b[1;32m    225\u001b[0m     \u001b[0;32melse\u001b[0m\u001b[0;34m:\u001b[0m\u001b[0;34m\u001b[0m\u001b[0;34m\u001b[0m\u001b[0m\n\u001b[1;32m    226\u001b[0m         \u001b[0;31m# TODO we should handle EAs consistently and move this check before the if/else\u001b[0m\u001b[0;34m\u001b[0m\u001b[0;34m\u001b[0m\u001b[0m\n",
            "\u001b[0;32m/usr/local/lib/python3.10/dist-packages/pandas/core/ops/common.py\u001b[0m in \u001b[0;36mnew_method\u001b[0;34m(self, other)\u001b[0m\n\u001b[1;32m     79\u001b[0m         \u001b[0mother\u001b[0m \u001b[0;34m=\u001b[0m \u001b[0mitem_from_zerodim\u001b[0m\u001b[0;34m(\u001b[0m\u001b[0mother\u001b[0m\u001b[0;34m)\u001b[0m\u001b[0;34m\u001b[0m\u001b[0;34m\u001b[0m\u001b[0m\n\u001b[1;32m     80\u001b[0m \u001b[0;34m\u001b[0m\u001b[0m\n\u001b[0;32m---> 81\u001b[0;31m         \u001b[0;32mreturn\u001b[0m \u001b[0mmethod\u001b[0m\u001b[0;34m(\u001b[0m\u001b[0mself\u001b[0m\u001b[0;34m,\u001b[0m \u001b[0mother\u001b[0m\u001b[0;34m)\u001b[0m\u001b[0;34m\u001b[0m\u001b[0;34m\u001b[0m\u001b[0m\n\u001b[0m\u001b[1;32m     82\u001b[0m \u001b[0;34m\u001b[0m\u001b[0m\n\u001b[1;32m     83\u001b[0m     \u001b[0;32mreturn\u001b[0m \u001b[0mnew_method\u001b[0m\u001b[0;34m\u001b[0m\u001b[0;34m\u001b[0m\u001b[0m\n",
            "\u001b[0;32m/usr/local/lib/python3.10/dist-packages/pandas/core/arrays/datetimelike.py\u001b[0m in \u001b[0;36m__sub__\u001b[0;34m(self, other)\u001b[0m\n\u001b[1;32m   1404\u001b[0m         \u001b[0;32melif\u001b[0m \u001b[0mis_datetime64_dtype\u001b[0m\u001b[0;34m(\u001b[0m\u001b[0mother_dtype\u001b[0m\u001b[0;34m)\u001b[0m \u001b[0;32mor\u001b[0m \u001b[0mis_datetime64tz_dtype\u001b[0m\u001b[0;34m(\u001b[0m\u001b[0mother_dtype\u001b[0m\u001b[0;34m)\u001b[0m\u001b[0;34m:\u001b[0m\u001b[0;34m\u001b[0m\u001b[0;34m\u001b[0m\u001b[0m\n\u001b[1;32m   1405\u001b[0m             \u001b[0;31m# DatetimeIndex, ndarray[datetime64]\u001b[0m\u001b[0;34m\u001b[0m\u001b[0;34m\u001b[0m\u001b[0m\n\u001b[0;32m-> 1406\u001b[0;31m             \u001b[0mresult\u001b[0m \u001b[0;34m=\u001b[0m \u001b[0mself\u001b[0m\u001b[0;34m.\u001b[0m\u001b[0m_sub_datetime_arraylike\u001b[0m\u001b[0;34m(\u001b[0m\u001b[0mother\u001b[0m\u001b[0;34m)\u001b[0m\u001b[0;34m\u001b[0m\u001b[0;34m\u001b[0m\u001b[0m\n\u001b[0m\u001b[1;32m   1407\u001b[0m         \u001b[0;32melif\u001b[0m \u001b[0mis_period_dtype\u001b[0m\u001b[0;34m(\u001b[0m\u001b[0mother_dtype\u001b[0m\u001b[0;34m)\u001b[0m\u001b[0;34m:\u001b[0m\u001b[0;34m\u001b[0m\u001b[0;34m\u001b[0m\u001b[0m\n\u001b[1;32m   1408\u001b[0m             \u001b[0;31m# PeriodIndex\u001b[0m\u001b[0;34m\u001b[0m\u001b[0;34m\u001b[0m\u001b[0m\n",
            "\u001b[0;32m/usr/local/lib/python3.10/dist-packages/pandas/core/arrays/datetimelike.py\u001b[0m in \u001b[0;36m_sub_datetime_arraylike\u001b[0;34m(self, other)\u001b[0m\n\u001b[1;32m   1109\u001b[0m \u001b[0;34m\u001b[0m\u001b[0m\n\u001b[1;32m   1110\u001b[0m         \u001b[0mself\u001b[0m\u001b[0;34m,\u001b[0m \u001b[0mother\u001b[0m \u001b[0;34m=\u001b[0m \u001b[0mself\u001b[0m\u001b[0;34m.\u001b[0m\u001b[0m_ensure_matching_resos\u001b[0m\u001b[0;34m(\u001b[0m\u001b[0mother\u001b[0m\u001b[0;34m)\u001b[0m\u001b[0;34m\u001b[0m\u001b[0;34m\u001b[0m\u001b[0m\n\u001b[0;32m-> 1111\u001b[0;31m         \u001b[0;32mreturn\u001b[0m \u001b[0mself\u001b[0m\u001b[0;34m.\u001b[0m\u001b[0m_sub_datetimelike\u001b[0m\u001b[0;34m(\u001b[0m\u001b[0mother\u001b[0m\u001b[0;34m)\u001b[0m\u001b[0;34m\u001b[0m\u001b[0;34m\u001b[0m\u001b[0m\n\u001b[0m\u001b[1;32m   1112\u001b[0m \u001b[0;34m\u001b[0m\u001b[0m\n\u001b[1;32m   1113\u001b[0m     \u001b[0;34m@\u001b[0m\u001b[0mfinal\u001b[0m\u001b[0;34m\u001b[0m\u001b[0;34m\u001b[0m\u001b[0m\n",
            "\u001b[0;32m/usr/local/lib/python3.10/dist-packages/pandas/core/arrays/datetimelike.py\u001b[0m in \u001b[0;36m_sub_datetimelike\u001b[0;34m(self, other)\u001b[0m\n\u001b[1;32m   1121\u001b[0m         \u001b[0;32mexcept\u001b[0m \u001b[0mTypeError\u001b[0m \u001b[0;32mas\u001b[0m \u001b[0merr\u001b[0m\u001b[0;34m:\u001b[0m\u001b[0;34m\u001b[0m\u001b[0;34m\u001b[0m\u001b[0m\n\u001b[1;32m   1122\u001b[0m             \u001b[0mnew_message\u001b[0m \u001b[0;34m=\u001b[0m \u001b[0mstr\u001b[0m\u001b[0;34m(\u001b[0m\u001b[0merr\u001b[0m\u001b[0;34m)\u001b[0m\u001b[0;34m.\u001b[0m\u001b[0mreplace\u001b[0m\u001b[0;34m(\u001b[0m\u001b[0;34m\"compare\"\u001b[0m\u001b[0;34m,\u001b[0m \u001b[0;34m\"subtract\"\u001b[0m\u001b[0;34m)\u001b[0m\u001b[0;34m\u001b[0m\u001b[0;34m\u001b[0m\u001b[0m\n\u001b[0;32m-> 1123\u001b[0;31m             \u001b[0;32mraise\u001b[0m \u001b[0mtype\u001b[0m\u001b[0;34m(\u001b[0m\u001b[0merr\u001b[0m\u001b[0;34m)\u001b[0m\u001b[0;34m(\u001b[0m\u001b[0mnew_message\u001b[0m\u001b[0;34m)\u001b[0m \u001b[0;32mfrom\u001b[0m \u001b[0merr\u001b[0m\u001b[0;34m\u001b[0m\u001b[0;34m\u001b[0m\u001b[0m\n\u001b[0m\u001b[1;32m   1124\u001b[0m \u001b[0;34m\u001b[0m\u001b[0m\n\u001b[1;32m   1125\u001b[0m         \u001b[0mother_i8\u001b[0m\u001b[0;34m,\u001b[0m \u001b[0mo_mask\u001b[0m \u001b[0;34m=\u001b[0m \u001b[0mself\u001b[0m\u001b[0;34m.\u001b[0m\u001b[0m_get_i8_values_and_mask\u001b[0m\u001b[0;34m(\u001b[0m\u001b[0mother\u001b[0m\u001b[0;34m)\u001b[0m\u001b[0;34m\u001b[0m\u001b[0;34m\u001b[0m\u001b[0m\n",
            "\u001b[0;31mTypeError\u001b[0m: Cannot subtract tz-naive and tz-aware datetime-like objects"
          ]
        }
      ]
    },
    {
      "cell_type": "code",
      "source": [
        "input_list = [1,2,3]\n",
        "input_list[1]"
      ],
      "metadata": {
        "colab": {
          "base_uri": "https://localhost:8080/"
        },
        "id": "oTbjnSVuoXei",
        "outputId": "b6cccecf-7fa9-46b6-a8ae-cc63631c763d"
      },
      "execution_count": 38,
      "outputs": [
        {
          "output_type": "execute_result",
          "data": {
            "text/plain": [
              "2"
            ]
          },
          "metadata": {},
          "execution_count": 38
        }
      ]
    }
  ]
}