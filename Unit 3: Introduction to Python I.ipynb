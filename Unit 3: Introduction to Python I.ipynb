{
  "nbformat": 4,
  "nbformat_minor": 0,
  "metadata": {
    "colab": {
      "provenance": [],
      "authorship_tag": "ABX9TyPkF7S4CEG936XWGyUmstj9",
      "include_colab_link": true
    },
    "kernelspec": {
      "name": "python3",
      "display_name": "Python 3"
    },
    "language_info": {
      "name": "python"
    }
  },
  "cells": [
    {
      "cell_type": "markdown",
      "metadata": {
        "id": "view-in-github",
        "colab_type": "text"
      },
      "source": [
        "<a href=\"https://colab.research.google.com/github/namozhdehi/DataScience/blob/main/Unit%203%3A%20Introduction%20to%20Python%20I.ipynb\" target=\"_parent\"><img src=\"https://colab.research.google.com/assets/colab-badge.svg\" alt=\"Open In Colab\"/></a>"
      ]
    },
    {
      "cell_type": "markdown",
      "source": [
        "# **Hello World**"
      ],
      "metadata": {
        "id": "QFxHzrk35D_m"
      }
    },
    {
      "cell_type": "code",
      "execution_count": null,
      "metadata": {
        "colab": {
          "base_uri": "https://localhost:8080/"
        },
        "id": "1Nz8RN0cztWU",
        "outputId": "e61546f3-af60-4883-da5c-25df9bd17531"
      },
      "outputs": [
        {
          "output_type": "stream",
          "name": "stdout",
          "text": [
            "Hello World\n",
            "Hello World\n"
          ]
        }
      ],
      "source": [
        "print('Hello World')\n",
        "print(\"Hello World\")"
      ]
    },
    {
      "cell_type": "code",
      "source": [
        "age = 20\n",
        "price = 19.95\n",
        "first_name = \"Nahid\"\n",
        "in_online = False\n",
        "print(age)"
      ],
      "metadata": {
        "colab": {
          "base_uri": "https://localhost:8080/"
        },
        "id": "2YJqlFFgzzfw",
        "outputId": "55e2681d-a953-4a1b-9778-16236e5170d6"
      },
      "execution_count": null,
      "outputs": [
        {
          "output_type": "stream",
          "name": "stdout",
          "text": [
            "20\n"
          ]
        }
      ]
    },
    {
      "cell_type": "code",
      "source": [
        "name = input(\"What is your name? \")\n",
        "print(\"Hello \" + str(name))"
      ],
      "metadata": {
        "colab": {
          "base_uri": "https://localhost:8080/"
        },
        "id": "Qg2n3gCXz2h2",
        "outputId": "14552378-b886-4da0-bf97-aa8a7f905a2d"
      },
      "execution_count": null,
      "outputs": [
        {
          "output_type": "stream",
          "name": "stdout",
          "text": [
            "What is your name? Nahid\n",
            "Hello Nahid\n"
          ]
        }
      ]
    },
    {
      "cell_type": "code",
      "source": [
        "# Converting: int() , float() , str() , bool()\n",
        "birth_year = input(\"Enter your birth year: \")\n",
        "age = 2024 - int(birth_year)\n",
        "print(age)"
      ],
      "metadata": {
        "colab": {
          "base_uri": "https://localhost:8080/"
        },
        "id": "-3lj8Rxdz7oo",
        "outputId": "fdde91ae-d46a-4d5e-c51b-bc25397d13c1"
      },
      "execution_count": null,
      "outputs": [
        {
          "output_type": "stream",
          "name": "stdout",
          "text": [
            "Enter your birth year: 1990\n",
            "34\n"
          ]
        }
      ]
    },
    {
      "cell_type": "code",
      "source": [
        "first = input(\"First: \")\n",
        "second = input(\"Second: \")\n",
        "sum = first + second\n",
        "print(sum)"
      ],
      "metadata": {
        "colab": {
          "base_uri": "https://localhost:8080/"
        },
        "id": "e5ocT86m0oJ-",
        "outputId": "df8d9a6c-e367-4a40-87f1-9fbe797d2576"
      },
      "execution_count": null,
      "outputs": [
        {
          "output_type": "stream",
          "name": "stdout",
          "text": [
            "First: 1\n",
            "Second: 5\n",
            "15\n"
          ]
        }
      ]
    },
    {
      "cell_type": "code",
      "source": [
        "first = input(\"First: \")\n",
        "second = input(\"Second: \")\n",
        "sum = int(first) + int(second)\n",
        "print(sum)"
      ],
      "metadata": {
        "colab": {
          "base_uri": "https://localhost:8080/"
        },
        "id": "Kyr6h2mf0C_Z",
        "outputId": "cdec1753-906b-45b3-feac-96cfc1eaf0d7"
      },
      "execution_count": null,
      "outputs": [
        {
          "output_type": "stream",
          "name": "stdout",
          "text": [
            "First: 1\n",
            "Second: 5\n",
            "6\n"
          ]
        }
      ]
    },
    {
      "cell_type": "code",
      "source": [
        "first = input(\"First: \")\n",
        "second = input(\"Second: \")\n",
        "sum = float(first) + float(second)\n",
        "# print(\"Sum: \" + sum) -- Error str + float\n",
        "print(\"Sum: \" + str(sum))"
      ],
      "metadata": {
        "colab": {
          "base_uri": "https://localhost:8080/"
        },
        "id": "7cpIM-Wa1V6D",
        "outputId": "5dfe103f-8bf3-4d7c-e446-edb46142555d"
      },
      "execution_count": null,
      "outputs": [
        {
          "output_type": "stream",
          "name": "stdout",
          "text": [
            "First: 1\n",
            "Second: 5\n",
            "Sum: 6.0\n"
          ]
        }
      ]
    },
    {
      "cell_type": "code",
      "source": [
        "first = float(input(\"First: \"))\n",
        "second = float(input(\"Second: \"))\n",
        "sum = first + second\n",
        "print(\"Sum: \" + str(sum))"
      ],
      "metadata": {
        "colab": {
          "base_uri": "https://localhost:8080/"
        },
        "id": "X4Iir_tW1-xL",
        "outputId": "ee1b11cd-cf1d-43f2-fb21-65553c9a7b3e"
      },
      "execution_count": null,
      "outputs": [
        {
          "output_type": "stream",
          "name": "stdout",
          "text": [
            "First: 1\n",
            "Second: 5\n",
            "Sum: 6.0\n"
          ]
        }
      ]
    },
    {
      "cell_type": "code",
      "source": [
        "course = 'Python for beginners'\n",
        "print(course.upper())\n",
        "print(course)"
      ],
      "metadata": {
        "colab": {
          "base_uri": "https://localhost:8080/"
        },
        "id": "ZrlGspqR2Z5k",
        "outputId": "4214a440-483e-40d6-8936-49a7196fff71"
      },
      "execution_count": null,
      "outputs": [
        {
          "output_type": "stream",
          "name": "stdout",
          "text": [
            "PYTHON FOR BEGINNERS\n",
            "Python for beginners\n"
          ]
        }
      ]
    },
    {
      "cell_type": "code",
      "source": [
        "course = 'Python for beginners'\n",
        "print(course.find('y')) # index of accurance of 'y' in the string\n",
        "print(course.find('Y')) # Case sensitive"
      ],
      "metadata": {
        "colab": {
          "base_uri": "https://localhost:8080/"
        },
        "id": "OrZN_s3d238j",
        "outputId": "bfad0235-a2b0-448f-a9e2-33b85e0f45f8"
      },
      "execution_count": null,
      "outputs": [
        {
          "output_type": "stream",
          "name": "stdout",
          "text": [
            "1\n",
            "-1\n"
          ]
        }
      ]
    },
    {
      "cell_type": "code",
      "source": [
        "course = 'Python for beginners'\n",
        "print(course.find('for')) # return the index of the word 'for'\n",
        "print('for' in course)"
      ],
      "metadata": {
        "colab": {
          "base_uri": "https://localhost:8080/"
        },
        "id": "GepZH-U-3Q7U",
        "outputId": "436efc5f-9706-4ba5-c8e0-a2f75644c6ca"
      },
      "execution_count": null,
      "outputs": [
        {
          "output_type": "stream",
          "name": "stdout",
          "text": [
            "7\n",
            "True\n"
          ]
        }
      ]
    },
    {
      "cell_type": "code",
      "source": [
        "course = 'Python for beginners'\n",
        "print(course.replace('for', '4'))\n",
        "print(course.replace('x', '4')) # no changes since we don't have x in our string"
      ],
      "metadata": {
        "colab": {
          "base_uri": "https://localhost:8080/"
        },
        "id": "k91Nd8ak36V6",
        "outputId": "544c2e63-afc4-429c-fc6a-722a15daa771"
      },
      "execution_count": null,
      "outputs": [
        {
          "output_type": "stream",
          "name": "stdout",
          "text": [
            "Python 4 beginners\n",
            "Python for beginners\n"
          ]
        }
      ]
    },
    {
      "cell_type": "code",
      "source": [
        "print(10 / 3) # return floating\n",
        "print(10 // 3) # return int\n",
        "print(10 % 3 ) # remainder\n",
        "print(10 ** 3 ) # 10 to the power of 3"
      ],
      "metadata": {
        "colab": {
          "base_uri": "https://localhost:8080/"
        },
        "id": "3RJJXrhA4I5E",
        "outputId": "bf067689-614e-475e-be81-91b141b3d9e5"
      },
      "execution_count": null,
      "outputs": [
        {
          "output_type": "stream",
          "name": "stdout",
          "text": [
            "3.3333333333333335\n",
            "3\n",
            "1\n",
            "1000\n"
          ]
        }
      ]
    },
    {
      "cell_type": "code",
      "source": [
        "x = 10\n",
        "x = x + 3 # or x += 3 called augmented assignment operator\n",
        "print(x)"
      ],
      "metadata": {
        "colab": {
          "base_uri": "https://localhost:8080/"
        },
        "id": "F1bSsfSG8GO2",
        "outputId": "f1316e80-9bf8-49fd-f341-e727f7f698c6"
      },
      "execution_count": null,
      "outputs": [
        {
          "output_type": "stream",
          "name": "stdout",
          "text": [
            "13\n"
          ]
        }
      ]
    },
    {
      "cell_type": "code",
      "source": [
        "x = 10 + 3 * 2\n",
        "print(x)"
      ],
      "metadata": {
        "colab": {
          "base_uri": "https://localhost:8080/"
        },
        "id": "gFkGDEuL80Jz",
        "outputId": "e957ea0d-0bc3-4174-e361-433f46717d52"
      },
      "execution_count": null,
      "outputs": [
        {
          "output_type": "stream",
          "name": "stdout",
          "text": [
            "16\n"
          ]
        }
      ]
    },
    {
      "cell_type": "code",
      "source": [
        "x = 3 >= 2\n",
        "x = 3 <= 2\n",
        "x = 3 != 2\n",
        "x = 3 == 2\n",
        "print(x)"
      ],
      "metadata": {
        "colab": {
          "base_uri": "https://localhost:8080/"
        },
        "id": "BuEQl9RC9B9_",
        "outputId": "1e57f6a4-0b7a-49fe-e85f-d98a0be1a5e4"
      },
      "execution_count": null,
      "outputs": [
        {
          "output_type": "stream",
          "name": "stdout",
          "text": [
            "False\n"
          ]
        }
      ]
    },
    {
      "cell_type": "code",
      "source": [
        "price = 25\n",
        "print(price > 10 and price < 30) # and , or\n",
        "print(price > 10)\n",
        "print(not price > 10)"
      ],
      "metadata": {
        "colab": {
          "base_uri": "https://localhost:8080/"
        },
        "id": "450LdT759lR2",
        "outputId": "f4524e3e-a011-4abb-9f01-753a0d3a7cd1"
      },
      "execution_count": null,
      "outputs": [
        {
          "output_type": "stream",
          "name": "stdout",
          "text": [
            "True\n",
            "True\n",
            "False\n"
          ]
        }
      ]
    },
    {
      "cell_type": "code",
      "source": [
        "temperature = 25\n",
        "if temperature > 30:\n",
        "  print(\"It's a hot day\")\n",
        "  print(\"Drink plenty of water\")\n",
        "elif temperature > 20:  # between (20, 30]\n",
        "  print(\"It's a nice day\")\n",
        "elif temperature > 10: # (10, 20]\n",
        "  print(\"It's chili\")\n",
        "else:\n",
        "  print(\"It's cold\")\n",
        "\n",
        "print(\"Done\")"
      ],
      "metadata": {
        "colab": {
          "base_uri": "https://localhost:8080/"
        },
        "id": "83kUBq2X-PLX",
        "outputId": "d750d790-3e5c-4978-b1d6-da8865d2fab0"
      },
      "execution_count": null,
      "outputs": [
        {
          "output_type": "stream",
          "name": "stdout",
          "text": [
            "It's a nice day\n",
            "Done\n"
          ]
        }
      ]
    },
    {
      "cell_type": "code",
      "source": [
        "weight = float(input(\"Weight: \"))\n",
        "unit = input(\"(K)g or (L)bs:\")\n",
        "if unit.upper() == \"K\":\n",
        "  converted = weight / 0.45\n",
        "  print(\"Weight in Lbs: \" + str(converted))\n",
        "else:\n",
        "  converted = weight * 0.45\n",
        "  print(\"Weight in Kgs: \" + str(converted))"
      ],
      "metadata": {
        "colab": {
          "base_uri": "https://localhost:8080/"
        },
        "id": "8OzjygtYCHF1",
        "outputId": "6b44731e-d87d-40ec-d3fb-b3f88633e96f"
      },
      "execution_count": null,
      "outputs": [
        {
          "output_type": "stream",
          "name": "stdout",
          "text": [
            "Weight: 65\n",
            "(K)g or (L)bs:k\n",
            "Weight in Lbs: 144.44444444444443\n"
          ]
        }
      ]
    },
    {
      "cell_type": "code",
      "source": [
        "i = 1\n",
        "while i <= 1_0: # means 10 eg: 1_000 means 1000\n",
        "  print(i)\n",
        "  i += 1"
      ],
      "metadata": {
        "colab": {
          "base_uri": "https://localhost:8080/"
        },
        "id": "2Qu3sNTvEe9P",
        "outputId": "0349d7c3-8539-4d64-cce5-aab6afafca9c"
      },
      "execution_count": null,
      "outputs": [
        {
          "output_type": "stream",
          "name": "stdout",
          "text": [
            "1\n",
            "2\n",
            "3\n",
            "4\n",
            "5\n",
            "6\n",
            "7\n",
            "8\n",
            "9\n",
            "10\n"
          ]
        }
      ]
    },
    {
      "cell_type": "code",
      "source": [
        "i = 1\n",
        "while i <= 3:\n",
        "  print(i * '*')\n",
        "  i += 1"
      ],
      "metadata": {
        "colab": {
          "base_uri": "https://localhost:8080/"
        },
        "id": "IT5kk6vCFCQ2",
        "outputId": "f07dc949-acb5-4b5f-e09b-44df2e0a7f10"
      },
      "execution_count": null,
      "outputs": [
        {
          "output_type": "stream",
          "name": "stdout",
          "text": [
            "*\n",
            "**\n",
            "***\n"
          ]
        }
      ]
    },
    {
      "cell_type": "code",
      "source": [
        "names = [\"Jon\", \"Bob\", \"Mary\"]\n",
        "print(names[0])\n",
        "print(names[-1]) # from the end of list"
      ],
      "metadata": {
        "colab": {
          "base_uri": "https://localhost:8080/"
        },
        "id": "4y3FezB0FiBE",
        "outputId": "a032498c-3fb8-4cfc-b7df-a0cc588e58ff"
      },
      "execution_count": null,
      "outputs": [
        {
          "output_type": "stream",
          "name": "stdout",
          "text": [
            "Jon\n",
            "Mary\n"
          ]
        }
      ]
    },
    {
      "cell_type": "code",
      "source": [
        "names[0] = \"John\"\n",
        "print(names)\n",
        "print(names[0:2]) # doesn't consider 2"
      ],
      "metadata": {
        "colab": {
          "base_uri": "https://localhost:8080/"
        },
        "id": "45ecXB-aIDNa",
        "outputId": "2d3a172e-9eed-490c-a026-327c4fbf9a3e"
      },
      "execution_count": null,
      "outputs": [
        {
          "output_type": "stream",
          "name": "stdout",
          "text": [
            "['John', 'Bob', 'Mary']\n",
            "['John', 'Bob']\n"
          ]
        }
      ]
    },
    {
      "cell_type": "markdown",
      "source": [
        "**List**"
      ],
      "metadata": {
        "id": "ZjEi6K4DNUiW"
      }
    },
    {
      "cell_type": "code",
      "source": [
        "numbers = [1, 2, 3, 4, 5]\n",
        "numbers.append(6)\n",
        "print(numbers)\n",
        "\n",
        "numbers.insert(0, -5)\n",
        "print(numbers)\n",
        "\n",
        "numbers.remove(3)\n",
        "print(numbers)\n",
        "\n",
        "numbers.clear()\n",
        "print(numbers)"
      ],
      "metadata": {
        "colab": {
          "base_uri": "https://localhost:8080/"
        },
        "id": "MvXIh31BIg-f",
        "outputId": "1d86b3d2-1c84-4e45-a7bd-ce9655260202"
      },
      "execution_count": null,
      "outputs": [
        {
          "output_type": "stream",
          "name": "stdout",
          "text": [
            "[1, 2, 3, 4, 5, 6]\n",
            "[-5, 1, 2, 3, 4, 5, 6]\n",
            "[-5, 1, 2, 4, 5, 6]\n",
            "[]\n"
          ]
        }
      ]
    },
    {
      "cell_type": "code",
      "source": [
        "numbers = [1, 2, 3, 4, 5]\n",
        "print(1 in numbers)\n",
        "\n",
        "print(len(numbers))"
      ],
      "metadata": {
        "colab": {
          "base_uri": "https://localhost:8080/"
        },
        "id": "Qo31hHEhJLx8",
        "outputId": "39be3b46-3e04-4d55-e50f-95f89fbfd138"
      },
      "execution_count": null,
      "outputs": [
        {
          "output_type": "stream",
          "name": "stdout",
          "text": [
            "True\n",
            "5\n"
          ]
        }
      ]
    },
    {
      "cell_type": "code",
      "source": [
        "# for\n",
        "numbers = [1, 2, 3]\n",
        "for item in numbers:\n",
        "  print(item)\n",
        "\n",
        "# while\n",
        "numbers = [1, 2, 3]\n",
        "i = 0\n",
        "while i < len(numbers):\n",
        "  print(numbers[i])\n",
        "  i += 1"
      ],
      "metadata": {
        "colab": {
          "base_uri": "https://localhost:8080/"
        },
        "id": "3JPeklg9KXgk",
        "outputId": "673227f6-1917-4fcb-a49d-794a2e26c726"
      },
      "execution_count": null,
      "outputs": [
        {
          "output_type": "stream",
          "name": "stdout",
          "text": [
            "1\n",
            "2\n",
            "3\n"
          ]
        }
      ]
    },
    {
      "cell_type": "code",
      "source": [
        "numbers = range(3)\n",
        "print(numbers)"
      ],
      "metadata": {
        "colab": {
          "base_uri": "https://localhost:8080/"
        },
        "id": "q85ubjkILHts",
        "outputId": "72bb58e3-f88c-47e8-e904-333d768ce252"
      },
      "execution_count": null,
      "outputs": [
        {
          "output_type": "stream",
          "name": "stdout",
          "text": [
            "range(0, 3)\n"
          ]
        }
      ]
    },
    {
      "cell_type": "code",
      "source": [
        "numbers = range(3)\n",
        "for number in numbers:\n",
        "  print(number)"
      ],
      "metadata": {
        "colab": {
          "base_uri": "https://localhost:8080/"
        },
        "id": "iBxGSEOJLhOq",
        "outputId": "3f648918-c09f-4968-dd90-fdf65fdfa03f"
      },
      "execution_count": null,
      "outputs": [
        {
          "output_type": "stream",
          "name": "stdout",
          "text": [
            "0\n",
            "1\n",
            "2\n"
          ]
        }
      ]
    },
    {
      "cell_type": "code",
      "source": [
        "numbers = range(5, 10)\n",
        "for number in numbers:\n",
        "  print(number)"
      ],
      "metadata": {
        "colab": {
          "base_uri": "https://localhost:8080/"
        },
        "id": "hqFz8UAbMGvu",
        "outputId": "7d152b11-b3ba-4b6c-f30a-04b10aaac25c"
      },
      "execution_count": null,
      "outputs": [
        {
          "output_type": "stream",
          "name": "stdout",
          "text": [
            "5\n",
            "6\n",
            "7\n",
            "8\n",
            "9\n"
          ]
        }
      ]
    },
    {
      "cell_type": "code",
      "source": [
        "numbers = range(5, 10, 2)\n",
        "for number in numbers:\n",
        "  print(number)"
      ],
      "metadata": {
        "colab": {
          "base_uri": "https://localhost:8080/"
        },
        "id": "a_uSdm1PMek0",
        "outputId": "87b38c8c-426c-4fc3-cd28-a8d88f04e7ec"
      },
      "execution_count": null,
      "outputs": [
        {
          "output_type": "stream",
          "name": "stdout",
          "text": [
            "5\n",
            "7\n",
            "9\n"
          ]
        }
      ]
    },
    {
      "cell_type": "code",
      "source": [
        "for number in range(5):\n",
        "  print(number)"
      ],
      "metadata": {
        "colab": {
          "base_uri": "https://localhost:8080/"
        },
        "id": "3onRv5ajMnr-",
        "outputId": "9adc14e4-0c54-44d7-8cb2-2d66a1516788"
      },
      "execution_count": null,
      "outputs": [
        {
          "output_type": "stream",
          "name": "stdout",
          "text": [
            "0\n",
            "1\n",
            "2\n",
            "3\n",
            "4\n"
          ]
        }
      ]
    },
    {
      "cell_type": "markdown",
      "source": [
        "**Tuple**"
      ],
      "metadata": {
        "id": "kNbXKQHONfAU"
      }
    },
    {
      "cell_type": "code",
      "source": [
        "numbers = (1, 2, 3)\n",
        "numbers[0] = 5"
      ],
      "metadata": {
        "colab": {
          "base_uri": "https://localhost:8080/",
          "height": 158
        },
        "id": "VnrHZCLGM24R",
        "outputId": "46ed2012-88ad-4e72-d11c-b02a52084a32"
      },
      "execution_count": null,
      "outputs": [
        {
          "output_type": "error",
          "ename": "TypeError",
          "evalue": "'tuple' object does not support item assignment",
          "traceback": [
            "\u001b[0;31m---------------------------------------------------------------------------\u001b[0m",
            "\u001b[0;31mTypeError\u001b[0m                                 Traceback (most recent call last)",
            "\u001b[0;32m<ipython-input-12-d39c44506abc>\u001b[0m in \u001b[0;36m<cell line: 2>\u001b[0;34m()\u001b[0m\n\u001b[1;32m      1\u001b[0m \u001b[0mnumbers\u001b[0m \u001b[0;34m=\u001b[0m \u001b[0;34m(\u001b[0m\u001b[0;36m1\u001b[0m\u001b[0;34m,\u001b[0m \u001b[0;36m2\u001b[0m\u001b[0;34m,\u001b[0m \u001b[0;36m3\u001b[0m\u001b[0;34m)\u001b[0m\u001b[0;34m\u001b[0m\u001b[0;34m\u001b[0m\u001b[0m\n\u001b[0;32m----> 2\u001b[0;31m \u001b[0mnumbers\u001b[0m\u001b[0;34m[\u001b[0m\u001b[0;36m0\u001b[0m\u001b[0;34m]\u001b[0m \u001b[0;34m=\u001b[0m \u001b[0;36m5\u001b[0m\u001b[0;34m\u001b[0m\u001b[0;34m\u001b[0m\u001b[0m\n\u001b[0m",
            "\u001b[0;31mTypeError\u001b[0m: 'tuple' object does not support item assignment"
          ]
        }
      ]
    },
    {
      "cell_type": "code",
      "source": [
        "numbers = (1, 2, 3, 3)\n",
        "numbers.count(3) # number of occurrences of value"
      ],
      "metadata": {
        "colab": {
          "base_uri": "https://localhost:8080/"
        },
        "id": "j4CAaeFGNy4a",
        "outputId": "3c1a6b10-adfa-4473-cb8c-f2773d1b9623"
      },
      "execution_count": null,
      "outputs": [
        {
          "output_type": "execute_result",
          "data": {
            "text/plain": [
              "2"
            ]
          },
          "metadata": {},
          "execution_count": 15
        }
      ]
    },
    {
      "cell_type": "code",
      "source": [
        "numbers = (1, 2, 3, 3)\n",
        "numbers.index(2) # returns the index of the first occurrences of given element"
      ],
      "metadata": {
        "colab": {
          "base_uri": "https://localhost:8080/"
        },
        "id": "Ap3M28slOWq7",
        "outputId": "7e5f6b3b-aa25-4915-e624-100300897814"
      },
      "execution_count": null,
      "outputs": [
        {
          "output_type": "execute_result",
          "data": {
            "text/plain": [
              "1"
            ]
          },
          "metadata": {},
          "execution_count": 16
        }
      ]
    },
    {
      "cell_type": "markdown",
      "source": [
        " **Python Lists**"
      ],
      "metadata": {
        "id": "0twLzrP5YNUP"
      }
    },
    {
      "cell_type": "code",
      "source": [
        "example = [128, True, \"Alpha\", 1.732, [64, False], 128]\n",
        "example[4]"
      ],
      "metadata": {
        "colab": {
          "base_uri": "https://localhost:8080/"
        },
        "id": "NE1ewcKLYJvO",
        "outputId": "17454e99-95a2-4a2c-f6c1-51857630ff14"
      },
      "execution_count": null,
      "outputs": [
        {
          "output_type": "execute_result",
          "data": {
            "text/plain": [
              "[64, False]"
            ]
          },
          "metadata": {},
          "execution_count": 8
        }
      ]
    },
    {
      "cell_type": "code",
      "source": [
        "# concatination of 2 lists\n",
        "numbers = [1, 2, 3]\n",
        "letters = ['a', 'b', 'c']\n",
        "numbers + letters"
      ],
      "metadata": {
        "colab": {
          "base_uri": "https://localhost:8080/"
        },
        "id": "eH5tuJhRd2PQ",
        "outputId": "164bd08a-d8ab-4e1e-940a-ee5ff75932d2"
      },
      "execution_count": null,
      "outputs": [
        {
          "output_type": "execute_result",
          "data": {
            "text/plain": [
              "[1, 2, 3, 'a', 'b', 'c']"
            ]
          },
          "metadata": {},
          "execution_count": 11
        }
      ]
    },
    {
      "cell_type": "code",
      "source": [
        "dir(numbers)"
      ],
      "metadata": {
        "colab": {
          "base_uri": "https://localhost:8080/"
        },
        "id": "SEYURWzyeMVP",
        "outputId": "ebcdc3bc-5ed5-4850-fb16-73ec347cbf13"
      },
      "execution_count": null,
      "outputs": [
        {
          "output_type": "execute_result",
          "data": {
            "text/plain": [
              "['__add__',\n",
              " '__class__',\n",
              " '__class_getitem__',\n",
              " '__contains__',\n",
              " '__delattr__',\n",
              " '__delitem__',\n",
              " '__dir__',\n",
              " '__doc__',\n",
              " '__eq__',\n",
              " '__format__',\n",
              " '__ge__',\n",
              " '__getattribute__',\n",
              " '__getitem__',\n",
              " '__gt__',\n",
              " '__hash__',\n",
              " '__iadd__',\n",
              " '__imul__',\n",
              " '__init__',\n",
              " '__init_subclass__',\n",
              " '__iter__',\n",
              " '__le__',\n",
              " '__len__',\n",
              " '__lt__',\n",
              " '__mul__',\n",
              " '__ne__',\n",
              " '__new__',\n",
              " '__reduce__',\n",
              " '__reduce_ex__',\n",
              " '__repr__',\n",
              " '__reversed__',\n",
              " '__rmul__',\n",
              " '__setattr__',\n",
              " '__setitem__',\n",
              " '__sizeof__',\n",
              " '__str__',\n",
              " '__subclasshook__',\n",
              " 'append',\n",
              " 'clear',\n",
              " 'copy',\n",
              " 'count',\n",
              " 'extend',\n",
              " 'index',\n",
              " 'insert',\n",
              " 'pop',\n",
              " 'remove',\n",
              " 'reverse',\n",
              " 'sort']"
            ]
          },
          "metadata": {},
          "execution_count": 12
        }
      ]
    },
    {
      "cell_type": "code",
      "source": [
        "numbers = [1, 2, 3]\n",
        "print(numbers.reverse())"
      ],
      "metadata": {
        "colab": {
          "base_uri": "https://localhost:8080/"
        },
        "id": "0dkrAmKTecZp",
        "outputId": "d09a4da9-cf1d-40ab-8217-f78a001b033a"
      },
      "execution_count": null,
      "outputs": [
        {
          "output_type": "stream",
          "name": "stdout",
          "text": [
            "None\n"
          ]
        }
      ]
    },
    {
      "cell_type": "code",
      "source": [
        "a = [3, 10, -1]\n",
        "print(a)"
      ],
      "metadata": {
        "colab": {
          "base_uri": "https://localhost:8080/"
        },
        "id": "67U2E3RggfR-",
        "outputId": "f3f4d84b-5997-4af1-a568-fe99cb8c413c"
      },
      "execution_count": null,
      "outputs": [
        {
          "output_type": "stream",
          "name": "stdout",
          "text": [
            "[3, 10, -1]\n"
          ]
        }
      ]
    },
    {
      "cell_type": "code",
      "source": [
        "a.append(1)\n",
        "print(a)"
      ],
      "metadata": {
        "colab": {
          "base_uri": "https://localhost:8080/"
        },
        "id": "hMcMuDrPguSI",
        "outputId": "86668b2a-4a60-4eee-ea8b-ed4bba2e2d64"
      },
      "execution_count": null,
      "outputs": [
        {
          "output_type": "stream",
          "name": "stdout",
          "text": [
            "[3, 10, -1, 1]\n"
          ]
        }
      ]
    },
    {
      "cell_type": "code",
      "source": [
        "a.append(\"hello\")\n",
        "print(a)"
      ],
      "metadata": {
        "colab": {
          "base_uri": "https://localhost:8080/"
        },
        "id": "VnAWMUK9g0pl",
        "outputId": "b71c214e-ee26-46da-fc89-0b2d5b8c0800"
      },
      "execution_count": null,
      "outputs": [
        {
          "output_type": "stream",
          "name": "stdout",
          "text": [
            "[3, 10, -1, 1, 'hello']\n"
          ]
        }
      ]
    },
    {
      "cell_type": "code",
      "source": [
        "a.append([1,2])\n",
        "print(a)"
      ],
      "metadata": {
        "colab": {
          "base_uri": "https://localhost:8080/"
        },
        "id": "nan3ogS-hFyN",
        "outputId": "96a10837-513f-4a6f-9dbf-487fe4fd2662"
      },
      "execution_count": null,
      "outputs": [
        {
          "output_type": "stream",
          "name": "stdout",
          "text": [
            "[3, 10, -1, 1, 'hello', [1, 2]]\n"
          ]
        }
      ]
    },
    {
      "cell_type": "code",
      "source": [
        "a.pop()\n",
        "print(a)"
      ],
      "metadata": {
        "colab": {
          "base_uri": "https://localhost:8080/"
        },
        "id": "vYbCWySdhPd3",
        "outputId": "26df72b8-a161-4f24-f2c4-21e489cab38c"
      },
      "execution_count": null,
      "outputs": [
        {
          "output_type": "stream",
          "name": "stdout",
          "text": [
            "[3, 10, -1, 1, 'hello']\n"
          ]
        }
      ]
    },
    {
      "cell_type": "code",
      "source": [
        "a[0]"
      ],
      "metadata": {
        "colab": {
          "base_uri": "https://localhost:8080/"
        },
        "id": "hY4o0NFBhWYB",
        "outputId": "0055da61-bd8e-4eee-b4ae-8a078e4bb8d7"
      },
      "execution_count": null,
      "outputs": [
        {
          "output_type": "execute_result",
          "data": {
            "text/plain": [
              "3"
            ]
          },
          "metadata": {},
          "execution_count": 20
        }
      ]
    },
    {
      "cell_type": "code",
      "source": [
        "a[0] = 100\n",
        "print(a)"
      ],
      "metadata": {
        "colab": {
          "base_uri": "https://localhost:8080/"
        },
        "id": "bAaAvEuWh2o8",
        "outputId": "cfe3ed0a-b2de-42ad-bd17-4b4ca3ebef06"
      },
      "execution_count": null,
      "outputs": [
        {
          "output_type": "stream",
          "name": "stdout",
          "text": [
            "[100, 10, -1, 1, 'hello']\n"
          ]
        }
      ]
    },
    {
      "cell_type": "code",
      "source": [
        "# swap a[0] and a[2]\n",
        "b = [\"banana\", \"apple\", \"microsoft\"]\n",
        "swap = b[0]\n",
        "b[0] = b[2]\n",
        "b[2] = swap\n",
        "\n",
        "print(b)\n",
        "\n",
        "# another way:\n",
        "b = [\"banana\", \"apple\", \"microsoft\"]\n",
        "b[0] , b[2] = b[2] , b[0]\n",
        "print(b)"
      ],
      "metadata": {
        "colab": {
          "base_uri": "https://localhost:8080/"
        },
        "id": "rTw9jEUniVLg",
        "outputId": "9c341308-c6fc-4303-bf5b-3a3d62c0c335"
      },
      "execution_count": null,
      "outputs": [
        {
          "output_type": "stream",
          "name": "stdout",
          "text": [
            "['microsoft', 'apple', 'banana']\n",
            "['microsoft', 'apple', 'banana']\n"
          ]
        }
      ]
    },
    {
      "cell_type": "code",
      "source": [],
      "metadata": {
        "id": "3jYcBy7tjX-I"
      },
      "execution_count": null,
      "outputs": []
    },
    {
      "cell_type": "markdown",
      "source": [
        "## **Functions and Packages**"
      ],
      "metadata": {
        "id": "K74wcIOC5jzY"
      }
    },
    {
      "cell_type": "code",
      "source": [
        "def function1():\n",
        "  print(\"ah\")\n",
        "  print(\"ahh 2\")\n",
        "print(\"this is outside the function\")"
      ],
      "metadata": {
        "colab": {
          "base_uri": "https://localhost:8080/"
        },
        "id": "74Kc9JqPTCU8",
        "outputId": "6eac9bc8-5fa3-4e9d-8732-76a9b66817b0"
      },
      "execution_count": null,
      "outputs": [
        {
          "output_type": "stream",
          "name": "stdout",
          "text": [
            "this is outside the function\n"
          ]
        }
      ]
    },
    {
      "cell_type": "code",
      "source": [
        "function1()"
      ],
      "metadata": {
        "colab": {
          "base_uri": "https://localhost:8080/"
        },
        "id": "iNNrN3se7BPF",
        "outputId": "ab83b184-024d-4d7b-9368-298dc7f5c8ca"
      },
      "execution_count": null,
      "outputs": [
        {
          "output_type": "stream",
          "name": "stdout",
          "text": [
            "ah\n",
            "ahh 2\n"
          ]
        }
      ]
    },
    {
      "cell_type": "code",
      "source": [
        "# a mapping\n",
        "# input or an argument\n",
        "def function2(x):\n",
        "  return 2*x\n",
        "\n",
        "a = function2(3)\n",
        "# return value or output\n",
        "\n",
        "print(a)"
      ],
      "metadata": {
        "colab": {
          "base_uri": "https://localhost:8080/"
        },
        "id": "v_c0PF8o7FDw",
        "outputId": "2e549c42-4383-4ff5-cb46-a49162ab509f"
      },
      "execution_count": null,
      "outputs": [
        {
          "output_type": "stream",
          "name": "stdout",
          "text": [
            "6\n"
          ]
        }
      ]
    },
    {
      "cell_type": "code",
      "source": [
        "d = function2()"
      ],
      "metadata": {
        "colab": {
          "base_uri": "https://localhost:8080/",
          "height": 141
        },
        "id": "qVwusbBX7d96",
        "outputId": "3ff98172-acdc-46d3-e7d5-d29795430a90"
      },
      "execution_count": null,
      "outputs": [
        {
          "output_type": "error",
          "ename": "TypeError",
          "evalue": "function2() missing 1 required positional argument: 'x'",
          "traceback": [
            "\u001b[0;31m---------------------------------------------------------------------------\u001b[0m",
            "\u001b[0;31mTypeError\u001b[0m                                 Traceback (most recent call last)",
            "\u001b[0;32m<ipython-input-7-9f9e7aec7a86>\u001b[0m in \u001b[0;36m<cell line: 1>\u001b[0;34m()\u001b[0m\n\u001b[0;32m----> 1\u001b[0;31m \u001b[0md\u001b[0m \u001b[0;34m=\u001b[0m \u001b[0mfunction2\u001b[0m\u001b[0;34m(\u001b[0m\u001b[0;34m)\u001b[0m\u001b[0;34m\u001b[0m\u001b[0;34m\u001b[0m\u001b[0m\n\u001b[0m",
            "\u001b[0;31mTypeError\u001b[0m: function2() missing 1 required positional argument: 'x'"
          ]
        }
      ]
    },
    {
      "cell_type": "code",
      "source": [
        "def function3(x, y):\n",
        "  return x + y\n",
        "\n",
        "e = function3(1, 2)\n",
        "print(e)"
      ],
      "metadata": {
        "colab": {
          "base_uri": "https://localhost:8080/"
        },
        "id": "XuMXGhfV7knk",
        "outputId": "9179a439-277c-4570-9dec-3036c8b6e83e"
      },
      "execution_count": null,
      "outputs": [
        {
          "output_type": "stream",
          "name": "stdout",
          "text": [
            "3\n"
          ]
        }
      ]
    },
    {
      "cell_type": "code",
      "source": [
        "def function4(x):\n",
        "  print(x)\n",
        "  print(\"still in this function\")\n",
        "  return 3 * x\n",
        "\n",
        "f = function4(4)"
      ],
      "metadata": {
        "colab": {
          "base_uri": "https://localhost:8080/"
        },
        "id": "MjeMc0Je79Ey",
        "outputId": "1fd8f29f-9a61-4e32-c4a0-63333b52be2e"
      },
      "execution_count": null,
      "outputs": [
        {
          "output_type": "stream",
          "name": "stdout",
          "text": [
            "4\n",
            "still in this function\n"
          ]
        }
      ]
    },
    {
      "cell_type": "code",
      "source": [
        "print(f)"
      ],
      "metadata": {
        "colab": {
          "base_uri": "https://localhost:8080/"
        },
        "id": "Po2ZvmIQ8KTQ",
        "outputId": "09c0bd32-832b-4e8f-e1cd-a6c5dce56ea6"
      },
      "execution_count": null,
      "outputs": [
        {
          "output_type": "stream",
          "name": "stdout",
          "text": [
            "12\n"
          ]
        }
      ]
    },
    {
      "cell_type": "code",
      "source": [
        "def function5(some_argument):\n",
        "  print(some_argument)\n",
        "  print(\"weee\")\n",
        "\n",
        "function5(4)"
      ],
      "metadata": {
        "colab": {
          "base_uri": "https://localhost:8080/"
        },
        "id": "numrNhEo8UvX",
        "outputId": "aad19c24-6f61-4eed-e4f4-deea813149a0"
      },
      "execution_count": null,
      "outputs": [
        {
          "output_type": "stream",
          "name": "stdout",
          "text": [
            "4\n",
            "weee\n"
          ]
        }
      ]
    },
    {
      "cell_type": "code",
      "source": [
        "#BMI calculater\n",
        "name1 = \"YK\"\n",
        "height_m1 = 2\n",
        "weight_kg1 = 90\n",
        "\n",
        "name2 = \"YK's siter\"\n",
        "height_m2 = 1.8\n",
        "weight_kg2 = 70\n",
        "\n",
        "name3 = \"YK's brother\"\n",
        "height_m3 = 2.5\n",
        "weight_kg3 = 160\n",
        "\n",
        "def bmi_calculator(name, height_m, weight_kg):\n",
        "  bmi = weight_kg / (height_m ** 2)\n",
        "  print(\"bmi: \")\n",
        "  print(bmi)\n",
        "  if bmi < 25:\n",
        "    return name + \" is not overweight\"\n",
        "  else:\n",
        "    return name + \" is overweight\""
      ],
      "metadata": {
        "id": "aMoBeXr08o3X"
      },
      "execution_count": null,
      "outputs": []
    },
    {
      "cell_type": "code",
      "source": [
        "result1 = bmi_calculator(name1, height_m1, weight_kg1)\n",
        "result2 = bmi_calculator(name2, height_m2, weight_kg2)\n",
        "result3 = bmi_calculator(name3, height_m3, weight_kg3)\n",
        "\n",
        "print(result1)\n",
        "print(result2)\n",
        "print(result3)"
      ],
      "metadata": {
        "colab": {
          "base_uri": "https://localhost:8080/"
        },
        "id": "sy8wmDywVU_v",
        "outputId": "4ea970ea-e897-4a6b-da83-07937209bbee"
      },
      "execution_count": null,
      "outputs": [
        {
          "output_type": "stream",
          "name": "stdout",
          "text": [
            "bmi: \n",
            "22.5\n",
            "bmi: \n",
            "21.604938271604937\n",
            "bmi: \n",
            "25.6\n",
            "YK is not overweight\n",
            "YK's siter is not overweight\n",
            "YK's brother is overweight\n"
          ]
        }
      ]
    },
    {
      "cell_type": "code",
      "source": [],
      "metadata": {
        "id": "Dq-XAKmPkcJE"
      },
      "execution_count": null,
      "outputs": []
    },
    {
      "cell_type": "markdown",
      "source": [
        "**Function**"
      ],
      "metadata": {
        "id": "XAtze1GHO5FW"
      }
    },
    {
      "cell_type": "code",
      "source": [
        "def f():\n",
        "  pass # skip this line\n",
        "f()"
      ],
      "metadata": {
        "id": "QHJNyuUmO4Id"
      },
      "execution_count": null,
      "outputs": []
    },
    {
      "cell_type": "code",
      "source": [
        "f # returns memory address"
      ],
      "metadata": {
        "colab": {
          "base_uri": "https://localhost:8080/",
          "height": 105
        },
        "id": "-j43JEetObYn",
        "outputId": "a4986a9d-ead9-46e7-d468-1d8aaafad480"
      },
      "execution_count": null,
      "outputs": [
        {
          "output_type": "execute_result",
          "data": {
            "text/plain": [
              "<function __main__.f()>"
            ],
            "text/html": [
              "<div style=\"max-width:800px; border: 1px solid var(--colab-border-color);\"><style>\n",
              "      pre.function-repr-contents {\n",
              "        overflow-x: auto;\n",
              "        padding: 8px 12px;\n",
              "        max-height: 500px;\n",
              "      }\n",
              "\n",
              "      pre.function-repr-contents.function-repr-contents-collapsed {\n",
              "        cursor: pointer;\n",
              "        max-height: 100px;\n",
              "      }\n",
              "    </style>\n",
              "    <pre style=\"white-space: initial; background:\n",
              "         var(--colab-secondary-surface-color); padding: 8px 12px;\n",
              "         border-bottom: 1px solid var(--colab-border-color);\"><b>f</b><br/>def f()</pre><pre class=\"function-repr-contents function-repr-contents-collapsed\" style=\"\"><a class=\"filepath\" style=\"display:none\" href=\"#\">/content/&lt;ipython-input-17-4dcefdeaac40&gt;</a>&lt;no docstring&gt;</pre></div>"
            ]
          },
          "metadata": {},
          "execution_count": 18
        }
      ]
    },
    {
      "cell_type": "code",
      "source": [
        "dir() # list of functions (f is added)"
      ],
      "metadata": {
        "colab": {
          "base_uri": "https://localhost:8080/"
        },
        "id": "tPDjvP_HPjEs",
        "outputId": "59b62ea4-90a5-41a8-d0fd-02404dbcf3c9"
      },
      "execution_count": null,
      "outputs": [
        {
          "output_type": "execute_result",
          "data": {
            "text/plain": [
              "['In',\n",
              " 'Out',\n",
              " '_',\n",
              " '_13',\n",
              " '_14',\n",
              " '_15',\n",
              " '_16',\n",
              " '_18',\n",
              " '__',\n",
              " '___',\n",
              " '__builtin__',\n",
              " '__builtins__',\n",
              " '__doc__',\n",
              " '__loader__',\n",
              " '__name__',\n",
              " '__package__',\n",
              " '__spec__',\n",
              " '_dh',\n",
              " '_i',\n",
              " '_i1',\n",
              " '_i10',\n",
              " '_i11',\n",
              " '_i12',\n",
              " '_i13',\n",
              " '_i14',\n",
              " '_i15',\n",
              " '_i16',\n",
              " '_i17',\n",
              " '_i18',\n",
              " '_i19',\n",
              " '_i2',\n",
              " '_i3',\n",
              " '_i4',\n",
              " '_i5',\n",
              " '_i6',\n",
              " '_i7',\n",
              " '_i8',\n",
              " '_i9',\n",
              " '_ih',\n",
              " '_ii',\n",
              " '_iii',\n",
              " '_oh',\n",
              " 'exit',\n",
              " 'f',\n",
              " 'get_ipython',\n",
              " 'i',\n",
              " 'number',\n",
              " 'numbers',\n",
              " 'quit']"
            ]
          },
          "metadata": {},
          "execution_count": 19
        }
      ]
    },
    {
      "cell_type": "code",
      "source": [
        "def ping(): # 0 arguments\n",
        "  return \"Ping!\"\n",
        "ping()"
      ],
      "metadata": {
        "colab": {
          "base_uri": "https://localhost:8080/",
          "height": 35
        },
        "id": "PJMJ_WhDPsyh",
        "outputId": "a0a159e6-2f73-49bc-f0ad-b3993becb9b5"
      },
      "execution_count": null,
      "outputs": [
        {
          "output_type": "execute_result",
          "data": {
            "text/plain": [
              "'Ping!'"
            ],
            "application/vnd.google.colaboratory.intrinsic+json": {
              "type": "string"
            }
          },
          "metadata": {},
          "execution_count": 20
        }
      ]
    },
    {
      "cell_type": "code",
      "source": [
        "def ping(): # 0 arguments\n",
        "  return \"Ping!\"\n",
        "x = ping()\n",
        "print(x)"
      ],
      "metadata": {
        "colab": {
          "base_uri": "https://localhost:8080/"
        },
        "id": "IkUPn-WvP_C3",
        "outputId": "8f6ebdf7-a292-4920-ac3e-528716f37051"
      },
      "execution_count": null,
      "outputs": [
        {
          "output_type": "stream",
          "name": "stdout",
          "text": [
            "Ping!\n"
          ]
        }
      ]
    },
    {
      "cell_type": "code",
      "source": [
        "dir() # ping and x are added"
      ],
      "metadata": {
        "colab": {
          "base_uri": "https://localhost:8080/"
        },
        "id": "mOdgihEiQEbh",
        "outputId": "c33dfed2-9148-44d9-edc5-cd9d57b68b6b"
      },
      "execution_count": null,
      "outputs": [
        {
          "output_type": "execute_result",
          "data": {
            "text/plain": [
              "['In',\n",
              " 'Out',\n",
              " '_',\n",
              " '_13',\n",
              " '_14',\n",
              " '_15',\n",
              " '_16',\n",
              " '_18',\n",
              " '_19',\n",
              " '_20',\n",
              " '__',\n",
              " '___',\n",
              " '__builtin__',\n",
              " '__builtins__',\n",
              " '__doc__',\n",
              " '__loader__',\n",
              " '__name__',\n",
              " '__package__',\n",
              " '__spec__',\n",
              " '_dh',\n",
              " '_i',\n",
              " '_i1',\n",
              " '_i10',\n",
              " '_i11',\n",
              " '_i12',\n",
              " '_i13',\n",
              " '_i14',\n",
              " '_i15',\n",
              " '_i16',\n",
              " '_i17',\n",
              " '_i18',\n",
              " '_i19',\n",
              " '_i2',\n",
              " '_i20',\n",
              " '_i21',\n",
              " '_i22',\n",
              " '_i3',\n",
              " '_i4',\n",
              " '_i5',\n",
              " '_i6',\n",
              " '_i7',\n",
              " '_i8',\n",
              " '_i9',\n",
              " '_ih',\n",
              " '_ii',\n",
              " '_iii',\n",
              " '_oh',\n",
              " 'exit',\n",
              " 'f',\n",
              " 'get_ipython',\n",
              " 'i',\n",
              " 'number',\n",
              " 'numbers',\n",
              " 'ping',\n",
              " 'quit',\n",
              " 'x']"
            ]
          },
          "metadata": {},
          "execution_count": 22
        }
      ]
    },
    {
      "cell_type": "code",
      "source": [
        "#V = 4/3 pi r^3\n",
        "import math\n",
        "\n",
        "\n",
        "def volume(r):\n",
        "  \"\"\" Returns the volume of a sphere with radius r.\"\"\" # doc string for ducumentation\n",
        "  v = (4.0 / 3.0) * math.pi * r**3\n",
        "  return v\n",
        "\n",
        "volume(2)\n",
        "volume() # Error"
      ],
      "metadata": {
        "colab": {
          "base_uri": "https://localhost:8080/"
        },
        "id": "hVLvAWVyQNZL",
        "outputId": "8be3fe96-3962-4415-8fe4-b8f6f0955f22"
      },
      "execution_count": null,
      "outputs": [
        {
          "output_type": "execute_result",
          "data": {
            "text/plain": [
              "33.510321638291124"
            ]
          },
          "metadata": {},
          "execution_count": 25
        }
      ]
    },
    {
      "cell_type": "code",
      "source": [
        "# A = 1/2 b.h\n",
        "\n",
        "def triangle_area(b, h):\n",
        "  \"\"\" Returns the area of a triangle with base b and height h.\"\"\"\n",
        "  return 0.5 * b * h\n",
        "\n",
        "triangle_area(3, 6)"
      ],
      "metadata": {
        "colab": {
          "base_uri": "https://localhost:8080/"
        },
        "id": "3zlfaLr_RKWV",
        "outputId": "d352a857-b46e-4fce-96b8-271d7c70ae0a"
      },
      "execution_count": null,
      "outputs": [
        {
          "output_type": "execute_result",
          "data": {
            "text/plain": [
              "9.0"
            ]
          },
          "metadata": {},
          "execution_count": 26
        }
      ]
    },
    {
      "cell_type": "code",
      "source": [
        "# Keyword Argument\n",
        "\n",
        "def cm(feet = 0, inches = 0): # keyword arguments , defualt arguments\n",
        "  \"\"\"Converts a length from feet and inches to centimeters. \"\"\"\n",
        "  inches_to_cm = inches * 2.54\n",
        "  feet_to_cm = feet * 12 * 2.54\n",
        "  return inches_to_cm + feet_to_cm\n",
        "\n",
        "cm(feet = 5)\n",
        "cm(inches = 70)\n",
        "cm(feet = 5, inches = 8)\n",
        "cm(inches = 8 , feet = 5)"
      ],
      "metadata": {
        "colab": {
          "base_uri": "https://localhost:8080/"
        },
        "id": "-Sy9RGXbRlfN",
        "outputId": "bd9b141d-308d-457c-9b18-07ba7a2aa606"
      },
      "execution_count": null,
      "outputs": [
        {
          "output_type": "execute_result",
          "data": {
            "text/plain": [
              "172.72"
            ]
          },
          "metadata": {},
          "execution_count": 28
        }
      ]
    },
    {
      "cell_type": "code",
      "source": [
        "def g(x=0, y):\n",
        "  return x + y"
      ],
      "metadata": {
        "colab": {
          "base_uri": "https://localhost:8080/",
          "height": 106
        },
        "id": "Hhn04obeSttt",
        "outputId": "ee244174-8479-4b2c-9355-e1d9f6d2c535"
      },
      "execution_count": null,
      "outputs": [
        {
          "output_type": "error",
          "ename": "SyntaxError",
          "evalue": "non-default argument follows default argument (<ipython-input-29-b1c4461a698f>, line 1)",
          "traceback": [
            "\u001b[0;36m  File \u001b[0;32m\"<ipython-input-29-b1c4461a698f>\"\u001b[0;36m, line \u001b[0;32m1\u001b[0m\n\u001b[0;31m    def g(x=0, y):\u001b[0m\n\u001b[0m               ^\u001b[0m\n\u001b[0;31mSyntaxError\u001b[0m\u001b[0;31m:\u001b[0m non-default argument follows default argument\n"
          ]
        }
      ]
    },
    {
      "cell_type": "code",
      "source": [
        "def g(y, x=0): # default argument first: no error\n",
        "  return x + y\n",
        "\n",
        "g(5)\n",
        "g(7, x = 3)"
      ],
      "metadata": {
        "colab": {
          "base_uri": "https://localhost:8080/"
        },
        "id": "nX4QL1F4S6Pl",
        "outputId": "57df94e1-ff27-433e-f50a-1fe3604b65f4"
      },
      "execution_count": null,
      "outputs": [
        {
          "output_type": "execute_result",
          "data": {
            "text/plain": [
              "5"
            ]
          },
          "metadata": {},
          "execution_count": 31
        }
      ]
    },
    {
      "cell_type": "markdown",
      "source": [
        "**NumPy**"
      ],
      "metadata": {
        "id": "Hlsdq19Cki1T"
      }
    },
    {
      "cell_type": "code",
      "source": [
        "stuff = [1, 'apple', f00]\n",
        "print(stuff[1])"
      ],
      "metadata": {
        "colab": {
          "base_uri": "https://localhost:8080/",
          "height": 158
        },
        "id": "wopOwzlFkgrc",
        "outputId": "b2bc2897-e17b-4534-df66-0949f1f00d58"
      },
      "execution_count": null,
      "outputs": [
        {
          "output_type": "error",
          "ename": "NameError",
          "evalue": "name 'f00' is not defined",
          "traceback": [
            "\u001b[0;31m---------------------------------------------------------------------------\u001b[0m",
            "\u001b[0;31mNameError\u001b[0m                                 Traceback (most recent call last)",
            "\u001b[0;32m<ipython-input-27-16cb1398b5e7>\u001b[0m in \u001b[0;36m<cell line: 1>\u001b[0;34m()\u001b[0m\n\u001b[0;32m----> 1\u001b[0;31m \u001b[0mstuff\u001b[0m \u001b[0;34m=\u001b[0m \u001b[0;34m[\u001b[0m\u001b[0;36m1\u001b[0m\u001b[0;34m,\u001b[0m \u001b[0;34m'apple'\u001b[0m\u001b[0;34m,\u001b[0m \u001b[0mf00\u001b[0m\u001b[0;34m]\u001b[0m\u001b[0;34m\u001b[0m\u001b[0;34m\u001b[0m\u001b[0m\n\u001b[0m\u001b[1;32m      2\u001b[0m \u001b[0mprint\u001b[0m\u001b[0;34m(\u001b[0m\u001b[0mstuff\u001b[0m\u001b[0;34m[\u001b[0m\u001b[0;36m1\u001b[0m\u001b[0;34m]\u001b[0m\u001b[0;34m)\u001b[0m\u001b[0;34m\u001b[0m\u001b[0;34m\u001b[0m\u001b[0m\n",
            "\u001b[0;31mNameError\u001b[0m: name 'f00' is not defined"
          ]
        }
      ]
    },
    {
      "cell_type": "code",
      "source": [
        "# Array are sequence of types and behave very much like lists, except that the type objects stored in them is constrained. The type is specified at object certain time\n",
        "# class arry.arry(typecode[, initializer])\n",
        "import array\n",
        "numbers = array.array('i', [1, 2, 3, 4, 5])\n",
        "print(numbers)"
      ],
      "metadata": {
        "colab": {
          "base_uri": "https://localhost:8080/"
        },
        "id": "4T3C48CglK-6",
        "outputId": "113dcb6e-b2f0-4ec9-b0a5-ee550f189c9e"
      },
      "execution_count": null,
      "outputs": [
        {
          "output_type": "stream",
          "name": "stdout",
          "text": [
            "array('i', [1, 2, 3, 4, 5])\n"
          ]
        }
      ]
    },
    {
      "cell_type": "code",
      "source": [
        "import array\n",
        "numbers = array.array('i', [1, 2, 3, 4, 5])\n",
        "for number in numbers:\n",
        "  print(number)"
      ],
      "metadata": {
        "colab": {
          "base_uri": "https://localhost:8080/"
        },
        "id": "0HrNFkuymDgg",
        "outputId": "981a3c71-f112-4418-d2c2-6723eae9ea8a"
      },
      "execution_count": null,
      "outputs": [
        {
          "output_type": "stream",
          "name": "stdout",
          "text": [
            "1\n",
            "2\n",
            "3\n",
            "4\n",
            "5\n"
          ]
        }
      ]
    },
    {
      "cell_type": "code",
      "source": [
        "import array\n",
        "numbers = array.array('i', [1, 2, 3, 4, 5])\n",
        "numbers.append(6)\n",
        "numbers"
      ],
      "metadata": {
        "colab": {
          "base_uri": "https://localhost:8080/"
        },
        "id": "JISbui6ImY-M",
        "outputId": "4c319f9d-6507-4bdf-db5f-8af6fe01b9e3"
      },
      "execution_count": null,
      "outputs": [
        {
          "output_type": "execute_result",
          "data": {
            "text/plain": [
              "array('i', [1, 2, 3, 4, 5, 6])"
            ]
          },
          "metadata": {},
          "execution_count": 31
        }
      ]
    },
    {
      "cell_type": "code",
      "source": [
        "import array\n",
        "numbers = array.array('i', [1, 2, 3, 4, 5]) # i: integer\n",
        "numbers.append(\"apple\")\n",
        "numbers"
      ],
      "metadata": {
        "colab": {
          "base_uri": "https://localhost:8080/",
          "height": 193
        },
        "id": "UWvmvFVnswVp",
        "outputId": "862f6590-1a29-4aad-b85f-625b3fc09dc6"
      },
      "execution_count": null,
      "outputs": [
        {
          "output_type": "error",
          "ename": "TypeError",
          "evalue": "'str' object cannot be interpreted as an integer",
          "traceback": [
            "\u001b[0;31m---------------------------------------------------------------------------\u001b[0m",
            "\u001b[0;31mTypeError\u001b[0m                                 Traceback (most recent call last)",
            "\u001b[0;32m<ipython-input-32-a348f8764ade>\u001b[0m in \u001b[0;36m<cell line: 3>\u001b[0;34m()\u001b[0m\n\u001b[1;32m      1\u001b[0m \u001b[0;32mimport\u001b[0m \u001b[0marray\u001b[0m\u001b[0;34m\u001b[0m\u001b[0;34m\u001b[0m\u001b[0m\n\u001b[1;32m      2\u001b[0m \u001b[0mnumbers\u001b[0m \u001b[0;34m=\u001b[0m \u001b[0marray\u001b[0m\u001b[0;34m.\u001b[0m\u001b[0marray\u001b[0m\u001b[0;34m(\u001b[0m\u001b[0;34m'i'\u001b[0m\u001b[0;34m,\u001b[0m \u001b[0;34m[\u001b[0m\u001b[0;36m1\u001b[0m\u001b[0;34m,\u001b[0m \u001b[0;36m2\u001b[0m\u001b[0;34m,\u001b[0m \u001b[0;36m3\u001b[0m\u001b[0;34m,\u001b[0m \u001b[0;36m4\u001b[0m\u001b[0;34m,\u001b[0m \u001b[0;36m5\u001b[0m\u001b[0;34m]\u001b[0m\u001b[0;34m)\u001b[0m\u001b[0;34m\u001b[0m\u001b[0;34m\u001b[0m\u001b[0m\n\u001b[0;32m----> 3\u001b[0;31m \u001b[0mnumbers\u001b[0m\u001b[0;34m.\u001b[0m\u001b[0mappend\u001b[0m\u001b[0;34m(\u001b[0m\u001b[0;34m\"apple\"\u001b[0m\u001b[0;34m)\u001b[0m\u001b[0;34m\u001b[0m\u001b[0;34m\u001b[0m\u001b[0m\n\u001b[0m\u001b[1;32m      4\u001b[0m \u001b[0mnumbers\u001b[0m\u001b[0;34m\u001b[0m\u001b[0;34m\u001b[0m\u001b[0m\n",
            "\u001b[0;31mTypeError\u001b[0m: 'str' object cannot be interpreted as an integer"
          ]
        }
      ]
    },
    {
      "cell_type": "markdown",
      "source": [
        "**NumPy**"
      ],
      "metadata": {
        "id": "vsk5qeuFzdLV"
      }
    },
    {
      "cell_type": "markdown",
      "source": [
        " **1.Create**"
      ],
      "metadata": {
        "id": "Ptr61N9BQ3vL"
      }
    },
    {
      "cell_type": "code",
      "source": [
        "!pip install numpy"
      ],
      "metadata": {
        "colab": {
          "base_uri": "https://localhost:8080/"
        },
        "id": "TDk2J7vZza4r",
        "outputId": "641a65c0-2bce-4914-811f-a76c7d9d160e"
      },
      "execution_count": null,
      "outputs": [
        {
          "output_type": "stream",
          "name": "stdout",
          "text": [
            "Requirement already satisfied: numpy in /usr/local/lib/python3.10/dist-packages (1.25.2)\n"
          ]
        }
      ]
    },
    {
      "cell_type": "code",
      "source": [
        "# Create array\n",
        "import numpy as np\n",
        "\n",
        "data = np.random.rand(2, 3, 4)\n",
        "zeroes = np.zeros((2,2,2))\n",
        "full = np.full((2,2,2), 7)\n",
        "ones = np.ones((2,2,2))\n",
        "\n",
        "print(data)\n",
        "\n",
        "print(\"------\")\n",
        "print(zeroes)\n",
        "\n",
        "print(\"------\")\n",
        "print(full)\n",
        "\n",
        "print(\"------\")\n",
        "print(ones)"
      ],
      "metadata": {
        "colab": {
          "base_uri": "https://localhost:8080/"
        },
        "id": "ecauBJY9s1UY",
        "outputId": "12dc8252-046e-4ac7-ed33-856265c81523"
      },
      "execution_count": null,
      "outputs": [
        {
          "output_type": "stream",
          "name": "stdout",
          "text": [
            "[[[0.85794741 0.31721948 0.21168709 0.02746633]\n",
            "  [0.31303495 0.53644661 0.62765595 0.09743853]\n",
            "  [0.41571366 0.53529699 0.817797   0.17515529]]\n",
            "\n",
            " [[0.65595781 0.82006401 0.97935062 0.08244253]\n",
            "  [0.48422181 0.15836401 0.94600535 0.72935253]\n",
            "  [0.45031799 0.13234355 0.51109739 0.07891525]]]\n",
            "------\n",
            "[[[0. 0.]\n",
            "  [0. 0.]]\n",
            "\n",
            " [[0. 0.]\n",
            "  [0. 0.]]]\n",
            "------\n",
            "[[[7 7]\n",
            "  [7 7]]\n",
            "\n",
            " [[7 7]\n",
            "  [7 7]]]\n",
            "------\n",
            "[[[1. 1.]\n",
            "  [1. 1.]]\n",
            "\n",
            " [[1. 1.]\n",
            "  [1. 1.]]]\n"
          ]
        }
      ]
    },
    {
      "cell_type": "code",
      "source": [
        "arr = np.array([[1, 2, 3,4], [1, 2, 3, 4]])\n",
        "\n",
        "type(arr)"
      ],
      "metadata": {
        "colab": {
          "base_uri": "https://localhost:8080/"
        },
        "id": "8NdtAh9c0to1",
        "outputId": "2b616bc3-08cb-4ce4-a65e-55db1929a25c"
      },
      "execution_count": null,
      "outputs": [
        {
          "output_type": "execute_result",
          "data": {
            "text/plain": [
              "numpy.ndarray"
            ]
          },
          "metadata": {},
          "execution_count": 39
        }
      ]
    },
    {
      "cell_type": "markdown",
      "source": [
        "**2. Read**"
      ],
      "metadata": {
        "id": "DF9iuScxR1UE"
      }
    },
    {
      "cell_type": "code",
      "source": [
        "import numpy as np\n",
        "\n",
        "data = np.random.rand(2, 3, 4)\n",
        "\n",
        "shape = data.shape\n",
        "size = data.size\n",
        "types = data.dtype\n",
        "\n",
        "print(shape)\n",
        "print(size)\n",
        "print(types)"
      ],
      "metadata": {
        "colab": {
          "base_uri": "https://localhost:8080/"
        },
        "id": "X3CDV3FY1Du4",
        "outputId": "953fe98d-03a6-4b92-8785-8a948186c060"
      },
      "execution_count": null,
      "outputs": [
        {
          "output_type": "stream",
          "name": "stdout",
          "text": [
            "(2, 3, 4)\n",
            "24\n",
            "float64\n"
          ]
        }
      ]
    },
    {
      "cell_type": "code",
      "source": [
        "# slicing\n",
        "arr = data[0]\n",
        "slicer = data[0:2]\n",
        "\n",
        "slicer2 = data[0][0:2]\n",
        "\n",
        "reverse = data[-1]\n",
        "singleval = data[0][0]\n",
        "\n",
        "print(\"------\")\n",
        "print(arr)\n",
        "print(\"\\nslicer------\")\n",
        "print(slicer)\n",
        "print(\"\\nslicer2------\")\n",
        "print(slicer2)\n",
        "print(\"------\")\n",
        "print(reverse)\n",
        "print(\"------\")\n",
        "print(singleval)"
      ],
      "metadata": {
        "colab": {
          "base_uri": "https://localhost:8080/"
        },
        "id": "MtuG3R0MCNoO",
        "outputId": "3d54ea63-9b55-4a79-ad99-de6f22d613aa"
      },
      "execution_count": null,
      "outputs": [
        {
          "output_type": "stream",
          "name": "stdout",
          "text": [
            "------\n",
            "[[0.23696676 0.89788156 0.76221038 0.17478382]\n",
            " [0.64835719 0.00891005 0.85542366 0.1398875 ]\n",
            " [0.58310973 0.03549418 0.72444734 0.97526357]]\n",
            "\n",
            "slicer------\n",
            "[[[0.23696676 0.89788156 0.76221038 0.17478382]\n",
            "  [0.64835719 0.00891005 0.85542366 0.1398875 ]\n",
            "  [0.58310973 0.03549418 0.72444734 0.97526357]]\n",
            "\n",
            " [[0.05037326 0.23361    0.47030662 0.70842716]\n",
            "  [0.16948422 0.95434816 0.6599673  0.28001484]\n",
            "  [0.67447875 0.05306198 0.31256626 0.61034538]]]\n",
            "\n",
            "slicer2------\n",
            "[[0.23696676 0.89788156 0.76221038 0.17478382]\n",
            " [0.64835719 0.00891005 0.85542366 0.1398875 ]]\n",
            "------\n",
            "[[0.05037326 0.23361    0.47030662 0.70842716]\n",
            " [0.16948422 0.95434816 0.6599673  0.28001484]\n",
            " [0.67447875 0.05306198 0.31256626 0.61034538]]\n",
            "------\n",
            "[0.23696676 0.89788156 0.76221038 0.17478382]\n"
          ]
        }
      ]
    },
    {
      "cell_type": "markdown",
      "source": [
        " **3.Update**"
      ],
      "metadata": {
        "id": "iIVSm6NnQq6e"
      }
    },
    {
      "cell_type": "code",
      "source": [
        "import numpy as np\n",
        "list1 = np.random.rand(10)\n",
        "list2 = np.random.rand(10)\n",
        "\n",
        "print(list1)\n",
        "print(\"------\")\n",
        "print(list2)"
      ],
      "metadata": {
        "colab": {
          "base_uri": "https://localhost:8080/"
        },
        "id": "gAXEWMz3Gjlb",
        "outputId": "d6abf18c-a311-432a-efec-cbb991a3e7f5"
      },
      "execution_count": null,
      "outputs": [
        {
          "output_type": "stream",
          "name": "stdout",
          "text": [
            "[0.6603916  0.17975339 0.2298381  0.80383295 0.33313516 0.20987973\n",
            " 0.45733524 0.43216204 0.23518503 0.61959958]\n",
            "------\n",
            "[0.15321177 0.32263541 0.81612871 0.01334413 0.73484016 0.25855264\n",
            " 0.8157818  0.57915772 0.54273212 0.42766984]\n"
          ]
        }
      ]
    },
    {
      "cell_type": "code",
      "source": [
        "# basic math\n",
        "add = np.add(list1, list2)\n",
        "sub = np.subtract(list1, list2)\n",
        "div = np.divide(list1, list2)\n",
        "mult = np.multiply(list1, list2)\n",
        "dot = np.dot(list1, list2)\n",
        "\n",
        "print(\"add----\")\n",
        "print(add)\n",
        "print(\"sub----\")\n",
        "print(sub)\n",
        "print(\"div----\")\n",
        "print(div)\n",
        "print(\"mult----\")\n",
        "print(mult)\n",
        "print(\"dot----\") # multiply 2 arry and add products\n",
        "print(dot)"
      ],
      "metadata": {
        "colab": {
          "base_uri": "https://localhost:8080/"
        },
        "id": "PdNWFn9vIlbX",
        "outputId": "c9f8d4c5-0586-434a-da18-0b73981cb976"
      },
      "execution_count": null,
      "outputs": [
        {
          "output_type": "stream",
          "name": "stdout",
          "text": [
            "add----\n",
            "[0.81360337 0.5023888  1.0459668  0.81717708 1.06797532 0.46843237\n",
            " 1.27311703 1.01131976 0.77791716 1.04726942]\n",
            "sub----\n",
            "[ 0.50717983 -0.14288202 -0.58629061  0.79048882 -0.401705   -0.04867291\n",
            " -0.35844656 -0.14699568 -0.30754709  0.19192974]\n",
            "div----\n",
            "[ 4.31031889  0.55714092  0.28161991 60.23868023  0.4533437   0.81174854\n",
            "  0.56060976  0.74619059  0.43333539  1.44878016]\n",
            "mult----\n",
            "[0.10117977 0.05799481 0.18757747 0.01072645 0.24480109 0.05426496\n",
            " 0.37308576 0.25028998 0.12764247 0.26498405]\n",
            "dot----\n",
            "1.6725468223061801\n"
          ]
        }
      ]
    },
    {
      "cell_type": "code",
      "source": [
        "#stat function\n",
        "sqrt = np.sqrt(25)\n",
        "abs = np.abs(-2)\n",
        "power = np.power(2, 7)\n",
        "log = np.log(25)\n",
        "exp = np.exp(2,3)\n",
        "min = np.min(list1)\n",
        "exp = np.max(list1)"
      ],
      "metadata": {
        "id": "mCEcdqeLKqK0"
      },
      "execution_count": null,
      "outputs": []
    },
    {
      "cell_type": "code",
      "source": [
        "data.sort()\n",
        "data"
      ],
      "metadata": {
        "colab": {
          "base_uri": "https://localhost:8080/"
        },
        "id": "m00dQURQM8Pv",
        "outputId": "8bfbbcbb-5f0f-42bb-bfab-7e3e33f479fd"
      },
      "execution_count": null,
      "outputs": [
        {
          "output_type": "execute_result",
          "data": {
            "text/plain": [
              "array([[[0.17478382, 0.23696676, 0.76221038, 0.89788156],\n",
              "        [0.00891005, 0.1398875 , 0.64835719, 0.85542366],\n",
              "        [0.03549418, 0.58310973, 0.72444734, 0.97526357]],\n",
              "\n",
              "       [[0.05037326, 0.23361   , 0.47030662, 0.70842716],\n",
              "        [0.16948422, 0.28001484, 0.6599673 , 0.95434816],\n",
              "        [0.05306198, 0.31256626, 0.61034538, 0.67447875]]])"
            ]
          },
          "metadata": {},
          "execution_count": 59
        }
      ]
    },
    {
      "cell_type": "code",
      "source": [
        "print(data.shape)"
      ],
      "metadata": {
        "colab": {
          "base_uri": "https://localhost:8080/"
        },
        "id": "ACppOo0hNIbK",
        "outputId": "9c83216a-4fe7-402e-b563-cf9f55e605c9"
      },
      "execution_count": null,
      "outputs": [
        {
          "output_type": "stream",
          "name": "stdout",
          "text": [
            "(2, 3, 4)\n"
          ]
        }
      ]
    },
    {
      "cell_type": "code",
      "source": [
        "print(data)\n",
        "print('------')\n",
        "data = data.reshape((2,2,-1))\n",
        "print(data.shape)\n",
        "print(data)"
      ],
      "metadata": {
        "colab": {
          "base_uri": "https://localhost:8080/"
        },
        "id": "Vy1QMG3kN9q7",
        "outputId": "9e1c3511-3a50-41c9-d6b7-a89aad4452f6"
      },
      "execution_count": null,
      "outputs": [
        {
          "output_type": "stream",
          "name": "stdout",
          "text": [
            "[[[0.17478382 0.23696676 0.76221038 0.89788156 0.00891005 0.1398875 ]\n",
            "  [0.64835719 0.85542366 0.03549418 0.58310973 0.72444734 0.97526357]]\n",
            "\n",
            " [[0.05037326 0.23361    0.47030662 0.70842716 0.16948422 0.28001484]\n",
            "  [0.6599673  0.95434816 0.05306198 0.31256626 0.61034538 0.67447875]]]\n",
            "------\n",
            "(2, 2, 6)\n",
            "[[[0.17478382 0.23696676 0.76221038 0.89788156 0.00891005 0.1398875 ]\n",
            "  [0.64835719 0.85542366 0.03549418 0.58310973 0.72444734 0.97526357]]\n",
            "\n",
            " [[0.05037326 0.23361    0.47030662 0.70842716 0.16948422 0.28001484]\n",
            "  [0.6599673  0.95434816 0.05306198 0.31256626 0.61034538 0.67447875]]]\n"
          ]
        }
      ]
    },
    {
      "cell_type": "code",
      "source": [
        "zeros = np.zeros((8))\n",
        "print(zeros)\n",
        "zeros = np.append(zeros, [3,4])\n",
        "print(zeros)"
      ],
      "metadata": {
        "colab": {
          "base_uri": "https://localhost:8080/"
        },
        "id": "oIooNkhRPWit",
        "outputId": "07c1b01f-c6fb-4ef2-900d-da5a926de5a6"
      },
      "execution_count": null,
      "outputs": [
        {
          "output_type": "stream",
          "name": "stdout",
          "text": [
            "[0. 0. 0. 0. 0. 0. 0. 0.]\n",
            "[0. 0. 0. 0. 0. 0. 0. 0. 3. 4.]\n"
          ]
        }
      ]
    },
    {
      "cell_type": "code",
      "source": [
        "zeros = np.insert(zeros, 2, 1) # insert 1 into position 2\n",
        "print(zeros)"
      ],
      "metadata": {
        "colab": {
          "base_uri": "https://localhost:8080/"
        },
        "id": "M_xMl4soPW2u",
        "outputId": "4b38f2b8-4021-4410-8fef-cb56fb6e8939"
      },
      "execution_count": null,
      "outputs": [
        {
          "output_type": "stream",
          "name": "stdout",
          "text": [
            "[0. 0. 1. 0. 0. 0. 0. 0. 0. 3. 4.]\n"
          ]
        }
      ]
    },
    {
      "cell_type": "markdown",
      "source": [
        "**4. Delete**"
      ],
      "metadata": {
        "id": "6crrqHsYRCwb"
      }
    },
    {
      "cell_type": "code",
      "source": [
        "data"
      ],
      "metadata": {
        "colab": {
          "base_uri": "https://localhost:8080/"
        },
        "id": "-89E11F2RFhE",
        "outputId": "df20abee-9be7-4f9e-9909-228b4976a8c8"
      },
      "execution_count": null,
      "outputs": [
        {
          "output_type": "execute_result",
          "data": {
            "text/plain": [
              "array([[[0.17478382, 0.23696676, 0.76221038, 0.89788156, 0.00891005,\n",
              "         0.1398875 ],\n",
              "        [0.64835719, 0.85542366, 0.03549418, 0.58310973, 0.72444734,\n",
              "         0.97526357]],\n",
              "\n",
              "       [[0.05037326, 0.23361   , 0.47030662, 0.70842716, 0.16948422,\n",
              "         0.28001484],\n",
              "        [0.6599673 , 0.95434816, 0.05306198, 0.31256626, 0.61034538,\n",
              "         0.67447875]]])"
            ]
          },
          "metadata": {},
          "execution_count": 71
        }
      ]
    },
    {
      "cell_type": "code",
      "source": [
        "np.delete(data, 0, axis=1) # axis = 1 : delete row"
      ],
      "metadata": {
        "colab": {
          "base_uri": "https://localhost:8080/"
        },
        "id": "wJN8ONXaRL-b",
        "outputId": "ca8c8d30-7f62-4622-e3ec-777618a5f42e"
      },
      "execution_count": null,
      "outputs": [
        {
          "output_type": "execute_result",
          "data": {
            "text/plain": [
              "array([[[0.64835719, 0.85542366, 0.03549418, 0.58310973, 0.72444734,\n",
              "         0.97526357]],\n",
              "\n",
              "       [[0.6599673 , 0.95434816, 0.05306198, 0.31256626, 0.61034538,\n",
              "         0.67447875]]])"
            ]
          },
          "metadata": {},
          "execution_count": 72
        }
      ]
    },
    {
      "cell_type": "code",
      "source": [
        "np.save(\"new array\", data)"
      ],
      "metadata": {
        "id": "bsYrBLPTRZCw"
      },
      "execution_count": null,
      "outputs": []
    },
    {
      "cell_type": "markdown",
      "source": [
        "**Multidimensional Arrays**"
      ],
      "metadata": {
        "id": "IhvFAHFMSLOz"
      }
    },
    {
      "cell_type": "code",
      "source": [
        "!pip install numpy\n",
        "import numpy as np\n",
        "array = np.array([1, 2, 3, 4, 5])\n",
        "print(array)"
      ],
      "metadata": {
        "colab": {
          "base_uri": "https://localhost:8080/"
        },
        "id": "L9wxpXZ8SHPH",
        "outputId": "66f47f63-b7e7-414d-e05a-38bb559e821f"
      },
      "execution_count": null,
      "outputs": [
        {
          "output_type": "stream",
          "name": "stdout",
          "text": [
            "Requirement already satisfied: numpy in /usr/local/lib/python3.10/dist-packages (1.25.2)\n",
            "[1 2 3 4 5]\n"
          ]
        }
      ]
    },
    {
      "cell_type": "code",
      "source": [
        "# zero dimensional array\n",
        "zero_dim = np.array(123456)\n",
        "print(zero_dim)\n",
        "\n",
        "# one dimensional array\n",
        "one_dim = np.array([1, 2, 3])\n",
        "print(one_dim)\n",
        "\n",
        "# two dimensional array\n",
        "two_dim = np.array([[1, 2, 3] , [4, 5, 6]])\n",
        "print(two_dim)\n",
        "\n",
        "# three dimensional array\n",
        "three_dim = np.array([[[1, 2, 3] , [4, 5, 6]], [[7, 8, 9] , [10, 11, 12]]])\n",
        "print(three_dim)"
      ],
      "metadata": {
        "colab": {
          "base_uri": "https://localhost:8080/"
        },
        "id": "ruDA28fVTxBm",
        "outputId": "7db49c65-1dd7-47e0-90f2-86b33991fbee"
      },
      "execution_count": null,
      "outputs": [
        {
          "output_type": "stream",
          "name": "stdout",
          "text": [
            "123456\n",
            "[1 2 3]\n",
            "[[1 2 3]\n",
            " [4 5 6]]\n",
            "[[[ 1  2  3]\n",
            "  [ 4  5  6]]\n",
            "\n",
            " [[ 7  8  9]\n",
            "  [10 11 12]]]\n"
          ]
        }
      ]
    },
    {
      "cell_type": "code",
      "source": [
        "# fininf the dimension of a given arry\n",
        "print(zero_dim.ndim)\n",
        "print(one_dim.ndim)\n",
        "print(two_dim.ndim)\n",
        "print(three_dim.ndim)"
      ],
      "metadata": {
        "colab": {
          "base_uri": "https://localhost:8080/"
        },
        "id": "cNafm-CjTciN",
        "outputId": "c91da4d3-c0b7-4377-b154-8a24e5ee69d3"
      },
      "execution_count": null,
      "outputs": [
        {
          "output_type": "stream",
          "name": "stdout",
          "text": [
            "0\n",
            "1\n",
            "2\n",
            "3\n"
          ]
        }
      ]
    },
    {
      "cell_type": "code",
      "source": [
        "# Given an array any dimension you want\n",
        "new_array = np.array(17, ndmin = 5)\n",
        "print(new_array)\n",
        "\n",
        "new_array = np.array([1, 2], ndmin = 5)\n",
        "print(new_array)"
      ],
      "metadata": {
        "colab": {
          "base_uri": "https://localhost:8080/"
        },
        "id": "1BzId7B-Wwke",
        "outputId": "64a997b1-e10e-414d-a83f-a65a0077529c"
      },
      "execution_count": null,
      "outputs": [
        {
          "output_type": "stream",
          "name": "stdout",
          "text": [
            "[[[[[17]]]]]\n",
            "[[[[[1 2]]]]]\n"
          ]
        }
      ]
    },
    {
      "cell_type": "markdown",
      "source": [
        "**Python Simplified: More on NumPy Arrays**"
      ],
      "metadata": {
        "id": "vUbyNhewYa-j"
      }
    },
    {
      "cell_type": "code",
      "source": [
        "!pip install numpy\n",
        "import numpy as np\n",
        "\n",
        "my_array = np.arange(8)\n",
        "print(my_array)\n",
        "print(type(my_array))"
      ],
      "metadata": {
        "colab": {
          "base_uri": "https://localhost:8080/"
        },
        "id": "vgamcUoIXiDo",
        "outputId": "e7a356be-e6f6-4282-8c7e-39443dc76264"
      },
      "execution_count": null,
      "outputs": [
        {
          "output_type": "stream",
          "name": "stdout",
          "text": [
            "Requirement already satisfied: numpy in /usr/local/lib/python3.10/dist-packages (1.25.2)\n",
            "[0 1 2 3 4 5 6 7]\n",
            "<class 'numpy.ndarray'>\n"
          ]
        }
      ]
    },
    {
      "cell_type": "code",
      "source": [
        "my_array = np.arange(1, 8)\n",
        "print(my_array)\n",
        "print(type(my_array))"
      ],
      "metadata": {
        "colab": {
          "base_uri": "https://localhost:8080/"
        },
        "id": "igjhAE3KYLvF",
        "outputId": "894aa8c4-124b-44cb-f32e-d55ba442407c"
      },
      "execution_count": null,
      "outputs": [
        {
          "output_type": "stream",
          "name": "stdout",
          "text": [
            "[1 2 3 4 5 6 7]\n",
            "<class 'numpy.ndarray'>\n"
          ]
        }
      ]
    },
    {
      "cell_type": "code",
      "source": [
        "my_array = np.arange(1, 8, 2) # start, stop, step\n",
        "print(my_array)\n",
        "print(type(my_array))"
      ],
      "metadata": {
        "colab": {
          "base_uri": "https://localhost:8080/"
        },
        "id": "cZk3ufwxYoQw",
        "outputId": "a63f467a-0a7d-43e7-902c-dbba38c975de"
      },
      "execution_count": null,
      "outputs": [
        {
          "output_type": "stream",
          "name": "stdout",
          "text": [
            "[1 3 5 7]\n",
            "<class 'numpy.ndarray'>\n"
          ]
        }
      ]
    },
    {
      "cell_type": "code",
      "source": [
        "my_array = np.arange(1, 8, 0.5) # start, stop, step\n",
        "print(my_array)\n",
        "print(type(my_array))"
      ],
      "metadata": {
        "colab": {
          "base_uri": "https://localhost:8080/"
        },
        "id": "QbFv3fKJYxGT",
        "outputId": "dd9426b2-3a4d-4528-ad69-8aa6f3e797c1"
      },
      "execution_count": null,
      "outputs": [
        {
          "output_type": "stream",
          "name": "stdout",
          "text": [
            "[1.  1.5 2.  2.5 3.  3.5 4.  4.5 5.  5.5 6.  6.5 7.  7.5]\n",
            "<class 'numpy.ndarray'>\n"
          ]
        }
      ]
    },
    {
      "cell_type": "code",
      "source": [
        "# arrays from lists\n",
        "from_list = np.array([1, 2, 3])\n",
        "print(from_list)\n",
        "\n",
        "print(type(from_list[0]))"
      ],
      "metadata": {
        "colab": {
          "base_uri": "https://localhost:8080/"
        },
        "id": "Wk-2ulgtbDy3",
        "outputId": "0cc2ba89-7353-4c74-fe5f-fd98baca10c7"
      },
      "execution_count": null,
      "outputs": [
        {
          "output_type": "stream",
          "name": "stdout",
          "text": [
            "[1 2 3]\n",
            "<class 'numpy.int64'>\n"
          ]
        }
      ]
    },
    {
      "cell_type": "code",
      "source": [
        "from_list = np.array([1, 2, 3], dtype = np.int8)\n",
        "print(from_list)\n",
        "\n",
        "print(type(from_list[0]))"
      ],
      "metadata": {
        "colab": {
          "base_uri": "https://localhost:8080/"
        },
        "id": "60ZZxCEtbPDC",
        "outputId": "4900699f-b5ff-4e5a-bc1c-e7386a0e9925"
      },
      "execution_count": null,
      "outputs": [
        {
          "output_type": "stream",
          "name": "stdout",
          "text": [
            "[1 2 3]\n",
            "<class 'numpy.int8'>\n"
          ]
        }
      ]
    },
    {
      "cell_type": "code",
      "source": [
        "!pip install numpy\n",
        "import numpy as np\n",
        "\n",
        "# 2D arrays\n",
        "from_list = np.array([[1, 2, 3], [4,5,6]], dtype = np.int8)\n",
        "print(from_list)"
      ],
      "metadata": {
        "colab": {
          "base_uri": "https://localhost:8080/"
        },
        "id": "K4Z2gqsJxWnG",
        "outputId": "6815f09c-b364-4f82-854d-a282ee9ade6f"
      },
      "execution_count": null,
      "outputs": [
        {
          "output_type": "stream",
          "name": "stdout",
          "text": [
            "Requirement already satisfied: numpy in /usr/local/lib/python3.10/dist-packages (1.25.2)\n",
            "[[1 2 3]\n",
            " [4 5 6]]\n"
          ]
        }
      ]
    },
    {
      "cell_type": "code",
      "source": [
        "my_array = np.arange(1, 8)\n",
        "print(my_array)\n",
        "print(type(my_array))\n",
        "\n",
        "print('1D array', my_array)\n",
        "print(my_array.shape, '\\n')\n",
        "\n",
        "from_list = np.array([[1, 2, 3], [4,5,6]], dtype = np.int8)\n",
        "array_2d = np.array((np.arange(0,8, 2), np.arange(1,8,2)))\n",
        "print('2D array',array_2d)\n",
        "print(array_2d.shape)\n"
      ],
      "metadata": {
        "colab": {
          "base_uri": "https://localhost:8080/"
        },
        "id": "axxtNXZUyIqi",
        "outputId": "100e399b-4b85-4a80-9fd7-46da58c5c68c"
      },
      "execution_count": null,
      "outputs": [
        {
          "output_type": "stream",
          "name": "stdout",
          "text": [
            "[1 2 3 4 5 6 7]\n",
            "<class 'numpy.ndarray'>\n",
            "1D array [1 2 3 4 5 6 7]\n",
            "(7,) \n",
            "\n",
            "2D array [[0 2 4 6]\n",
            " [1 3 5 7]]\n",
            "(2, 4)\n"
          ]
        }
      ]
    },
    {
      "cell_type": "code",
      "source": [
        "array_2d = np.array((np.arange(0,8, 2), np.arange(1,8,2)))\n",
        "print('2D array',array_2d)\n",
        "print(array_2d.shape, '\\n')\n",
        "\n",
        "array_2d = array_2d.reshape((4, 2))\n",
        "print(array_2d)"
      ],
      "metadata": {
        "colab": {
          "base_uri": "https://localhost:8080/"
        },
        "id": "2qxFrYEwzDcV",
        "outputId": "d6b1a2cf-acc5-430b-d23f-cf607b776d74"
      },
      "execution_count": null,
      "outputs": [
        {
          "output_type": "stream",
          "name": "stdout",
          "text": [
            "2D array [[0 2 4 6]\n",
            " [1 3 5 7]]\n",
            "(2, 4) \n",
            "\n",
            "[[0 2]\n",
            " [4 6]\n",
            " [1 3]\n",
            " [5 7]]\n"
          ]
        }
      ]
    },
    {
      "cell_type": "code",
      "source": [
        "array_2d = np.array((np.arange(0,8, 2), np.arange(1,8,2)))\n",
        "\n",
        "array_2d = array_2d.reshape((2, 1, 4))\n",
        "print(array_2d)\n",
        "print('2D array',array_2d.shape)"
      ],
      "metadata": {
        "colab": {
          "base_uri": "https://localhost:8080/"
        },
        "id": "JHm-D26V0lr0",
        "outputId": "dfa706f8-69fc-43ba-8fb9-1e2ca855545c"
      },
      "execution_count": null,
      "outputs": [
        {
          "output_type": "stream",
          "name": "stdout",
          "text": [
            "[[[0 2 4 6]]\n",
            "\n",
            " [[1 3 5 7]]]\n",
            "2D array (2, 1, 4)\n"
          ]
        }
      ]
    },
    {
      "cell_type": "code",
      "source": [
        "# empty array\n",
        "empty_array = np.zeros((2,2))\n",
        "print(empty_array, '\\n')\n",
        "\n",
        "one_array = np.ones((2,2))\n",
        "print(one_array)"
      ],
      "metadata": {
        "colab": {
          "base_uri": "https://localhost:8080/"
        },
        "id": "X31Npxq41PnQ",
        "outputId": "ab240b07-3bf9-42b3-db8c-ee8984d85f35"
      },
      "execution_count": null,
      "outputs": [
        {
          "output_type": "stream",
          "name": "stdout",
          "text": [
            "[[0. 0.]\n",
            " [0. 0.]] \n",
            "\n",
            "[[1. 1.]\n",
            " [1. 1.]]\n"
          ]
        }
      ]
    },
    {
      "cell_type": "code",
      "source": [
        "# empty returns random values\n",
        "empty_array = np.empty((2,2))\n",
        "print(empty_array, '\\n')\n",
        "\n",
        "empty_array = np.empty((2, 2,2))\n",
        "print(empty_array, '\\n')"
      ],
      "metadata": {
        "colab": {
          "base_uri": "https://localhost:8080/"
        },
        "id": "T-FBcg7I5AHc",
        "outputId": "76f19855-9e74-4e8a-a9c2-2393f02c4362"
      },
      "execution_count": null,
      "outputs": [
        {
          "output_type": "stream",
          "name": "stdout",
          "text": [
            "[[1. 1.]\n",
            " [1. 1.]] \n",
            "\n",
            "[[[0.0e+000 9.9e-324]\n",
            "  [2.0e-323 3.0e-323]]\n",
            "\n",
            " [[4.9e-324 1.5e-323]\n",
            "  [2.5e-323 3.5e-323]]] \n",
            "\n"
          ]
        }
      ]
    },
    {
      "cell_type": "code",
      "source": [
        "eye_array = np.eye(3)\n",
        "print(eye_array)"
      ],
      "metadata": {
        "colab": {
          "base_uri": "https://localhost:8080/"
        },
        "id": "8zIlB8Yu5Rsn",
        "outputId": "fc2cbf47-8b2f-4ec0-b6ec-cae624f0841a"
      },
      "execution_count": null,
      "outputs": [
        {
          "output_type": "stream",
          "name": "stdout",
          "text": [
            "[[1. 0. 0.]\n",
            " [0. 1. 0.]\n",
            " [0. 0. 1.]]\n"
          ]
        }
      ]
    },
    {
      "cell_type": "code",
      "source": [
        "eye_array = np.eye(3, k=-1)\n",
        "print(eye_array)"
      ],
      "metadata": {
        "colab": {
          "base_uri": "https://localhost:8080/"
        },
        "id": "b6ATZ6Za63e0",
        "outputId": "bd626d95-f440-40a4-df27-eae1fc6f9e3b"
      },
      "execution_count": null,
      "outputs": [
        {
          "output_type": "stream",
          "name": "stdout",
          "text": [
            "[[0. 0. 0.]\n",
            " [1. 0. 0.]\n",
            " [0. 1. 0.]]\n"
          ]
        }
      ]
    },
    {
      "cell_type": "code",
      "source": [
        "eye_array = np.eye(3, k=1)\n",
        "print(eye_array)"
      ],
      "metadata": {
        "colab": {
          "base_uri": "https://localhost:8080/"
        },
        "id": "H56TREin7GXZ",
        "outputId": "7d19fbf6-ec37-4341-d79b-aa84eb3de04a"
      },
      "execution_count": null,
      "outputs": [
        {
          "output_type": "stream",
          "name": "stdout",
          "text": [
            "[[0. 1. 0.]\n",
            " [0. 0. 1.]\n",
            " [0. 0. 0.]]\n"
          ]
        }
      ]
    },
    {
      "cell_type": "code",
      "source": [
        "eye_array = np.eye(3, k=1)\n",
        "eye_array[eye_array == 0] = 2\n",
        "print(eye_array)"
      ],
      "metadata": {
        "colab": {
          "base_uri": "https://localhost:8080/"
        },
        "id": "gh3eXyxZ7IH3",
        "outputId": "de9f20df-bf2a-45c2-a4cb-ff6e6bf307cc"
      },
      "execution_count": null,
      "outputs": [
        {
          "output_type": "stream",
          "name": "stdout",
          "text": [
            "[[2. 1. 2.]\n",
            " [2. 2. 1.]\n",
            " [2. 2. 2.]]\n"
          ]
        }
      ]
    },
    {
      "cell_type": "code",
      "source": [
        "eye_array[eye_array < 2] = 9\n",
        "print(eye_array)"
      ],
      "metadata": {
        "colab": {
          "base_uri": "https://localhost:8080/"
        },
        "id": "6yMqGYzL7UwH",
        "outputId": "7c2effdf-e130-4d3f-d360-29d3b61c298d"
      },
      "execution_count": null,
      "outputs": [
        {
          "output_type": "stream",
          "name": "stdout",
          "text": [
            "[[2. 9. 2.]\n",
            " [2. 2. 9.]\n",
            " [2. 2. 2.]]\n"
          ]
        }
      ]
    },
    {
      "cell_type": "code",
      "source": [
        "eye_array[0] = 3\n",
        "print(eye_array)"
      ],
      "metadata": {
        "colab": {
          "base_uri": "https://localhost:8080/"
        },
        "id": "Z2BoCHh47hF5",
        "outputId": "c9dc3f33-5288-4d83-ef51-6ad4a7ccbb28"
      },
      "execution_count": null,
      "outputs": [
        {
          "output_type": "stream",
          "name": "stdout",
          "text": [
            "[[3. 3. 3.]\n",
            " [2. 2. 9.]\n",
            " [2. 2. 2.]]\n"
          ]
        }
      ]
    },
    {
      "cell_type": "code",
      "source": [
        "eye_array[:2] = 3\n",
        "print(eye_array)"
      ],
      "metadata": {
        "colab": {
          "base_uri": "https://localhost:8080/"
        },
        "id": "oWR8EsMX70qO",
        "outputId": "d13359c2-3226-4675-f70c-68a8315b98a6"
      },
      "execution_count": null,
      "outputs": [
        {
          "output_type": "stream",
          "name": "stdout",
          "text": [
            "[[3. 3. 3.]\n",
            " [3. 3. 3.]\n",
            " [2. 2. 2.]]\n"
          ]
        }
      ]
    },
    {
      "cell_type": "code",
      "source": [
        "eye_array[: ,0] = 4\n",
        "print(eye_array)"
      ],
      "metadata": {
        "colab": {
          "base_uri": "https://localhost:8080/"
        },
        "id": "2B7gqF-e75Iw",
        "outputId": "5f69b642-d2ac-4fcf-be4d-335baa64c833"
      },
      "execution_count": null,
      "outputs": [
        {
          "output_type": "stream",
          "name": "stdout",
          "text": [
            "[[4. 3. 3.]\n",
            " [4. 3. 3.]\n",
            " [4. 3. 3.]]\n"
          ]
        }
      ]
    },
    {
      "cell_type": "code",
      "source": [
        "eye_array[: , -1] = 4\n",
        "print(eye_array)"
      ],
      "metadata": {
        "colab": {
          "base_uri": "https://localhost:8080/"
        },
        "id": "24Azlm2s8NS9",
        "outputId": "aa854cea-99b6-4652-c46c-7c1e9ec249cc"
      },
      "execution_count": null,
      "outputs": [
        {
          "output_type": "stream",
          "name": "stdout",
          "text": [
            "[[4. 3. 4.]\n",
            " [4. 3. 4.]\n",
            " [4. 3. 4.]]\n"
          ]
        }
      ]
    },
    {
      "cell_type": "code",
      "source": [
        "sorted_array = np.sort(eye_array)\n",
        "print(sorted_array)"
      ],
      "metadata": {
        "colab": {
          "base_uri": "https://localhost:8080/"
        },
        "id": "SO82UcPQ8SDl",
        "outputId": "05a5156e-5d64-42aa-c330-32a87b21a5d1"
      },
      "execution_count": null,
      "outputs": [
        {
          "output_type": "stream",
          "name": "stdout",
          "text": [
            "[[3. 4. 4.]\n",
            " [3. 4. 4.]\n",
            " [3. 4. 4.]]\n"
          ]
        }
      ]
    },
    {
      "cell_type": "code",
      "source": [
        "# sort by column 0:column -1:rows\n",
        "sorted_array = np.sort(eye_array, axis = 0)\n",
        "print(sorted_array)"
      ],
      "metadata": {
        "colab": {
          "base_uri": "https://localhost:8080/"
        },
        "id": "W427ByzD8vc5",
        "outputId": "998c177a-ded6-451a-ac0b-16c4990ef977"
      },
      "execution_count": null,
      "outputs": [
        {
          "output_type": "stream",
          "name": "stdout",
          "text": [
            "[[4. 3. 4.]\n",
            " [4. 3. 4.]\n",
            " [4. 3. 4.]]\n"
          ]
        }
      ]
    },
    {
      "cell_type": "code",
      "source": [
        "# defualt sort is quicksort and we can change it to other kind of sort (mergesort, heapsort)\n",
        "sorted_array = np.sort(eye_array, axis = 0, kind = \"mergesort\")\n",
        "print(sorted_array)"
      ],
      "metadata": {
        "colab": {
          "base_uri": "https://localhost:8080/"
        },
        "id": "71t7pZHR9EpS",
        "outputId": "3f58ea5e-06c7-4294-c1cc-6c91ad22766a"
      },
      "execution_count": null,
      "outputs": [
        {
          "output_type": "stream",
          "name": "stdout",
          "text": [
            "[[4. 3. 4.]\n",
            " [4. 3. 4.]\n",
            " [4. 3. 4.]]\n"
          ]
        }
      ]
    },
    {
      "cell_type": "code",
      "source": [
        "# copy arrays\n",
        "my_view = sorted_array.view()\n",
        "my_copy = sorted_array.copy()\n",
        "\n",
        "# both my_view and sorted_array change\n",
        "my_view[:] = 4\n",
        "print(my_view, '\\n')\n",
        "print(sorted_array, '\\n')\n"
      ],
      "metadata": {
        "colab": {
          "base_uri": "https://localhost:8080/"
        },
        "id": "Bcp6IAFz9Q18",
        "outputId": "6b613ed0-f968-4c21-c4a2-90baaed610ad"
      },
      "execution_count": null,
      "outputs": [
        {
          "output_type": "stream",
          "name": "stdout",
          "text": [
            "[[4. 4. 4.]\n",
            " [4. 4. 4.]\n",
            " [4. 4. 4.]] \n",
            "\n",
            "[[4. 4. 4.]\n",
            " [4. 4. 4.]\n",
            " [4. 4. 4.]] \n",
            "\n"
          ]
        }
      ]
    },
    {
      "cell_type": "code",
      "source": [
        "\n",
        "# copy just change and sorted_array hasn't changed\n",
        "my_copy[:] = 4\n",
        "print(my_copy, '\\n')\n",
        "print(sorted_array, '\\n')"
      ],
      "metadata": {
        "colab": {
          "base_uri": "https://localhost:8080/"
        },
        "id": "XCtKswFP-McT",
        "outputId": "55b784a8-da1e-43d3-9cf8-f51b0524b709"
      },
      "execution_count": null,
      "outputs": [
        {
          "output_type": "stream",
          "name": "stdout",
          "text": [
            "[[4. 4. 4.]\n",
            " [4. 4. 4.]\n",
            " [4. 4. 4.]] \n",
            "\n",
            "[[4. 4. 4.]\n",
            " [4. 4. 4.]\n",
            " [4. 4. 4.]] \n",
            "\n"
          ]
        }
      ]
    },
    {
      "cell_type": "code",
      "source": [
        "my_view = my_view.reshape(3,3,1)\n",
        "print(my_view, '\\n')\n",
        "print(sorted_array, '\\n')"
      ],
      "metadata": {
        "colab": {
          "base_uri": "https://localhost:8080/"
        },
        "id": "gSpLvxeF-sje",
        "outputId": "254f85e5-ca80-4044-c3b4-236c31975acd"
      },
      "execution_count": null,
      "outputs": [
        {
          "output_type": "stream",
          "name": "stdout",
          "text": [
            "[[[4.]\n",
            "  [4.]\n",
            "  [4.]]\n",
            "\n",
            " [[4.]\n",
            "  [4.]\n",
            "  [4.]]\n",
            "\n",
            " [[4.]\n",
            "  [4.]\n",
            "  [4.]]] \n",
            "\n",
            "[[4. 4. 4.]\n",
            " [4. 4. 4.]\n",
            " [4. 4. 4.]] \n",
            "\n"
          ]
        }
      ]
    },
    {
      "cell_type": "code",
      "source": [
        "import numpy as np\n",
        "np_heights = np.array([[1.60,1.75],[1.56,1.70],[1.49,1.68]])\n",
        "print(np.corrcoef(np_heights[:,0], np_heights[:,1]))"
      ],
      "metadata": {
        "colab": {
          "base_uri": "https://localhost:8080/"
        },
        "id": "vEWJG-I_AcWh",
        "outputId": "898719e2-490c-4d46-cbd7-b7d2195559b9"
      },
      "execution_count": null,
      "outputs": [
        {
          "output_type": "stream",
          "name": "stdout",
          "text": [
            "[[1.         0.92155064]\n",
            " [0.92155064 1.        ]]\n"
          ]
        }
      ]
    },
    {
      "cell_type": "code",
      "source": [
        "# optional arguments: q, r2\n",
        "def function_1(p, r1 [, q][, r2])"
      ],
      "metadata": {
        "id": "kyaCJiCiCCk8"
      },
      "execution_count": null,
      "outputs": []
    },
    {
      "cell_type": "code",
      "source": [
        "a = lambda x: x*2\n",
        "for i in range(1,6):\n",
        "    print(a(i))"
      ],
      "metadata": {
        "colab": {
          "base_uri": "https://localhost:8080/"
        },
        "id": "lUtlcaLxxNUQ",
        "outputId": "3acf2c4a-f32d-4dc8-e646-d04afcbc5f84"
      },
      "execution_count": null,
      "outputs": [
        {
          "output_type": "stream",
          "name": "stdout",
          "text": [
            "2\n",
            "4\n",
            "6\n",
            "8\n",
            "10\n"
          ]
        }
      ]
    },
    {
      "cell_type": "code",
      "source": [
        "def outer_function():\n",
        "    a = 5\n",
        "    def inner_function():\n",
        "        nonlocal a\n",
        "        a = 10\n",
        "        print(\"Inner function: \",a)\n",
        "    inner_function()\n",
        "    print(\"Outer function: \",a)\n",
        "\n",
        "outer_function()"
      ],
      "metadata": {
        "colab": {
          "base_uri": "https://localhost:8080/"
        },
        "id": "Hx8XP-7-zt1T",
        "outputId": "659bf523-c0cf-4e27-97ef-65607378af03"
      },
      "execution_count": null,
      "outputs": [
        {
          "output_type": "stream",
          "name": "stdout",
          "text": [
            "Inner function:  10\n",
            "Outer function:  10\n"
          ]
        }
      ]
    },
    {
      "cell_type": "code",
      "source": [
        "def outer_function():\n",
        "    a = 5\n",
        "    def inner_function():\n",
        "        a = 10\n",
        "        print(\"Inner function: \",a)\n",
        "    inner_function()\n",
        "    print(\"Outer function: \",a)\n",
        "\n",
        "outer_function()"
      ],
      "metadata": {
        "colab": {
          "base_uri": "https://localhost:8080/"
        },
        "id": "N1c4vFZc0BXo",
        "outputId": "0d001883-3fb5-404a-c322-1ae528ba28fd"
      },
      "execution_count": null,
      "outputs": [
        {
          "output_type": "stream",
          "name": "stdout",
          "text": [
            "Inner function:  10\n",
            "Outer function:  5\n"
          ]
        }
      ]
    },
    {
      "cell_type": "code",
      "source": [
        "def func_return():\n",
        "    a = 10\n",
        "    return a\n",
        "\n",
        "def no_return():\n",
        "    a = 10\n",
        "\n",
        "print(func_return())\n",
        "print(no_return())"
      ],
      "metadata": {
        "colab": {
          "base_uri": "https://localhost:8080/"
        },
        "id": "bHrb_Kng0K_6",
        "outputId": "eba5faf9-f358-4c81-f6b4-57c0ccc63fb7"
      },
      "execution_count": null,
      "outputs": [
        {
          "output_type": "stream",
          "name": "stdout",
          "text": [
            "10\n",
            "None\n"
          ]
        }
      ]
    },
    {
      "cell_type": "code",
      "source": [
        "# This example writes the text Hello world! to the file example.txt\n",
        "with open('example.txt', 'w') as my_file:\n",
        "    my_file.write('Hello world!')"
      ],
      "metadata": {
        "id": "tMbLeeXU0MSe"
      },
      "execution_count": null,
      "outputs": []
    },
    {
      "cell_type": "code",
      "source": [
        "g = (2**x for x in range(100))\n",
        "next(g)"
      ],
      "metadata": {
        "colab": {
          "base_uri": "https://localhost:8080/"
        },
        "id": "2K2lB5P30hJh",
        "outputId": "9f213728-a207-4080-f15b-14e72d51fff9"
      },
      "execution_count": null,
      "outputs": [
        {
          "output_type": "execute_result",
          "data": {
            "text/plain": [
              "1"
            ]
          },
          "metadata": {},
          "execution_count": 137
        }
      ]
    },
    {
      "cell_type": "code",
      "source": [
        "next(g)"
      ],
      "metadata": {
        "colab": {
          "base_uri": "https://localhost:8080/"
        },
        "id": "T9dOeVvi0res",
        "outputId": "4ee42808-6ac3-411f-b115-ba50df9587cf"
      },
      "execution_count": null,
      "outputs": [
        {
          "output_type": "execute_result",
          "data": {
            "text/plain": [
              "2"
            ]
          },
          "metadata": {},
          "execution_count": 138
        }
      ]
    },
    {
      "cell_type": "code",
      "source": [
        "def generator():\n",
        "    for i in range(6):\n",
        "        yield i*i\n",
        "\n",
        "g = generator()\n",
        "for i in g:\n",
        "    print(i)"
      ],
      "metadata": {
        "colab": {
          "base_uri": "https://localhost:8080/"
        },
        "id": "3NC-QJK80zl6",
        "outputId": "65c3c015-452f-41a7-c43b-8a1866c95a54"
      },
      "execution_count": null,
      "outputs": [
        {
          "output_type": "stream",
          "name": "stdout",
          "text": [
            "0\n",
            "1\n",
            "4\n",
            "9\n",
            "16\n",
            "25\n"
          ]
        }
      ]
    },
    {
      "cell_type": "code",
      "source": [
        "def a_void_function():\n",
        "    a = 1\n",
        "    b = 2\n",
        "    c = a + b\n",
        "\n",
        "x = a_void_function()\n",
        "print(x)"
      ],
      "metadata": {
        "colab": {
          "base_uri": "https://localhost:8080/"
        },
        "id": "inb6CKBg0_RV",
        "outputId": "2182eb7a-b91e-4df0-d2bb-516a999a7730"
      },
      "execution_count": null,
      "outputs": [
        {
          "output_type": "stream",
          "name": "stdout",
          "text": [
            "None\n"
          ]
        }
      ]
    },
    {
      "cell_type": "code",
      "source": [
        "def improper_return_function(a):\n",
        "    if (a % 2) == 0:\n",
        "        return True\n",
        "\n",
        "x = improper_return_function(3)\n",
        "print(x)"
      ],
      "metadata": {
        "colab": {
          "base_uri": "https://localhost:8080/"
        },
        "id": "kSK2USZw1Gii",
        "outputId": "a92ab1c3-7041-4433-e83f-09d97ebdf335"
      },
      "execution_count": null,
      "outputs": [
        {
          "output_type": "stream",
          "name": "stdout",
          "text": [
            "None\n"
          ]
        }
      ]
    },
    {
      "cell_type": "code",
      "source": [
        "# The async and await keywords are provided by the asyncio library in Python. They are used to write concurrent code in Python.\n",
        "import asyncio\n",
        "\n",
        "async def main():\n",
        "    print('Hello')\n",
        "    await asyncio.sleep(1)\n",
        "    print('world')"
      ],
      "metadata": {
        "id": "pNU01Kjd1RjF"
      },
      "execution_count": null,
      "outputs": []
    },
    {
      "cell_type": "code",
      "source": [
        "#In the above program, the async keyword specifies that the function will be executed asynchronously.\n",
        "asyncio.run(main())"
      ],
      "metadata": {
        "colab": {
          "base_uri": "https://localhost:8080/",
          "height": 263
        },
        "id": "WSSJydEp1ecX",
        "outputId": "fd81f618-045d-447f-b6a4-1234b8ddfaf8"
      },
      "execution_count": null,
      "outputs": [
        {
          "output_type": "error",
          "ename": "RuntimeError",
          "evalue": "asyncio.run() cannot be called from a running event loop",
          "traceback": [
            "\u001b[0;31m---------------------------------------------------------------------------\u001b[0m",
            "\u001b[0;31mRuntimeError\u001b[0m                              Traceback (most recent call last)",
            "\u001b[0;32m<ipython-input-146-eaadc83a82ea>\u001b[0m in \u001b[0;36m<cell line: 1>\u001b[0;34m()\u001b[0m\n\u001b[0;32m----> 1\u001b[0;31m \u001b[0masyncio\u001b[0m\u001b[0;34m.\u001b[0m\u001b[0mrun\u001b[0m\u001b[0;34m(\u001b[0m\u001b[0mmain\u001b[0m\u001b[0;34m(\u001b[0m\u001b[0;34m)\u001b[0m\u001b[0;34m)\u001b[0m\u001b[0;34m\u001b[0m\u001b[0;34m\u001b[0m\u001b[0m\n\u001b[0m",
            "\u001b[0;32m/usr/lib/python3.10/asyncio/runners.py\u001b[0m in \u001b[0;36mrun\u001b[0;34m(main, debug)\u001b[0m\n\u001b[1;32m     31\u001b[0m     \"\"\"\n\u001b[1;32m     32\u001b[0m     \u001b[0;32mif\u001b[0m \u001b[0mevents\u001b[0m\u001b[0;34m.\u001b[0m\u001b[0m_get_running_loop\u001b[0m\u001b[0;34m(\u001b[0m\u001b[0;34m)\u001b[0m \u001b[0;32mis\u001b[0m \u001b[0;32mnot\u001b[0m \u001b[0;32mNone\u001b[0m\u001b[0;34m:\u001b[0m\u001b[0;34m\u001b[0m\u001b[0;34m\u001b[0m\u001b[0m\n\u001b[0;32m---> 33\u001b[0;31m         raise RuntimeError(\n\u001b[0m\u001b[1;32m     34\u001b[0m             \"asyncio.run() cannot be called from a running event loop\")\n\u001b[1;32m     35\u001b[0m \u001b[0;34m\u001b[0m\u001b[0m\n",
            "\u001b[0;31mRuntimeError\u001b[0m: asyncio.run() cannot be called from a running event loop"
          ]
        }
      ]
    },
    {
      "cell_type": "code",
      "source": [
        "#break will end the smallest loop it is in and control flows to the statement immediately below the loop.\n",
        "\n",
        "for i in range(1,11):\n",
        "    if i == 5:\n",
        "        break\n",
        "    print(i)"
      ],
      "metadata": {
        "colab": {
          "base_uri": "https://localhost:8080/"
        },
        "id": "dblcC8x01qs0",
        "outputId": "f57cc042-71ca-40ec-f5ae-6f422b863276"
      },
      "execution_count": null,
      "outputs": [
        {
          "output_type": "stream",
          "name": "stdout",
          "text": [
            "1\n",
            "2\n",
            "3\n",
            "4\n"
          ]
        }
      ]
    },
    {
      "cell_type": "code",
      "source": [
        "# continue causes to end the current iteration of the loop, but not the whole loop.\n",
        "for i in range(1,11):\n",
        "    if i == 5:\n",
        "        continue\n",
        "    print(i)"
      ],
      "metadata": {
        "colab": {
          "base_uri": "https://localhost:8080/"
        },
        "id": "wQiOoMg611UG",
        "outputId": "96dcb4e2-5578-4edc-d3ea-caedae0d6931"
      },
      "execution_count": null,
      "outputs": [
        {
          "output_type": "stream",
          "name": "stdout",
          "text": [
            "1\n",
            "2\n",
            "3\n",
            "4\n",
            "6\n",
            "7\n",
            "8\n",
            "9\n",
            "10\n"
          ]
        }
      ]
    },
    {
      "cell_type": "code",
      "source": [
        "def my_function(x):\n",
        "    return x * 2\n",
        "\n",
        "print(my_function(7))"
      ],
      "metadata": {
        "colab": {
          "base_uri": "https://localhost:8080/"
        },
        "id": "nh_qx5s535Kw",
        "outputId": "36b3d2fa-abb3-47ae-a4df-a9563647ac84"
      },
      "execution_count": null,
      "outputs": [
        {
          "output_type": "stream",
          "name": "stdout",
          "text": [
            "14\n"
          ]
        }
      ]
    },
    {
      "cell_type": "code",
      "source": [
        "import numpy as np\n",
        "np.multiply(2,1)"
      ],
      "metadata": {
        "colab": {
          "base_uri": "https://localhost:8080/"
        },
        "id": "KgEb3VB14C9r",
        "outputId": "60b95fe2-1df6-474d-f6a9-f7a3536d4325"
      },
      "execution_count": null,
      "outputs": [
        {
          "output_type": "execute_result",
          "data": {
            "text/plain": [
              "2"
            ]
          },
          "metadata": {},
          "execution_count": 154
        }
      ]
    },
    {
      "cell_type": "code",
      "source": [
        "x = [\"a\", \"b\", \"c\", \"d\"]\n",
        "del(x[1])"
      ],
      "metadata": {
        "id": "5IwXp0TNBspF"
      },
      "execution_count": null,
      "outputs": []
    },
    {
      "cell_type": "code",
      "source": [
        "help(max)\n",
        "#?max"
      ],
      "metadata": {
        "colab": {
          "base_uri": "https://localhost:8080/"
        },
        "id": "GDwMxlD-E9px",
        "outputId": "8a141b60-3fbe-42aa-f6e8-2834b9c895a8"
      },
      "execution_count": null,
      "outputs": [
        {
          "output_type": "stream",
          "name": "stdout",
          "text": [
            "Help on built-in function max in module builtins:\n",
            "\n",
            "max(...)\n",
            "    max(iterable, *[, default=obj, key=func]) -> value\n",
            "    max(arg1, arg2, *args, *[, key=func]) -> value\n",
            "    \n",
            "    With a single iterable argument, return its biggest item. The\n",
            "    default keyword-only argument specifies an object to return if\n",
            "    the provided iterable is empty.\n",
            "    With two or more arguments, return the largest argument.\n",
            "\n"
          ]
        }
      ]
    },
    {
      "cell_type": "code",
      "source": [
        "# Assuming 'full' is a list\n",
        "full = [10, 65, 22, 11, 3, 78, 90]  # Example list\n",
        "\n",
        "# Sort 'full' in descending order\n",
        "full_sorted = sorted(full, reverse=True)"
      ],
      "metadata": {
        "id": "GPP2t6qgGuoC"
      },
      "execution_count": null,
      "outputs": []
    },
    {
      "cell_type": "code",
      "source": [
        "# Import the numpy package as np\n",
        "import numpy as np\n",
        "\n",
        "# Create list baseball\n",
        "baseball = [180, 215, 210, 210, 188, 176, 209, 200]\n",
        "\n",
        "# Create a numpy array from baseball: np_baseball\n",
        "np_baseball = np.array(baseball)\n",
        "\n",
        "# Print out type of np_baseball\n",
        "print(np_baseball)"
      ],
      "metadata": {
        "id": "LpR3HRsmPdcw"
      },
      "execution_count": null,
      "outputs": []
    },
    {
      "cell_type": "markdown",
      "source": [
        "# **pow() takes three arguments: base, exp, and mod. base and exp are required arguments, mod is an optional argument.**"
      ],
      "metadata": {
        "id": "__8vqosxFmix"
      }
    },
    {
      "cell_type": "markdown",
      "source": [
        "# **A list can have items from a mixture of datatypes, while an array must have items of all the same datatype.**"
      ],
      "metadata": {
        "id": "4AMsPWRe3oT5"
      }
    }
  ]
}